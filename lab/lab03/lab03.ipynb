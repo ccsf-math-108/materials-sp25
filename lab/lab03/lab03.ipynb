{
 "cells": [
  {
   "cell_type": "code",
   "execution_count": null,
   "metadata": {
    "deletable": false,
    "editable": false
   },
   "outputs": [],
   "source": [
    "# Initialize Otter\n",
    "import otter\n",
    "grader = otter.Notebook(\"lab03.ipynb\")"
   ]
  },
  {
   "cell_type": "markdown",
   "metadata": {},
   "source": [
    "<img src=\"./ccsf.png\" alt=\"CCSF Logo\" width=200px style=\"margin:0px -5px\">"
   ]
  },
  {
   "cell_type": "markdown",
   "metadata": {
    "tags": []
   },
   "source": [
    "# Lab 03: Tables"
   ]
  },
  {
   "cell_type": "markdown",
   "metadata": {},
   "source": [
    "---"
   ]
  },
  {
   "cell_type": "markdown",
   "metadata": {},
   "source": [
    "## References"
   ]
  },
  {
   "cell_type": "markdown",
   "metadata": {},
   "source": [
    "* [Sections 6.0 - 6.4 of the Textbook](https://ccsf-math-108.github.io/textbook/chapters/06/Tables.html)\n",
    "* [datascience Documentation](https://datascience.readthedocs.io/)\n",
    "* [Markdown Cheat Sheet](https://www.markdownguide.org/cheat-sheet/)"
   ]
  },
  {
   "cell_type": "markdown",
   "metadata": {},
   "source": [
    "---"
   ]
  },
  {
   "cell_type": "markdown",
   "metadata": {},
   "source": [
    "## Lab Assignment Reminders"
   ]
  },
  {
   "cell_type": "markdown",
   "metadata": {},
   "source": [
    "- 🚨 Make sure to run the code cell at the top of this notebook that starts with `# Initialize Otter` to load the auto-grader.\n",
    "- Your tasks are categorized as auto-graded (📍) and manually graded (📍🔎):\n",
    "    - **For all auto-graded tasks:**\n",
    "        - Replace the `...` in the provided code cell with your own code.\n",
    "        - Run the `grader.check` code cell to execute tests on your code.\n",
    "        - There are no hidden auto-grader tests in the lab assignments. This means if you pass the tests, you can assume you've completed the task successfully.\n",
    "    - **For all manually graded tasks:**\n",
    "        - You may need to provide your own response to the provided prompt. Replace the template text \"_Type your answer here, replacing this text._\" with your own words.\n",
    "        - You might need to produce a graphic or another output using code. Replace the `...` in the code cell to generate the image, table, etc.\n",
    "        - In either case, check your response with a classmate, a tutor, or the instructor before moving on.\n",
    "- Throughout this assignment and all future ones, please **do not re-assign variables** throughout the notebook! _For example, if you use `max_temperature` in your answer to one question, do not reassign it later on. Otherwise, you may fail tests that you thought you were passing previously!_\n",
    "- You may [submit](#Submit-Your-Assignment-to-Canvas) this assignment as many times as you want before the deadline. Your instructor will score the last version you submit once the deadline has passed.\n",
    "- **Collaborating on labs is encouraged!** You should rarely remain stuck for more than a few minutes on questions in labs, so ask an instructor or classmate for help. (Explaining things is beneficial, too -- the best way to solidify your knowledge of a subject is to explain it.) However, please don't just share answers."
   ]
  },
  {
   "cell_type": "markdown",
   "metadata": {},
   "source": [
    "---"
   ]
  },
  {
   "cell_type": "markdown",
   "metadata": {},
   "source": [
    "## Configure the Notebook"
   ]
  },
  {
   "cell_type": "markdown",
   "metadata": {},
   "source": [
    "Run the following cell to configure this Notebook."
   ]
  },
  {
   "cell_type": "code",
   "execution_count": null,
   "metadata": {},
   "outputs": [],
   "source": [
    "import numpy as np\n",
    "from datascience import *"
   ]
  },
  {
   "cell_type": "markdown",
   "metadata": {},
   "source": [
    "---"
   ]
  },
  {
   "cell_type": "markdown",
   "metadata": {},
   "source": [
    "## Loading Data"
   ]
  },
  {
   "cell_type": "markdown",
   "metadata": {},
   "source": [
    "---"
   ]
  },
  {
   "cell_type": "markdown",
   "metadata": {},
   "source": [
    "### CSV Files"
   ]
  },
  {
   "cell_type": "markdown",
   "metadata": {},
   "source": [
    "The CSV file `farmers_markets.csv` contains data on farmers' markets in the United States.  (The was data collected from [the USDA's website](https://apps.ams.usda.gov/FarmersMarketsExport/ExcelExport.aspx)). CSV (comma-separated values) refers to how the information in the file is organized. If you run the following code cell, you'll see the first 3 lines of the file and probably notice **how challenging it is to read**."
   ]
  },
  {
   "cell_type": "code",
   "execution_count": null,
   "metadata": {},
   "outputs": [],
   "source": [
    "!head -n 3 farmers_markets.csv"
   ]
  },
  {
   "cell_type": "markdown",
   "metadata": {},
   "source": [
    "To better display that information and to provide you with a collection of tools to work with the data, we will guide you in storing that CSV into a `Table` format."
   ]
  },
  {
   "cell_type": "markdown",
   "metadata": {},
   "source": [
    "---"
   ]
  },
  {
   "cell_type": "markdown",
   "metadata": {},
   "source": [
    "### `read_table`"
   ]
  },
  {
   "cell_type": "markdown",
   "metadata": {},
   "source": [
    "The `read_table` function from the `datascience` library helps you load the contents from a CSV file and store the information within a `Table`.\n",
    "\n",
    "Run the next cell to load the `farmers_markets` table."
   ]
  },
  {
   "cell_type": "code",
   "execution_count": null,
   "metadata": {
    "tags": []
   },
   "outputs": [],
   "source": [
    "farmers_markets = Table.read_table('farmers_markets.csv')"
   ]
  },
  {
   "cell_type": "markdown",
   "metadata": {},
   "source": [
    "After running that code cell, `farmers_markets` represents the table of information. In this lab and some future assignments, you are going to focus on working with these tables. If you run the following code cell, you'll see the contents of the table. \n",
    "\n",
    "* By default, Jupyter displays the first 10 rows of a table.\n",
    "* Notice that it shows `... (1671 rows omitted)` below the displayed table."
   ]
  },
  {
   "cell_type": "code",
   "execution_count": null,
   "metadata": {},
   "outputs": [],
   "source": [
    "farmers_markets"
   ]
  },
  {
   "cell_type": "markdown",
   "metadata": {},
   "source": [
    "Hopefully, that is a little easier to visualize compared to looking at the direct contents of the related CSV file! Now, you didn't do all of that just to visualize the information, you unlocked a collection of tools for you to engage with that data."
   ]
  },
  {
   "cell_type": "markdown",
   "metadata": {},
   "source": [
    "---"
   ]
  },
  {
   "cell_type": "markdown",
   "metadata": {},
   "source": [
    "## Attributes and Methods"
   ]
  },
  {
   "cell_type": "markdown",
   "metadata": {},
   "source": [
    "---"
   ]
  },
  {
   "cell_type": "markdown",
   "metadata": {},
   "source": [
    "When you create something in Python, such as a `Table` (or any object), you gain access to a collection of properties (attributes) and functions (methods) associated with that object's data type. These properties and methods provide ways to interact with, manipulate, and retrieve information from the object.\n",
    "\n",
    "*There are often many attributes and methods available, so it's common to use documentation and tools like artificial intelligence to explore and understand them. In this course, you will focus on a specific subset of these tools. We encourage you to use our reference materials and commit some of this syntax to memory rather than relying on artificial intelligence for learning.*"
   ]
  },
  {
   "cell_type": "markdown",
   "metadata": {},
   "source": [
    "---"
   ]
  },
  {
   "cell_type": "markdown",
   "metadata": {},
   "source": [
    "## Some `Table` Attributes and Methods"
   ]
  },
  {
   "cell_type": "markdown",
   "metadata": {},
   "source": [
    "---"
   ]
  },
  {
   "cell_type": "markdown",
   "metadata": {},
   "source": [
    "### `show`"
   ]
  },
  {
   "cell_type": "markdown",
   "metadata": {},
   "source": [
    "Earlier, you were able to preview the `farmers_market` table by using its name, but how can you look at a specific number of rows or the entire table? The `show` table method in the `datascience` library is used to *display* a subset of rows from a `Table`. This method is handy for quickly inspecting the data.\n",
    "\n",
    "* By default, `tbl.show()` displays all of the rows from the table `tbl`.\n",
    "* You can specify the number of rows to display by passing a number as an argument.\n",
    "\n",
    "For example, the following code shows the first 10 rows of the `farmers_market` table."
   ]
  },
  {
   "cell_type": "code",
   "execution_count": null,
   "metadata": {},
   "outputs": [],
   "source": [
    "farmers_markets.show(10)"
   ]
  },
  {
   "cell_type": "markdown",
   "metadata": {},
   "source": [
    "This method is for visual inspection only and does not return a `Table` data type. Run the following code to see that the 10 rows are displayed, but the display has a `NoneType` for a data type."
   ]
  },
  {
   "cell_type": "code",
   "execution_count": null,
   "metadata": {},
   "outputs": [],
   "source": [
    "type(farmers_markets.show(10))"
   ]
  },
  {
   "cell_type": "markdown",
   "metadata": {},
   "source": [
    "In other words, running `farmers_markets` and `farmers_markets.show(10)` **do not do the same thing!**"
   ]
  },
  {
   "cell_type": "markdown",
   "metadata": {},
   "source": [
    "---"
   ]
  },
  {
   "cell_type": "markdown",
   "metadata": {},
   "source": [
    "#### Task 01 📍🔎"
   ]
  },
  {
   "cell_type": "markdown",
   "metadata": {},
   "source": [
    "Use the method `show` to display the first 5 rows of `farmers_markets`.\n",
    "\n",
    "Make sure to check your visualization with a classmate, a tutor, or the instructor before moving on since there is no auto-grader for this lab task.\n",
    "\n",
    "**Important Note:** Be careful to not to call `.show()` without an argument. There is a lot of information in the farmers market table and showing it all will crash your kernel!"
   ]
  },
  {
   "cell_type": "markdown",
   "metadata": {
    "deletable": false,
    "editable": false
   },
   "source": [
    "<!-- BEGIN QUESTION -->\n",
    "\n"
   ]
  },
  {
   "cell_type": "code",
   "execution_count": null,
   "metadata": {
    "tags": []
   },
   "outputs": [],
   "source": [
    "..."
   ]
  },
  {
   "cell_type": "markdown",
   "metadata": {
    "deletable": false,
    "editable": false
   },
   "source": [
    "<!-- END QUESTION -->\n",
    "\n",
    "Notice that some of the values in this table are missing, as denoted by `nan`. This means either that the value is not available (e.g. if we don’t know the market’s street address) or not applicable (e.g. if the market doesn’t have a street address). You'll also notice that the table has a large number of columns in it!"
   ]
  },
  {
   "cell_type": "markdown",
   "metadata": {},
   "source": [
    "---"
   ]
  },
  {
   "cell_type": "markdown",
   "metadata": {},
   "source": [
    "### `num_columns`"
   ]
  },
  {
   "cell_type": "markdown",
   "metadata": {},
   "source": [
    "The table attribute `num_columns` returns the number of columns in a table. Running `tbl.num_columns` would provide you with the number of columns in the table `tbl`. Notice that `num_columns` is not a function, so you don't use `()` at the end. Think of `num_columns` as a variable name with specific stored information about the table."
   ]
  },
  {
   "cell_type": "markdown",
   "metadata": {},
   "source": [
    "---"
   ]
  },
  {
   "cell_type": "markdown",
   "metadata": {},
   "source": [
    "#### Task 02 📍"
   ]
  },
  {
   "cell_type": "markdown",
   "metadata": {},
   "source": [
    "Use `num_columns` to find the number of columns in our farmers' markets dataset.\n",
    "\n",
    "Assign the number of columns to `num_farmers_markets_columns`."
   ]
  },
  {
   "cell_type": "code",
   "execution_count": null,
   "metadata": {
    "tags": []
   },
   "outputs": [],
   "source": [
    "num_farmers_markets_columns = ...\n",
    "print(\"The table has\", num_farmers_markets_columns, \"columns in it!\")"
   ]
  },
  {
   "cell_type": "code",
   "execution_count": null,
   "metadata": {
    "deletable": false,
    "editable": false
   },
   "outputs": [],
   "source": [
    "grader.check(\"task_02\")"
   ]
  },
  {
   "cell_type": "markdown",
   "metadata": {},
   "source": [
    "---"
   ]
  },
  {
   "cell_type": "markdown",
   "metadata": {},
   "source": [
    "### `num_rows`"
   ]
  },
  {
   "cell_type": "markdown",
   "metadata": {},
   "source": [
    "Similarly, the attribute `num_rows` tells you how many rows are in a table. Run the following cell to see how that table property can be accessed."
   ]
  },
  {
   "cell_type": "code",
   "execution_count": null,
   "metadata": {},
   "outputs": [],
   "source": [
    "num_farmers_markets_rows = farmers_markets.num_rows\n",
    "print(\"The table has\", num_farmers_markets_rows, \"rows in it!\")"
   ]
  },
  {
   "cell_type": "markdown",
   "metadata": {},
   "source": [
    "---"
   ]
  },
  {
   "cell_type": "markdown",
   "metadata": {},
   "source": [
    "### `select` and `drop`"
   ]
  },
  {
   "cell_type": "markdown",
   "metadata": {},
   "source": [
    "Most of the columns in `farmers_markets` are about particular products -- whether the market sells tofu, pet food, etc.  If we're not interested in that information, it just makes the table difficult to read and potentially slows down the computer if we work with the table. This comes up more than you might think, because people who collect and publish data may not know ahead of time what people will want to do with it.\n",
    "\n",
    "In such situations, we can use the table method `select` to choose only the columns that we want in a particular table. It takes any number of arguments. Each should be the name of a column in the table. It returns a new table with only those columns in it. The columns are in the order *in which they were listed as arguments*.\n",
    "\n",
    "For example, the value of `farmers_markets.select(\"MarketName\", \"State\")` is a table with only the name and the state of each farmers' market in `farmers_markets`."
   ]
  },
  {
   "cell_type": "markdown",
   "metadata": {},
   "source": [
    "---"
   ]
  },
  {
   "cell_type": "markdown",
   "metadata": {},
   "source": [
    "#### Task 03 📍"
   ]
  },
  {
   "cell_type": "markdown",
   "metadata": {},
   "source": [
    "Use `select` to create a table with only the name, city, county, state, longitude (`x`), and latitude (`y`) of each market, in that order. Assign that new table to the name `farmers_markets_locations`. \n",
    "\n",
    "**Note:** We didn't create the column names (and their format), they come directly from the United States Department of Agriculture data resource. Make sure to be exact when using column names with `select`. Double-check capitalization! Also, in this task, the order of the columns matters."
   ]
  },
  {
   "cell_type": "code",
   "execution_count": null,
   "metadata": {
    "tags": []
   },
   "outputs": [],
   "source": [
    "farmers_markets_locations = ...\n",
    "farmers_markets_locations"
   ]
  },
  {
   "cell_type": "code",
   "execution_count": null,
   "metadata": {
    "deletable": false,
    "editable": false
   },
   "outputs": [],
   "source": [
    "grader.check(\"task_03\")"
   ]
  },
  {
   "cell_type": "markdown",
   "metadata": {},
   "source": [
    "---"
   ]
  },
  {
   "cell_type": "markdown",
   "metadata": {},
   "source": [
    "### `drop`"
   ]
  },
  {
   "cell_type": "markdown",
   "metadata": {},
   "source": [
    "`drop` serves the similar purpose as `select`, but it takes away the columns that you provide rather than the ones that you don't provide. Like `select`, `drop` returns a new table.\n",
    "\n",
    "For example, the following code would create a copy of the `farmers_markets` table without the `FMID` and `updateTime` columns."
   ]
  },
  {
   "cell_type": "code",
   "execution_count": null,
   "metadata": {
    "scrolled": true
   },
   "outputs": [],
   "source": [
    "farmers_markets.drop(\"FMID\", \"updateTime\")"
   ]
  },
  {
   "cell_type": "markdown",
   "metadata": {},
   "source": [
    "---"
   ]
  },
  {
   "cell_type": "markdown",
   "metadata": {},
   "source": [
    "### `where`"
   ]
  },
  {
   "cell_type": "markdown",
   "metadata": {},
   "source": [
    "Now let's say we want a table of all farmers' markets in California. We can use the table method `where` to do this. \n",
    "\n",
    "Run the following cell to filter the table to include only California farmers' markets."
   ]
  },
  {
   "cell_type": "code",
   "execution_count": null,
   "metadata": {},
   "outputs": [],
   "source": [
    "california_farmers_markets = farmers_markets_locations.where('State', are.equal_to('California'))\n",
    "california_farmers_markets"
   ]
  },
  {
   "cell_type": "markdown",
   "metadata": {},
   "source": [
    "Ignore the syntax for the moment.  Instead, try to read that line like this:\n",
    "\n",
    "> Assign the name **`california_farmers_markets`** to a table whose rows are the rows in the **`farmers_markets_locations`** table **`where`** the **`'State'`**s **`are` `equal` `to` `California`**."
   ]
  },
  {
   "cell_type": "markdown",
   "metadata": {},
   "source": [
    "Let's dive into the details a bit more.  `where` takes 2 arguments:\n",
    "\n",
    "1. The name of a column.  `where` finds rows where that column's values meet some criterion.\n",
    "2. A predicate that describes the criterion that the column needs to meet.\n",
    "\n",
    "The predicate in the example above called the function `are.equal_to` with the value we wanted, 'California'.  We'll see other predicates soon.\n",
    "\n",
    "`where` returns a table that's a copy of the original table, but **with only the rows that meet the given predicate**."
   ]
  },
  {
   "cell_type": "markdown",
   "metadata": {},
   "source": [
    "---"
   ]
  },
  {
   "cell_type": "markdown",
   "metadata": {},
   "source": [
    "#### Task 04 📍"
   ]
  },
  {
   "cell_type": "markdown",
   "metadata": {},
   "source": [
    "Use `california_farmers_markets` to create a table called `sf_markets` containing farmers' markets in San Francisco, California. \n",
    "\n",
    "**Note:** These aren't all of the markets in the city, but they are the markets listed in USDA's data set."
   ]
  },
  {
   "cell_type": "code",
   "execution_count": null,
   "metadata": {
    "tags": []
   },
   "outputs": [],
   "source": [
    "sf_markets = ...\n",
    "sf_markets"
   ]
  },
  {
   "cell_type": "code",
   "execution_count": null,
   "metadata": {
    "deletable": false,
    "editable": false
   },
   "outputs": [],
   "source": [
    "grader.check(\"task_04\")"
   ]
  },
  {
   "cell_type": "markdown",
   "metadata": {},
   "source": [
    "So far we've only been using `where` with the predicate that requires finding the values in a column to be *exactly* equal to a certain value. However, there are many other predicates. Here are a few:\n",
    "\n",
    "|Predicate|Example|Result|\n",
    "|-|-|-|\n",
    "|`are.equal_to`|`are.equal_to(50)`|Find rows with values equal to 50|\n",
    "|`are.not_equal_to`|`are.not_equal_to(50)`|Find rows with values not equal to 50|\n",
    "|`are.above`|`are.above(50)`|Find rows with values above (and not equal to) 50|\n",
    "|`are.above_or_equal_to`|`are.above_or_equal_to(50)`|Find rows with values above 50 or equal to 50|\n",
    "|`are.below`|`are.below(50)`|Find rows with values below 50|\n",
    "|`are.between`|`are.between(2, 10)`|Find rows with values above or equal to 2 and below 10|\n",
    "|`are.containing`|`are.containing('Data Science')`|Find rows with values that contain the substring `'Data Science'`|\n",
    "\n",
    "Next, you are going to practice using some of those predicates to filter the data in the table. For additional predicates, see the Code Reference [Table Filtering Predicates section](https://ccsf-math-108.github.io/materials-sp25/resources/code-reference.html#table-filtering-predicates)."
   ]
  },
  {
   "cell_type": "markdown",
   "metadata": {},
   "source": [
    "---"
   ]
  },
  {
   "cell_type": "markdown",
   "metadata": {
    "tags": []
   },
   "source": [
    "#### Task 05 📍"
   ]
  },
  {
   "cell_type": "markdown",
   "metadata": {
    "deletable": false,
    "editable": false
   },
   "source": [
    "There are many cities in California with the \"San\" (which means \"Saint\" in Spanish) in their name due to Spanish colonization and the establishment of Catholic missions during the 18th and early 19th centuries.\n",
    "\n",
    "Assign `san_farmers_markets` to a table containing all the information from `california_farmers_markets` where the city contains the sub-name `San `.\n",
    "\n",
    "**Note**: Make sure to include the space after \"San\", so you don't include places like Santa Clara."
   ]
  },
  {
   "cell_type": "code",
   "execution_count": null,
   "metadata": {
    "tags": []
   },
   "outputs": [],
   "source": [
    "san_farmers_markets = ...\n",
    "san_farmers_markets"
   ]
  },
  {
   "cell_type": "code",
   "execution_count": null,
   "metadata": {
    "deletable": false,
    "editable": false
   },
   "outputs": [],
   "source": [
    "grader.check(\"task_05\")"
   ]
  },
  {
   "cell_type": "markdown",
   "metadata": {},
   "source": [
    "---"
   ]
  },
  {
   "cell_type": "markdown",
   "metadata": {
    "tags": []
   },
   "source": [
    "#### Task 06 📍"
   ]
  },
  {
   "cell_type": "markdown",
   "metadata": {
    "deletable": false,
    "editable": false
   },
   "source": [
    "<a href=\"https://commons.wikimedia.org/wiki/File:Location_Map_San_Francisco_Bay_Area.png\"><img src=\"./Bay_Area.png\" alt=\"A map of the San Francisco Bay Area\" width=400px></a>\n",
    "\n",
    "Wikipedia **defines** the San Francisco Bay Area by the following border coordinates:\n",
    "\n",
    "* 38.2033 - Latitude at top edge of map, in decimal degrees\n",
    "* 37.1897 - Latitude at bottom edge of map, in decimal degrees\n",
    "* -122.6445 - Longitude at left edge of map, in decimal degrees\n",
    "* -121.5871 - Longitude at right edge of map, in decimal degrees\n",
    "\n",
    "Assign `bay_area_farmers_markets` to a table that only contains the information from the `farmers_markets` table within the described Bay Area coordinates. \n",
    "\n",
    "**Notes**: \n",
    "* Remember that you can chain together functions like `where`.\n",
    "* It doesn't matter if you include the coordinate boundaries in this task.\n",
    "* **Defining** what the Bay Area is might be a divisive topic! 🫣"
   ]
  },
  {
   "cell_type": "code",
   "execution_count": null,
   "metadata": {
    "tags": []
   },
   "outputs": [],
   "source": [
    "top = ...\n",
    "bottom = ...\n",
    "left = ...\n",
    "right = ...\n",
    "bay_area_farmers_markets = ...\n",
    "bay_area_farmers_markets"
   ]
  },
  {
   "cell_type": "code",
   "execution_count": null,
   "metadata": {
    "deletable": false,
    "editable": false
   },
   "outputs": [],
   "source": [
    "grader.check(\"task_06\")"
   ]
  },
  {
   "cell_type": "markdown",
   "metadata": {},
   "source": [
    "---"
   ]
  },
  {
   "cell_type": "markdown",
   "metadata": {},
   "source": [
    "### `take`"
   ]
  },
  {
   "cell_type": "markdown",
   "metadata": {},
   "source": [
    "You might recall from early in this notebook that the `tbl.show(5)` will display the first 5 rows of the table `tbl`, but it doesn't output a table. So, what should you use if you want to actually make a table with only the first 5 rows of some other table?\n",
    "\n",
    "The `take` table method can help you do this. If you run `tbl.take(5)`, then you won't end up with the first 5 rows of `tbl`. Instead, you'll produce a table with the 6th row of the `tbl` because it assumed that `5` refers to the row index 5 (aka the 6th row). \n",
    "\n",
    "Run the following code cell to see this."
   ]
  },
  {
   "cell_type": "code",
   "execution_count": null,
   "metadata": {},
   "outputs": [],
   "source": [
    "farmers_markets.take(5)"
   ]
  },
  {
   "cell_type": "markdown",
   "metadata": {},
   "source": [
    "In order to get the first 5 rows, you need to provide an array of row indices as an argument for `take`. Specifically, you need the row indices 0, 1, 2, 3, 4. Thankfully, you learned about `np.arange` previously as a way to generate a sequence of numbers like this (i.e. `np.arange(5)`)."
   ]
  },
  {
   "cell_type": "markdown",
   "metadata": {
    "tags": []
   },
   "source": [
    "#### Task 07 📍"
   ]
  },
  {
   "cell_type": "markdown",
   "metadata": {
    "deletable": false,
    "editable": false
   },
   "source": [
    "Assign `first_5_markets` to a table containing the information from the first 5 rows of `farmers_markets`."
   ]
  },
  {
   "cell_type": "code",
   "execution_count": null,
   "metadata": {
    "tags": []
   },
   "outputs": [],
   "source": [
    "first_5_markets = ...\n",
    "first_5_markets"
   ]
  },
  {
   "cell_type": "code",
   "execution_count": null,
   "metadata": {
    "deletable": false,
    "editable": false
   },
   "outputs": [],
   "source": [
    "grader.check(\"task_07\")"
   ]
  },
  {
   "cell_type": "markdown",
   "metadata": {},
   "source": [
    "---"
   ]
  },
  {
   "cell_type": "markdown",
   "metadata": {},
   "source": [
    "### `group`"
   ]
  },
  {
   "cell_type": "markdown",
   "metadata": {},
   "source": [
    "The `farmers_markets` table is initially set up to have one market per row, but what if you want to analyze the markets from the State perspective? For example, it could be helpful to count how many markets there are in each state.\n",
    "\n",
    "The `group` table method in the `datascience` library is a powerful tool for summarizing and aggregating data based on the unique values within one or more columns. It works by grouping rows in a table based on the distinct values in one or more specified columns.\n",
    "\n",
    "Run the following cell which takes `farmers_market_locations` and creates a new table that will group the farmers' markets by `'State'` and list the counts for the number of farmers' markets in each state. We will go into greater depth with the `group` method later in the course. Notice that the column of counts automatically gets the label of `count`."
   ]
  },
  {
   "cell_type": "code",
   "execution_count": null,
   "metadata": {},
   "outputs": [],
   "source": [
    "farmers_markets_locations.group('State')"
   ]
  },
  {
   "cell_type": "markdown",
   "metadata": {},
   "source": [
    "#### Task 08 📍"
   ]
  },
  {
   "cell_type": "markdown",
   "metadata": {
    "deletable": false,
    "editable": false
   },
   "source": [
    "For this task, use `group` to assign `markets_by_county` to a table containing a row for each county in `california_farmers_markets` with a column (`'County'`) for the name of the county and a column (`'count'`) showing the count of markets within that county."
   ]
  },
  {
   "cell_type": "code",
   "execution_count": null,
   "metadata": {
    "tags": []
   },
   "outputs": [],
   "source": [
    "markets_by_county = ...\n",
    "markets_by_county"
   ]
  },
  {
   "cell_type": "code",
   "execution_count": null,
   "metadata": {
    "deletable": false,
    "editable": false
   },
   "outputs": [],
   "source": [
    "grader.check(\"task_08\")"
   ]
  },
  {
   "cell_type": "markdown",
   "metadata": {},
   "source": [
    "---"
   ]
  },
  {
   "cell_type": "markdown",
   "metadata": {},
   "source": [
    "### `sort`"
   ]
  },
  {
   "cell_type": "markdown",
   "metadata": {},
   "source": [
    "Notice that `farmers_markets_locations.group('State')` sorted the information such that the states are in alphabetical order. If you want to re-organize the table to show the states with the most markets at the top, then you'd want to use the `sort` table method.\n",
    "\n",
    "You need to provide `sort` with the column name (or index) you want to sort by and the information will be sorted in ascending order by default.\n",
    "\n",
    "Run the following cell to find the states in the data set with the least farmers' markets."
   ]
  },
  {
   "cell_type": "code",
   "execution_count": null,
   "metadata": {},
   "outputs": [],
   "source": [
    "farmers_markets_locations.group('State').sort('count')"
   ]
  },
  {
   "cell_type": "markdown",
   "metadata": {},
   "source": [
    "If you want the largest counts at the top of the table, you'd need to sort in descending order. You can do this by adjusting the `descending` argument to have a value of `True`. Specifically, you could type `.sort('count', descending=True)`."
   ]
  },
  {
   "cell_type": "markdown",
   "metadata": {},
   "source": [
    "---"
   ]
  },
  {
   "cell_type": "markdown",
   "metadata": {
    "tags": []
   },
   "source": [
    "#### Task 09 📍"
   ]
  },
  {
   "cell_type": "markdown",
   "metadata": {
    "deletable": false,
    "editable": false
   },
   "source": [
    "Assign `sorted_markets_by_county` to a table containing the information in `markets_by_county` sorted such that the counts are in descending order and the counties with the largest counts are at the top of the table."
   ]
  },
  {
   "cell_type": "code",
   "execution_count": null,
   "metadata": {
    "tags": []
   },
   "outputs": [],
   "source": [
    "sorted_markets_by_county = ...\n",
    "sorted_markets_by_county"
   ]
  },
  {
   "cell_type": "code",
   "execution_count": null,
   "metadata": {
    "deletable": false,
    "editable": false
   },
   "outputs": [],
   "source": [
    "grader.check(\"task_09\")"
   ]
  },
  {
   "cell_type": "markdown",
   "metadata": {},
   "source": [
    "---"
   ]
  },
  {
   "cell_type": "markdown",
   "metadata": {},
   "source": [
    "## Combining Commands and Using Documentation."
   ]
  },
  {
   "cell_type": "markdown",
   "metadata": {},
   "source": [
    "There are many more table operations. It is challenging to memorize them all and you do not need to do that! Instead, you can reference documentation such as the [`datascience` documentation page on `Tables`](https://datascience.readthedocs.io/en/master/tables.html) to get a summary of all the operations for tables."
   ]
  },
  {
   "cell_type": "markdown",
   "metadata": {
    "tags": []
   },
   "source": [
    "#### Task 10 📍"
   ]
  },
  {
   "cell_type": "markdown",
   "metadata": {
    "deletable": false,
    "editable": false
   },
   "source": [
    "Using a variety of tools you've learned about in this assignment and the [`relabeled` command](https://datascience.readthedocs.io/en/master/_autosummary/datascience.tables.Table.relabeled.html#datascience.tables.Table.relabeled) from the documentation, assign `top_10` to a table with two columns `'City'` and `'Number of Markets'` which contains the 10 cities with the most number of farmers markets according to the `farmers_markets` data set.\n",
    "\n",
    "**Note**:\n",
    "This task involves several tasks, we recommend trying to break this up into smaller steps and use intermediate variable names to store your progress."
   ]
  },
  {
   "cell_type": "code",
   "execution_count": null,
   "metadata": {
    "tags": []
   },
   "outputs": [],
   "source": [
    "top_10 = ...\n",
    "top_10"
   ]
  },
  {
   "cell_type": "code",
   "execution_count": null,
   "metadata": {
    "deletable": false,
    "editable": false
   },
   "outputs": [],
   "source": [
    "grader.check(\"task_10\")"
   ]
  },
  {
   "cell_type": "markdown",
   "metadata": {},
   "source": [
    "Great work so far! There is a lot to learn about `Tables`. Some of it we will guide you in specifically and other things require you to look through the documentation or ask for help about."
   ]
  },
  {
   "cell_type": "markdown",
   "metadata": {},
   "source": [
    "---"
   ]
  },
  {
   "cell_type": "markdown",
   "metadata": {},
   "source": [
    "## Submit Your Assignment to Canvas"
   ]
  },
  {
   "cell_type": "markdown",
   "metadata": {
    "jp-MarkdownHeadingCollapsed": true
   },
   "source": [
    "Follow these steps to submit your lab assignment:\n",
    "\n",
    "1. **Check the Assignment Completion Requirements:** This assignment is scored as Complete or Incomplete. Make sure to check with your instructor about their requirements for a Complete score. \n",
    "2. **Run the Auto-Grader:** Ensure you have executed the code cell containing the command `grader.check_all()` to run all tests for auto-graded tasks marked with 📍. This command will execute all auto-grader tests sequentially.\n",
    "3. **Complete Manually Graded Tasks:** Verify that you have responded to all the manually graded tasks marked with 📍🔎.\n",
    "4. **Save Your Work:** In the notebook's Toolbar, go to `File -> Save Notebook` to save your work and create a checkpoint.\n",
    "5. **Download the Notebook:** In the notebook's Toolbar, go to `File -> Download HTML` to download the HTML version (`.html`) of this notebook.\n",
    "6. **Upload to Canvas:** On the Canvas Assignment page, click \"Start Assignment\" or \"New Attempt\" to upload the downloaded `.html` file."
   ]
  },
  {
   "cell_type": "markdown",
   "metadata": {},
   "source": [
    "---"
   ]
  },
  {
   "cell_type": "markdown",
   "metadata": {
    "editable": true,
    "slideshow": {
     "slide_type": "notes"
    },
    "tags": []
   },
   "source": [
    "## Attribution"
   ]
  },
  {
   "cell_type": "markdown",
   "metadata": {},
   "source": [
    "This content is licensed under the <a href=\"https://creativecommons.org/licenses/by-nc-sa/4.0/\">Creative Commons Attribution-NonCommercial-ShareAlike 4.0 International License (CC BY-NC-SA 4.0)</a> and derived from the <a href=\"https://www.data8.org/\">Data 8: The Foundations of Data Science</a> offered by the University of California, Berkeley.\n",
    "\n",
    "<img src=\"./by-nc-sa.png\" width=100px>"
   ]
  },
  {
   "cell_type": "markdown",
   "metadata": {
    "deletable": false,
    "editable": false
   },
   "source": [
    "---\n",
    "\n",
    "To double-check your work, the cell below will rerun all of the autograder tests."
   ]
  },
  {
   "cell_type": "code",
   "execution_count": null,
   "metadata": {
    "deletable": false,
    "editable": false
   },
   "outputs": [],
   "source": [
    "grader.check_all()"
   ]
  }
 ],
 "metadata": {
  "hide_input": false,
  "kernelspec": {
   "display_name": "Python 3 (ipykernel)",
   "language": "python",
   "name": "python3"
  },
  "language_info": {
   "codemirror_mode": {
    "name": "ipython",
    "version": 3
   },
   "file_extension": ".py",
   "mimetype": "text/x-python",
   "name": "python",
   "nbconvert_exporter": "python",
   "pygments_lexer": "ipython3",
   "version": "3.11.9"
  },
  "otter": {
   "OK_FORMAT": true,
   "assignment_name": "lab03_sp25",
   "tests": {
    "task_02": {
     "name": "task_02",
     "points": null,
     "suites": [
      {
       "cases": [
        {
         "code": ">>> num_farmers_markets_columns == 59\nTrue",
         "failure_message": "❌ It doesn't seem that you have the correct value. Make sure you using .num_columns directly after the name of the table.",
         "hidden": false,
         "locked": false,
         "success_message": "✅ Great work!"
        }
       ],
       "scored": true,
       "setup": "",
       "teardown": "",
       "type": "doctest"
      }
     ]
    },
    "task_03": {
     "name": "task_03",
     "points": null,
     "suites": [
      {
       "cases": [
        {
         "code": ">>> sorted(farmers_markets_locations.labels) == ['County', 'MarketName', 'State', 'city', 'x', 'y']\nTrue",
         "failure_message": "❌ It doesn't seem that you have the correct columns. Make sure you are using the names of the 5 column, sepearted by commas, as the input for .select().",
         "hidden": false,
         "locked": false,
         "success_message": "✅ Great work. It seems you have the correct columns!"
        },
        {
         "code": ">>> farmers_markets_locations.num_rows == 1681 and farmers_markets_locations.sort('State').row(10).item(3) == 'Alabama'\nTrue",
         "failure_message": "❌ It doesn't seem that you all of the information from the table for those specific columns",
         "hidden": false,
         "locked": false,
         "success_message": "✅ Your table seems to have the correct information."
        }
       ],
       "scored": true,
       "setup": "",
       "teardown": "",
       "type": "doctest"
      }
     ]
    },
    "task_04": {
     "name": "task_04",
     "points": null,
     "suites": [
      {
       "cases": [
        {
         "code": ">>> sf_markets.num_rows == 3\nTrue",
         "failure_message": "❌ It doesn't seem that you have the correct number of markets. Make sure you are using the where method with the 'city' column as the first arugment and and correct city as the second argument",
         "hidden": false,
         "locked": false,
         "success_message": "✅ It seems you have the correct number of markets."
        },
        {
         "code": ">>> list(sf_markets.column('city')) == ['San Francisco', 'San Francisco', 'San Francisco']\nTrue",
         "failure_message": "❌ It doesn't seem that you have filtered the table to just San Francisco markets. Make sure to double-check your spelling.",
         "hidden": false,
         "locked": false,
         "success_message": "✅ You've filtered the table to just San Francisco markets."
        }
       ],
       "scored": true,
       "setup": "",
       "teardown": "",
       "type": "doctest"
      }
     ]
    },
    "task_05": {
     "name": "task_05",
     "points": null,
     "suites": [
      {
       "cases": [
        {
         "code": ">>> isinstance(san_farmers_markets, Table)\nTrue",
         "failure_message": "❌ san_farmers_markets is not assigned to a Table. We recommend that you use the where table method for this task.",
         "hidden": false,
         "locked": false,
         "points": 1,
         "success_message": "✅ san_farmers_markets is assigned to a Table."
        },
        {
         "code": ">>> set(san_farmers_markets.column('State')) == {'California'}\nTrue",
         "failure_message": "❌ san_farmers_markets should only contain markets from California. Make sure you are using the california_farmers_markets table.",
         "hidden": false,
         "locked": false,
         "points": 1,
         "success_message": "✅ san_farmers_markets contains only markets from California."
        },
        {
         "code": ">>> san_farmers_markets.num_rows\n12",
         "failure_message": "❌ san_farmers_markets doesn't contain the correct number of rows. Are you including the space after San?",
         "hidden": false,
         "locked": false,
         "points": 1,
         "success_message": "✅ san_farmers_markets contains the correct number of rows."
        },
        {
         "code": ">>> names_in_table = set(san_farmers_markets.column('MarketName'))\n>>> expected_names = {\"CalaverasGROWN Certified Farmers' Market San Andreas\", \"Cambrian Park Farmers' Market\", 'City Heights Certified Farmers Market', 'Ferry Plaza Farmers Market', 'Linda Vista Certified Farmers Market', 'Little Italy Mercato CFM', 'Mission Community Market', 'Ocean Beach Certified Farmers Market', 'SLO Farm Supply Farmers Market', 'San Francisco Certified Alemany Farmers Market', 'Thursday Marin Farmers Market', \"Willow Glen Farmers' Market\"}\n>>> names_in_table == expected_names\nTrue",
         "failure_message": "❌ san_farmers_markets doesn't seem correct. Are you using the are.containing predicate with the where method?",
         "hidden": false,
         "locked": false,
         "points": 1,
         "success_message": "✅ san_farmers_markets seems correct."
        }
       ],
       "scored": true,
       "setup": "",
       "teardown": "",
       "type": "doctest"
      }
     ]
    },
    "task_06": {
     "name": "task_06",
     "points": null,
     "suites": [
      {
       "cases": [
        {
         "code": ">>> isinstance(bay_area_farmers_markets, Table)\nTrue",
         "failure_message": "❌ bay_area_farmers_markets should be a Table. We recommend using the where table method for this one.",
         "hidden": false,
         "locked": false,
         "points": 1,
         "success_message": "✅ bay_area_farmers_markets is a Table."
        },
        {
         "code": ">>> np.all(bay_area_farmers_markets.column('y') <= 38.2033)\nTrue",
         "failure_message": "❌ You don't seem to have the top boundary accounted for. Try assigning top = 38.2033",
         "hidden": false,
         "locked": false,
         "points": 1,
         "success_message": "✅ You seem to have the top boundary accounted for."
        },
        {
         "code": ">>> np.all(bay_area_farmers_markets.column('y') >= 37.1897)\nTrue",
         "failure_message": "❌ You don't seem to have the bottom boundary accounted for. Try assigning bottom = 37.1897",
         "hidden": false,
         "locked": false,
         "points": 1,
         "success_message": "✅ You seem to have the bottom boundary accounted for."
        },
        {
         "code": ">>> np.all(bay_area_farmers_markets.column('x') >= -122.6445)\nTrue",
         "failure_message": "❌ You don't seem to have the left boundary accounted for. Try assigning left = -122.6445",
         "hidden": false,
         "locked": false,
         "points": 1,
         "success_message": "✅ You seem to have the left boundary accounted for."
        },
        {
         "code": ">>> np.all(bay_area_farmers_markets.column('x') <= -121.5871)\nTrue",
         "failure_message": "❌ You don't seem to have the right boundary accounted for. Try assigning right = -121.5871",
         "hidden": false,
         "locked": false,
         "points": 1,
         "success_message": "✅ You seem to have the right boundary accounted for."
        },
        {
         "code": ">>> bay_area_farmers_markets.num_rows\n28",
         "failure_message": "❌ bay_area_farmers_markets doesn't have the correct number of rows. Are you filtering by the x and the y values?",
         "hidden": false,
         "locked": false,
         "points": 1,
         "success_message": "✅ bay_area_farmers_markets has the correct number of rows."
        },
        {
         "code": ">>> provided_bay_area_markets = set(bay_area_farmers_markets.column('MarketName'))\n>>> actual_bay_area_markets = {'Benica Certified Farmers Market', \"California Avenue Farmers' Market\", \"Cambrian Park Farmers' Market\", \"Campbell Farmers' Market\", \"Coastside Farmers' Market - Half Moon Bay \", \"Coastside Farmers' Market - Rockaway Beach, Pacifica\", 'Downtown Berkeley', 'Downtown Novato Community Farmers Market', \"Downtown Palo Alto Farmers' Market\", 'Dublin', 'East Palo Alto Community Farmers Market', \"Fairfax Community Farmers' Market\", 'Ferry Plaza Farmers Market', \"Fresh Approach Mobile Farmers' Market\", \"Menlo Park Farmers' Market\", 'Mission Community Market', \"Montclair Village Farmers' Market\", \"North Berkeley Farmers' Market\", \"Old Oakland Farmers' Market\", 'Orinda Famers Market', 'San Francisco Certified Alemany Farmers Market', \"Santa Clara Farmers' Market\", \"South Berkeley Farmers' Market\", \"Sunnyvale Farmers' Market\", \"Temescal Urban Village Farmers' Market \", 'Thursday Marin Farmers Market', \"Walnut Creek Certified Farmers' Market\", \"Willow Glen Farmers' Market\"}\n>>> provided_bay_area_markets == actual_bay_area_markets\nTrue",
         "failure_message": "❌ bay_area_farmers_markets doesn't seem correct. We recommend using the where method twice with the are.between_or_equal_to predicate.",
         "hidden": false,
         "locked": false,
         "points": 1,
         "success_message": "✅ bay_area_farmers_markets seems correct."
        }
       ],
       "scored": true,
       "setup": "",
       "teardown": "",
       "type": "doctest"
      }
     ]
    },
    "task_07": {
     "name": "task_07",
     "points": null,
     "suites": [
      {
       "cases": [
        {
         "code": ">>> isinstance(first_5_markets, Table)\nTrue",
         "failure_message": "❌ first_5_markets doesn't reflect a Table. Are you using the take table method?",
         "hidden": false,
         "locked": false,
         "points": 1,
         "success_message": "✅ first_5_markets reflects a Table."
        },
        {
         "code": ">>> first_5_markets.num_rows == 5\nTrue",
         "failure_message": "❌ first_5_markets doesn't have the correct number of rows. Try using np.arange(5) as the argument to take.",
         "hidden": false,
         "locked": false,
         "points": 1,
         "success_message": "✅ first_5_markets has the correct number of rows."
        },
        {
         "code": ">>> first_5_market_names = set(first_5_markets.column('MarketName'))\n>>> actual_first_5_market_names = {' Caledonia Farmers Market Association - Danville', \"18th Street Farmer's Market\", \"26th Annual Highlands Business Partnership's Farmers Market\", \"29 Palms Farmers' Market\", '2nd Street Market - Five Rivers MetroPark'}\n>>> first_5_market_names == actual_first_5_market_names\nTrue",
         "failure_message": "❌ first_5_markets doesn't seem correct.",
         "hidden": false,
         "locked": false,
         "points": 1,
         "success_message": "✅ first_5_markets seems correct."
        }
       ],
       "scored": true,
       "setup": "",
       "teardown": "",
       "type": "doctest"
      }
     ]
    },
    "task_08": {
     "name": "task_08",
     "points": null,
     "suites": [
      {
       "cases": [
        {
         "code": ">>> isinstance(markets_by_county, Table)\nTrue",
         "failure_message": "❌ It doesn't seem that you made a table with the correct name.",
         "hidden": false,
         "locked": false,
         "success_message": "✅ You've made a table with the correct name."
        },
        {
         "code": ">>> set(markets_by_county.labels) == {'County', 'count'}\nTrue",
         "failure_message": "❌ markets_by_counts doesn't have the correct columns.",
         "hidden": false,
         "locked": false,
         "success_message": "✅ markets_by_counts has the correct columns."
        },
        {
         "code": ">>> sum(markets_by_county.column('count'))\n136",
         "failure_message": "❌ markets_by_counts doesn't seem correct. Your counts are not adding up to the correct number.",
         "hidden": false,
         "locked": false,
         "success_message": "✅ markets_by_counts seems correct."
        }
       ],
       "scored": true,
       "setup": "",
       "teardown": "",
       "type": "doctest"
      }
     ]
    },
    "task_09": {
     "name": "task_09",
     "points": null,
     "suites": [
      {
       "cases": [
        {
         "code": ">>> sorted_markets_by_county.column('count').item(0)\n28",
         "failure_message": "❌ sorted_markets_by_county doesn't have the correct first row. Are you using descending=True with the sort method?",
         "hidden": false,
         "locked": false,
         "points": 1,
         "success_message": "✅ sorted_markets_by_county has the correct first row."
        }
       ],
       "scored": true,
       "setup": "",
       "teardown": "",
       "type": "doctest"
      }
     ]
    },
    "task_10": {
     "name": "task_10",
     "points": null,
     "suites": [
      {
       "cases": [
        {
         "code": ">>> isinstance(top_10, Table)\nTrue",
         "failure_message": "❌ top_10 is not assigned to a Table.",
         "hidden": false,
         "locked": false,
         "points": 1,
         "success_message": "✅ top_10 is assigned to a Table."
        },
        {
         "code": ">>> top_10.num_rows\n10",
         "failure_message": "❌ top_10 should have 10 rows.",
         "hidden": false,
         "locked": false,
         "points": 1,
         "success_message": "✅ top_10 has 10 rows."
        },
        {
         "code": ">>> top_10.num_columns\n2",
         "failure_message": "❌ top_10 should have 2 columns.",
         "hidden": false,
         "locked": false,
         "points": 1,
         "success_message": "✅ top_10 has 2 columns."
        },
        {
         "code": ">>> set(top_10.labels) == {'City', 'Number of Markets'}\nTrue",
         "failure_message": "❌ top_10 doesn't have the correct column labels. Ask for help with the relabeled function.",
         "hidden": false,
         "locked": false,
         "points": 1,
         "success_message": "✅ top_10 has the correct column labels."
        },
        {
         "code": ">>> provided_top_10_cities = set(top_10.column('City'))\n>>> actual_top_10_cities = {'Atlanta', 'Chicago', 'Columbus', 'Honolulu', 'Houston', 'Los Angeles ', 'New York', 'Philadelphia', 'Portland', 'San Antonio'}\n>>> provided_top_10_cities == actual_top_10_cities\nTrue",
         "failure_message": "❌ top_10 doesn't seem correct. We imagined you using, the group, sort, take, and relabeled functions to complete this task.",
         "hidden": false,
         "locked": false,
         "points": 1,
         "success_message": "✅ top_10 seems correct."
        }
       ],
       "scored": true,
       "setup": "",
       "teardown": "",
       "type": "doctest"
      }
     ]
    }
   }
  },
  "toc-autonumbering": false,
  "toc-showmarkdowntxt": false
 },
 "nbformat": 4,
 "nbformat_minor": 4
}
