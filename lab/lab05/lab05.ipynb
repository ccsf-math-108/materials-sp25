{
 "cells": [
  {
   "cell_type": "code",
   "execution_count": null,
   "metadata": {
    "deletable": false,
    "editable": false
   },
   "outputs": [],
   "source": [
    "# Initialize Otter\n",
    "import otter\n",
    "grader = otter.Notebook(\"lab05.ipynb\")"
   ]
  },
  {
   "cell_type": "markdown",
   "metadata": {},
   "source": [
    "<img src=\"./ccsf.png\" alt=\"CCSF Logo\" width=200px style=\"margin:0px -5px\">"
   ]
  },
  {
   "cell_type": "markdown",
   "metadata": {},
   "source": [
    "# Lab 05: Data Manipulation"
   ]
  },
  {
   "cell_type": "markdown",
   "metadata": {},
   "source": [
    "## References"
   ]
  },
  {
   "cell_type": "markdown",
   "metadata": {},
   "source": [
    "* [Sections 8.2 - 8.5 of the Textbook](https://ccsf-math-108.github.io/textbook/chapters/08/2/Classifying_by_One_Variable.html)\n",
    "* [datascience Documentation](https://datascience.readthedocs.io/)"
   ]
  },
  {
   "cell_type": "markdown",
   "metadata": {},
   "source": [
    "---"
   ]
  },
  {
   "cell_type": "markdown",
   "metadata": {},
   "source": [
    "## Lab Assignment Reminders"
   ]
  },
  {
   "cell_type": "markdown",
   "metadata": {},
   "source": [
    "- 🚨 Make sure to run the code cell at the top of this notebook that starts with `# Initialize Otter` to load the auto-grader.\n",
    "- Your tasks are categorized as auto-graded (📍) and manually graded (📍🔎):\n",
    "    - **For all auto-graded tasks:**\n",
    "        - Replace the `...` in the provided code cell with your own code.\n",
    "        - Run the `grader.check` code cell to execute tests on your code.\n",
    "        - There are no hidden auto-grader tests in the lab assignments. This means if you pass the tests, you can assume you've completed the task successfully.\n",
    "    - **For all manually graded tasks:**\n",
    "        - You may need to provide your own response to the provided prompt. Replace the template text \"_Type your answer here, replacing this text._\" with your own words.\n",
    "        - You might need to produce a graphic or another output using code. Replace the `...` in the code cell to generate the image, table, etc.\n",
    "        - In either case, check your response with a classmate, a tutor, or the instructor before moving on.\n",
    "- Throughout this assignment and all future ones, please **do not re-assign variables** throughout the notebook! _For example, if you use `max_temperature` in your answer to one question, do not reassign it later on. Otherwise, you may fail tests that you thought you were passing previously!_\n",
    "- You may [submit](#Submit-Your-Assignment-to-Canvas) this assignment as many times as you want before the deadline. Your instructor will score the last version you submit once the deadline has passed.\n",
    "- **Collaborating on labs is encouraged!** You should rarely remain stuck for more than a few minutes on questions in labs, so ask an instructor or classmate for help. (Explaining things is beneficial, too -- the best way to solidify your knowledge of a subject is to explain it.) However, please don't just share answers."
   ]
  },
  {
   "cell_type": "markdown",
   "metadata": {},
   "source": [
    "---"
   ]
  },
  {
   "cell_type": "markdown",
   "metadata": {},
   "source": [
    "## Configure the Notebook"
   ]
  },
  {
   "cell_type": "markdown",
   "metadata": {},
   "source": [
    "Run the following cell to configure this Notebook."
   ]
  },
  {
   "cell_type": "code",
   "execution_count": null,
   "metadata": {},
   "outputs": [],
   "source": [
    "from datascience import *\n",
    "import numpy as np\n",
    "%matplotlib inline\n",
    "import matplotlib.pyplot as plt\n",
    "plt.style.use('fivethirtyeight')\n",
    "\n",
    "# Interactive Widgets\n",
    "from ipywidgets import interact, interactive, fixed, interact_manual\n",
    "import ipywidgets as widgets"
   ]
  },
  {
   "cell_type": "markdown",
   "metadata": {},
   "source": [
    "---"
   ]
  },
  {
   "cell_type": "markdown",
   "metadata": {},
   "source": [
    "## Joining Tables"
   ]
  },
  {
   "cell_type": "markdown",
   "metadata": {},
   "source": [
    "There are a  variety of reasons why data might be stored across multiple tables, and it might be necessary to combine data from 2 or more sources into one table. Think of joining tables like mixing ingredients to create a delicious recipe! When we use methods like `join` in the `datascience` Python library, we're basically combining different sets of data based on something they have in common, just like adding various ingredients to make a yummy dish. This helps us get a bigger picture of the data and discover exciting insights by bringing together information from different sources, making data analysis a bit like cooking up a data stew!"
   ]
  },
  {
   "cell_type": "markdown",
   "metadata": {},
   "source": [
    "For example, you might have customer data in two different tables:\n",
    "\n",
    "* A table called `customers` containing contact information.\n",
    "* A table called `purchase_history` containing information on the customer's latest purchases.\n",
    "\n",
    "Run the following code cell to create examples of such tables."
   ]
  },
  {
   "cell_type": "code",
   "execution_count": null,
   "metadata": {},
   "outputs": [],
   "source": [
    "customers = Table().with_columns(\n",
    "    'Name', ['Alice Johnson', 'Mohammed Khan', 'Maria García', 'Ling Chen'],\n",
    "    'Email', ['alice@example.com', 'mohammed@example.com', 'maria@example.com', 'ling@example.com'],\n",
    "    'Customer ID', [1, 2, 3, 4]\n",
    ")\n",
    "\n",
    "purchase_history = Table().with_columns(\n",
    "    'Customer Number', [1, 3, 4, 5, 1, 4, 4],\n",
    "    'Product', ['Widget', 'Gadget', 'Doodad', 'Thingamajig', 'Gadget', 'Widget', 'Doodad'],\n",
    "    'Ad', ['Yes', 'No', 'No', 'Yes', 'Yes', 'Yes', 'Yes'],\n",
    "    'Amount ($)', [10, 15, 8, 12, 15, 10, 8]\n",
    ")\n",
    "\n",
    "display(customers)\n",
    "display(purchase_history)"
   ]
  },
  {
   "cell_type": "markdown",
   "metadata": {},
   "source": [
    "You might want to put all this information in one table to more easily analyze the data or follow up with a customer about one of their purchases. The key to joining data is that there must be a clearly defined relation between the two tables. In this case, the link between the tables is the customer identification number. Customer 1, Alice Johnson (alice@example.com) has purchased a Widget for 10 dollars and a Gadget for 15 dollars. Both purchases were made through an advertisement link."
   ]
  },
  {
   "cell_type": "markdown",
   "metadata": {},
   "source": [
    "To use the join method from the `datascience` library, you'll typically have two tables, let's call them `tbl1` and `tbl2`, and you want to combine them based on a common key. Let's say that the key values are located in `'Column 1'` for `tbl1` and `'Column 2'` for `tbl2`.\n",
    "\n",
    "You could use `tbl1.join('Column 1', tbl2, 'Column 2')` to join these tables together, aligning rows with matching key values in `'Column 1'` and `'Column 2'` into a single table where the focus is placed on the column of `tbl1`.\n",
    "If you used `tbl2.join('Column 2', tb1, 'Column 1')`, you would also create a joined table, but the output would likely be different as the table would be created from the perspective of the column in `tbl2`."
   ]
  },
  {
   "cell_type": "markdown",
   "metadata": {},
   "source": [
    "---"
   ]
  },
  {
   "cell_type": "markdown",
   "metadata": {
    "tags": []
   },
   "source": [
    "### Task 01 📍"
   ]
  },
  {
   "cell_type": "markdown",
   "metadata": {
    "deletable": false,
    "editable": false
   },
   "source": [
    "Complete the following code to join the data in the `purchase_history` table with the data in the `customers` table. The resulting table should have 6 rows and the 6 columns `'Customer ID', 'Name', 'Email', 'Product', 'Ad', 'Amount ($)'`."
   ]
  },
  {
   "cell_type": "code",
   "execution_count": null,
   "metadata": {
    "tags": []
   },
   "outputs": [],
   "source": [
    "customer_data = customers.join(..., ..., ...)\n",
    "customer_data"
   ]
  },
  {
   "cell_type": "code",
   "execution_count": null,
   "metadata": {
    "deletable": false,
    "editable": false
   },
   "outputs": [],
   "source": [
    "grader.check(\"task_01\")"
   ]
  },
  {
   "cell_type": "markdown",
   "metadata": {},
   "source": [
    "---"
   ]
  },
  {
   "cell_type": "markdown",
   "metadata": {},
   "source": [
    "There are a few things to notice about how this `join` method worked. \n",
    "* Since you started with `customers`, it kept all the column labels of the `customers` table.\n",
    "* The `'Customer ID'` column was brought to the front of the table.\n",
    "* The columns in `purchase_history` that were not used to join the data (`'Product'`, `'Ad'`, and `'Amount ($)'`) were added to the end of the table.\n",
    "* The label `'Customer Number'` doesn't appear in the resulting table.\n",
    "* There is no customer contact data for customer number 5 so that information is missing from the joined table.\n",
    "* Customer with ID 2 does not have any purchase history so that information is missing from the joined table."
   ]
  },
  {
   "cell_type": "markdown",
   "metadata": {},
   "source": [
    "---"
   ]
  },
  {
   "cell_type": "markdown",
   "metadata": {},
   "source": [
    "## Aggregation"
   ]
  },
  {
   "cell_type": "markdown",
   "metadata": {},
   "source": [
    "Aggregation refers to the process of summarizing and condensing large datasets into more manageable and meaningful insights. You've seen this in action through using functions like `np.average` and `np.sum`. In the context of the `datascience` library, more advanced aggregation can be achieved using table methods like `group` and `pivot`. \n",
    "\n",
    "* The `group` method allows you to group data by specific criteria, such as categories or attributes, and then apply aggregation functions (e.g., `sum`, `mean`, etc.) to calculate summary statistics within each group.\n",
    "* Pivot tables with the `pivot` method, on the other hand, enable you to restructure data to create a compact summary table, making it easier to analyze relationships between variables.\n",
    "\n",
    "These methods are essential for extracting valuable information and patterns from complex datasets."
   ]
  },
  {
   "cell_type": "markdown",
   "metadata": {},
   "source": [
    "---"
   ]
  },
  {
   "cell_type": "markdown",
   "metadata": {},
   "source": [
    "### Group"
   ]
  },
  {
   "cell_type": "markdown",
   "metadata": {},
   "source": [
    "The `group` table method has the general format `tbl.group(column_or_label, collect)`. You've worked with the group method without providing a function name for `collect`. The `collect` argument gives you a place to specify a function that you want to apply to all the values associated with the grouped labels.  \n",
    "\n",
    "By default, the `group` method counts up the number of rows in the table associated with the grouped values for the specified column. If you wanted to do something else besides counting the number of rows, then you'd provide a function name for `collect`. For example, `tbl.group('Column Label', np.min)` would apply the minimum function to all the grouped data based on the category values in the column `'Column Label'`. \n",
    "\n",
    "Run the following code to see how this works when we apply `np.min` to the grouped data from the previous task based on `'Name'` values. "
   ]
  },
  {
   "cell_type": "code",
   "execution_count": null,
   "metadata": {},
   "outputs": [],
   "source": [
    "customer_data.group('Name', np.min)"
   ]
  },
  {
   "cell_type": "markdown",
   "metadata": {},
   "source": [
    "It is important to know a few things about how using `group` with a collect function works.\n",
    "* The `np.min` function attempted to apply to every column of the table other than `'Name'`. In this case, if the column contains numerical values, it will return the minimum of the grouped values for each row. If the column doesn't contain numerical values, then it will return an empty value (The empty string `''` for example).\n",
    "* The columns of the resulting table will be `'Name'` and a column for each of the other columns in `customer_data` with the function name `min` added to the end of the label.\n",
    "\n",
    "You can reduce the number of columns using `select` or `drop` before you use the group method to get a more presentable table."
   ]
  },
  {
   "cell_type": "markdown",
   "metadata": {},
   "source": [
    "---"
   ]
  },
  {
   "cell_type": "markdown",
   "metadata": {
    "tags": []
   },
   "source": [
    "### Task 02 📍"
   ]
  },
  {
   "cell_type": "markdown",
   "metadata": {
    "deletable": false,
    "editable": false
   },
   "source": [
    "Using the `customer_data` table, create a table called `customer_averages` that shows the name and average purchase amount for each customer in the `customer_data` table. Your resulting table should have 3 rows and 2 columns. The column labels should be `'Name'` and `'Amount ($) average'`."
   ]
  },
  {
   "cell_type": "code",
   "execution_count": null,
   "metadata": {
    "tags": []
   },
   "outputs": [],
   "source": [
    "customer_averages = ...\n",
    "customer_averages"
   ]
  },
  {
   "cell_type": "code",
   "execution_count": null,
   "metadata": {
    "deletable": false,
    "editable": false
   },
   "outputs": [],
   "source": [
    "grader.check(\"task_02\")"
   ]
  },
  {
   "cell_type": "markdown",
   "metadata": {},
   "source": [
    "---"
   ]
  },
  {
   "cell_type": "markdown",
   "metadata": {},
   "source": [
    "Now that you have the purchase amount averages by customer, you might want to take this a step further by doing the same and considering whether or not the purchases were made using advertisements.\n",
    "\n",
    "You can group by more than one column using the `group` method by providing a list of column labels or indexes for the first argument of `group`. The format is `tbl.group(['Label 1', 'Label 2'], collect)`. This creates a table with a row for each unique grouping of values from both columns and calculates the averages for the grouped data (if `average` were in the collect argument)."
   ]
  },
  {
   "cell_type": "markdown",
   "metadata": {},
   "source": [
    "---"
   ]
  },
  {
   "cell_type": "markdown",
   "metadata": {
    "tags": []
   },
   "source": [
    "### Task 03 📍"
   ]
  },
  {
   "cell_type": "markdown",
   "metadata": {
    "deletable": false,
    "editable": false
   },
   "source": [
    "Using the `customer_data` table, create a 4-row and 3-column table called `customer_ad_averages` that contains a row for each combination of customer name and ad (Yes/No) pairing along with the average purchase amount. The labels should be `'Name', 'Ad', and 'Amount ($) average'`.\n",
    "\n",
    "**Tip**: Don't forget that you will probably want to reduce the `customer_data` table to the relevant columns first."
   ]
  },
  {
   "cell_type": "code",
   "execution_count": null,
   "metadata": {
    "tags": []
   },
   "outputs": [],
   "source": [
    "customer_ad_averages = ...\n",
    "customer_ad_averages"
   ]
  },
  {
   "cell_type": "code",
   "execution_count": null,
   "metadata": {
    "deletable": false,
    "editable": false
   },
   "outputs": [],
   "source": [
    "grader.check(\"task_03\")"
   ]
  },
  {
   "cell_type": "markdown",
   "metadata": {},
   "source": [
    "You should see that customer Ling Chen spends about 1 dollar more on average for purchases made through advertisements compared to purchases not made through advertisements. This is a small example of the more detailed analysis you can provide when aggregating your data across multiple categories."
   ]
  },
  {
   "cell_type": "markdown",
   "metadata": {},
   "source": [
    "---"
   ]
  },
  {
   "cell_type": "markdown",
   "metadata": {},
   "source": [
    "### Pivot"
   ]
  },
  {
   "cell_type": "markdown",
   "metadata": {},
   "source": [
    "A pivot table provides the same information you get from grouping by two columns, but the format is slightly different.\n",
    "\n",
    "Here are a few examples where using pivot over group can be advantageous:\n",
    "\n",
    "* Pivot tables are excellent for creating summary tables. If your goal is to create a structured summary table with row and column headers that represent specific categories, pivot is often more straightforward to use.\n",
    "* If your primary goal is to visualize data, pivot tables can be more useful. The resulting grid structure from a pivot table can be directly used in data visualization tools or libraries for creating bar charts or other visual representations of your data.\n",
    "* Pivot tables in the `datascience` library handle missing values differently compared with `group`. When using `pivot`, a placeholder of some kind is provided for missing combinations of values. On the other hand, `group` will leave out any missing combinations of values from the table.\n",
    "\n",
    "The first two arguments of `pivot` are important. \n",
    "* The first argument specifies the column where the pivot table column values will come from.\n",
    "* The second argument will specify the column where the pivot table row values in the first column come from.\n",
    "\n",
    "By default, the values inside the table come from the counts of how often the pair of column and row values occur in the data set. "
   ]
  },
  {
   "cell_type": "markdown",
   "metadata": {},
   "source": [
    "For example, run the following cell  to see the pivot table showing the number of purchases made by each customer through an advertisement or not. Notice that the `'Ad'` values appear as column labels."
   ]
  },
  {
   "cell_type": "code",
   "execution_count": null,
   "metadata": {},
   "outputs": [],
   "source": [
    "customer_data.pivot('Ad', 'Name')"
   ]
  },
  {
   "cell_type": "markdown",
   "metadata": {},
   "source": [
    "You can go further by specifying a third and fourth argument: `values` and `collect`. `values` identifies the column in the table to which the `collect` function will be applied in order to create the values inside the pivot table."
   ]
  },
  {
   "cell_type": "markdown",
   "metadata": {},
   "source": [
    "---"
   ]
  },
  {
   "cell_type": "markdown",
   "metadata": {
    "tags": []
   },
   "source": [
    "### Task 04 📍"
   ]
  },
  {
   "cell_type": "markdown",
   "metadata": {
    "deletable": false,
    "editable": false
   },
   "source": [
    "Using the `customer_data` table, create a pivot table `ad_name_pivot` that has a row for each customer name, a column for the `'Yes'` and `'No'` `'Ad'` values, and the average purchase amount for each pairing of customers and purchases made through advertisements or not. You won't need to reduce the `customer_data` table like you needed to do in previous tasks. This is another benefit of the `pivot` method!\n",
    "\n",
    "**Hint**: Use `'Amount ($)'` for the values and `'np.average'` for the collect function."
   ]
  },
  {
   "cell_type": "code",
   "execution_count": null,
   "metadata": {
    "tags": []
   },
   "outputs": [],
   "source": [
    "ad_name_pivot = ...\n",
    "ad_name_pivot"
   ]
  },
  {
   "cell_type": "code",
   "execution_count": null,
   "metadata": {
    "deletable": false,
    "editable": false
   },
   "outputs": [],
   "source": [
    "grader.check(\"task_04\")"
   ]
  },
  {
   "cell_type": "markdown",
   "metadata": {},
   "source": [
    "As you can see there are a lot of ways to organize and summarize data in a table. You'll gain a lot of experience with using the tools in this lab throughout the semester."
   ]
  },
  {
   "cell_type": "markdown",
   "metadata": {},
   "source": [
    "---"
   ]
  },
  {
   "cell_type": "markdown",
   "metadata": {},
   "source": [
    "## Nachos and Conditionals"
   ]
  },
  {
   "cell_type": "markdown",
   "metadata": {},
   "source": [
    "In Python, the boolean data type contains only two unique values:  `True` and `False`. Expressions containing comparison operators such as `<` (less than), `>` (greater than), and `==` (equal to) evaluate to Boolean values. A list of common comparison operators can be found below!\n",
    "\n",
    "| Comparison            | Operator | True example | False example |\n",
    "|-----------------------|----------|--------------|---------------|\n",
    "| Less than             | <        | 2 < 3        | 2 < 2         |\n",
    "| Great than            | >        | 3 > 2        | 3 > 3         |\n",
    "| Less than or equal    | <=       | 2 <= 2       | 3 <= 2        |\n",
    "| Greater than or equal | >=       | 3 >= 3       | 2 >= 3        |\n",
    "| Equal                 | ==       | 3 == 3       | 3 == 2        |\n",
    "| Not equal             | !=       | 3 != 2       | 2 != 2        |"
   ]
  },
  {
   "cell_type": "markdown",
   "metadata": {},
   "source": [
    "Run the cell below to see an example of a comparison operator in action."
   ]
  },
  {
   "cell_type": "code",
   "execution_count": null,
   "metadata": {},
   "outputs": [],
   "source": [
    "3 > 1 + 1"
   ]
  },
  {
   "cell_type": "markdown",
   "metadata": {},
   "source": [
    "We can even assign the result of a comparison operation to a variable."
   ]
  },
  {
   "cell_type": "code",
   "execution_count": null,
   "metadata": {},
   "outputs": [],
   "source": [
    "result = 10 / 2 == 5\n",
    "result"
   ]
  },
  {
   "cell_type": "markdown",
   "metadata": {},
   "source": [
    "Arrays are compatible with comparison operators. The output is an array of boolean values."
   ]
  },
  {
   "cell_type": "code",
   "execution_count": null,
   "metadata": {},
   "outputs": [],
   "source": [
    "make_array(1, 5, 7, 8, 3, -1) > 3"
   ]
  },
  {
   "cell_type": "markdown",
   "metadata": {},
   "source": [
    "One day, when you come home after a long week, you see a hot bowl of nachos waiting on the dining table! Let's say that whenever you take a nacho from the bowl, it will either have only **cheese**, only **salsa**, **both** cheese and salsa, or **neither** cheese nor salsa (a sad tortilla chip indeed). \n",
    "\n",
    "Let's try and simulate taking nachos from the bowl at random using the function, `np.random.choice(...)`."
   ]
  },
  {
   "cell_type": "markdown",
   "metadata": {},
   "source": [
    "---"
   ]
  },
  {
   "cell_type": "markdown",
   "metadata": {},
   "source": [
    "### `np.random.choice`"
   ]
  },
  {
   "cell_type": "markdown",
   "metadata": {},
   "source": [
    "`np.random.choice` picks one item at random from the given array. It is equally likely to pick any of the items. Run the cell below several times, and observe how the results change."
   ]
  },
  {
   "cell_type": "code",
   "execution_count": null,
   "metadata": {},
   "outputs": [],
   "source": [
    "nachos = make_array('cheese', 'salsa', 'both', 'neither')\n",
    "np.random.choice(nachos)"
   ]
  },
  {
   "cell_type": "markdown",
   "metadata": {},
   "source": [
    "To repeat this process multiple times, pass in an int `n` as the second argument to return `n` different random choices. By default, `np.random.choice` samples **with replacement** and returns an *array* of items. \n",
    "\n",
    "Run the next cell to see an example of sampling with replacement 10 times from the `nachos` array."
   ]
  },
  {
   "cell_type": "code",
   "execution_count": null,
   "metadata": {},
   "outputs": [],
   "source": [
    "np.random.choice(nachos, 10)"
   ]
  },
  {
   "cell_type": "markdown",
   "metadata": {},
   "source": [
    "To count the number of times a certain type of nacho is randomly chosen, we can use `np.count_nonzero`"
   ]
  },
  {
   "cell_type": "markdown",
   "metadata": {},
   "source": [
    "---"
   ]
  },
  {
   "cell_type": "markdown",
   "metadata": {},
   "source": [
    "### `np.count_nonzero`"
   ]
  },
  {
   "cell_type": "markdown",
   "metadata": {},
   "source": [
    "`np.count_nonzero` counts the number of non-zero values that appear in an array. When an array of boolean values are passed through the function, it will count the number of `True` values (remember that in Python, `True` is coded as 1 and `False` is coded as 0.)\n",
    "\n",
    "Run the next cell to see an example that uses `np.count_nonzero`."
   ]
  },
  {
   "cell_type": "code",
   "execution_count": null,
   "metadata": {},
   "outputs": [],
   "source": [
    "np.count_nonzero(make_array(True, False, False, True, True))"
   ]
  },
  {
   "cell_type": "markdown",
   "metadata": {},
   "source": [
    "---"
   ]
  },
  {
   "cell_type": "markdown",
   "metadata": {},
   "source": [
    "### Task 05 📍"
   ]
  },
  {
   "cell_type": "markdown",
   "metadata": {
    "deletable": false,
    "editable": false
   },
   "source": [
    "Assume we took ten nachos at random, and stored the results in an array called `ten_nachos` as done below. Find the number of nachos with only cheese using code (do not hardcode the answer).  \n",
    "\n",
    "*Hint:* Our solution involves a comparison operator (e.g. `=`, `<`, ...) and the `np.count_nonzero` method.\n"
   ]
  },
  {
   "cell_type": "code",
   "execution_count": null,
   "metadata": {
    "tags": []
   },
   "outputs": [],
   "source": [
    "ten_nachos = make_array('neither', 'cheese', 'both', 'both', 'cheese', 'salsa', 'both', 'neither', 'cheese', 'both')\n",
    "number_cheese = ...\n",
    "number_cheese"
   ]
  },
  {
   "cell_type": "code",
   "execution_count": null,
   "metadata": {
    "deletable": false,
    "editable": false
   },
   "outputs": [],
   "source": [
    "grader.check(\"task_05\")"
   ]
  },
  {
   "cell_type": "markdown",
   "metadata": {},
   "source": [
    "---"
   ]
  },
  {
   "cell_type": "markdown",
   "metadata": {},
   "source": [
    "### Conditional Statements"
   ]
  },
  {
   "cell_type": "markdown",
   "metadata": {},
   "source": [
    "A conditional statement is a multi-line statement that allows Python to choose among different alternatives based on the truth value of an expression.\n",
    "\n",
    "Here is a basic example.\n",
    "\n",
    "```\n",
    "def sign(x):\n",
    "    if x > 0:\n",
    "        return 'Positive'\n",
    "    else:\n",
    "        return 'Negative'\n",
    "```\n",
    "\n",
    "If the input `x` is greater than `0`, we return the string `'Positive'`. Otherwise, we return `'Negative'`.\n",
    "\n",
    "If we want to test multiple conditions at once, we use the following general format.\n",
    "\n",
    "```\n",
    "if <if expression>:\n",
    "    <if body>\n",
    "elif <elif expression 0>:\n",
    "    <elif body 0>\n",
    "elif <elif expression 1>:\n",
    "    <elif body 1>\n",
    "...\n",
    "else:\n",
    "    <else body>\n",
    "```\n",
    "\n",
    "Only the body for the first conditional expression that is true will be evaluated. Each `if` and `elif` expression is evaluated and considered in order, starting at the top. As soon as a true value is found, the corresponding body is executed, and the rest of the conditional statement is skipped. If none of the `if` or `elif` expressions are true, then the `else body` is executed. \n",
    "\n",
    "For more examples and explanation, refer to the [section on conditional statements in the course textbook](https://ccsf-math-108.github.io/textbook/chapters/09/1/Conditional_Statements.html)."
   ]
  },
  {
   "cell_type": "markdown",
   "metadata": {},
   "source": [
    "---"
   ]
  },
  {
   "cell_type": "markdown",
   "metadata": {},
   "source": [
    "### Task 06 📍"
   ]
  },
  {
   "cell_type": "markdown",
   "metadata": {
    "deletable": false,
    "editable": false
   },
   "source": [
    "Complete the following conditional statement so that the string `'More please'` is assigned to the variable `say_please` if the number of nachos with cheese in `ten_nachos` is less than `5`.\n",
    "\n",
    "*Hint*: You should be using `number_cheese` from a previous task.\n"
   ]
  },
  {
   "cell_type": "code",
   "execution_count": null,
   "metadata": {
    "for_assignment_type": "student",
    "tags": []
   },
   "outputs": [],
   "source": [
    "say_please = '?'\n",
    "\n",
    "if ...:\n",
    "    say_please = 'More please' \n",
    "\n",
    "say_please"
   ]
  },
  {
   "cell_type": "code",
   "execution_count": null,
   "metadata": {
    "deletable": false,
    "editable": false
   },
   "outputs": [],
   "source": [
    "grader.check(\"task_06\")"
   ]
  },
  {
   "cell_type": "markdown",
   "metadata": {},
   "source": [
    "---"
   ]
  },
  {
   "cell_type": "markdown",
   "metadata": {},
   "source": [
    "### Task 07 📍"
   ]
  },
  {
   "cell_type": "markdown",
   "metadata": {
    "deletable": false,
    "editable": false
   },
   "source": [
    "Write a function called `nacho_reaction` that returns a reaction (as a string) based on the type of nacho passed in as an argument. Use the table below to match the nacho type to the appropriate reaction.\n",
    "\n",
    "<img src=\"./nacho_reactions.png\">\n",
    "\n",
    "*Hint:* If you're failing the test, double check the spelling of your reactions.\n"
   ]
  },
  {
   "cell_type": "code",
   "execution_count": null,
   "metadata": {
    "for_assignment_type": "student",
    "tags": []
   },
   "outputs": [],
   "source": [
    "def nacho_reaction(nacho):\n",
    "    if nacho == \"cheese\":\n",
    "        ...\n",
    "    ... :\n",
    "        ...\n",
    "    ... :\n",
    "        ...\n",
    "    ... :\n",
    "        ...\n",
    "\n",
    "\n",
    "spicy_nacho = nacho_reaction('salsa')\n",
    "spicy_nacho"
   ]
  },
  {
   "cell_type": "code",
   "execution_count": null,
   "metadata": {
    "deletable": false,
    "editable": false
   },
   "outputs": [],
   "source": [
    "grader.check(\"task_07\")"
   ]
  },
  {
   "cell_type": "markdown",
   "metadata": {},
   "source": [
    "---"
   ]
  },
  {
   "cell_type": "markdown",
   "metadata": {},
   "source": [
    "### Task 08 📍"
   ]
  },
  {
   "cell_type": "markdown",
   "metadata": {
    "deletable": false,
    "editable": false
   },
   "source": [
    "Create a table `ten_nachos_reactions` that consists of the nachos in `ten_nachos` as well as the reactions for each of those nachos. The columns should be called `Nachos` and `Reactions`.\n",
    "\n",
    "*Hint:* Use the `apply` method. \n"
   ]
  },
  {
   "cell_type": "code",
   "execution_count": null,
   "metadata": {
    "for_assignment_type": "student",
    "tags": []
   },
   "outputs": [],
   "source": [
    "ten_nachos_tbl = Table().with_column('Nachos', ten_nachos)\n",
    "...\n",
    "ten_nachos_reactions"
   ]
  },
  {
   "cell_type": "code",
   "execution_count": null,
   "metadata": {
    "deletable": false,
    "editable": false
   },
   "outputs": [],
   "source": [
    "grader.check(\"task_08\")"
   ]
  },
  {
   "cell_type": "markdown",
   "metadata": {},
   "source": [
    "---"
   ]
  },
  {
   "cell_type": "markdown",
   "metadata": {},
   "source": [
    "### Task 09 📍"
   ]
  },
  {
   "cell_type": "markdown",
   "metadata": {
    "deletable": false,
    "editable": false
   },
   "source": [
    "Using code, find the number of 'Wow!' reactions for the nachos in `ten_nachos_reactions`.\n"
   ]
  },
  {
   "cell_type": "code",
   "execution_count": null,
   "metadata": {
    "tags": []
   },
   "outputs": [],
   "source": [
    "number_wow_reactions = ...\n",
    "number_wow_reactions"
   ]
  },
  {
   "cell_type": "code",
   "execution_count": null,
   "metadata": {
    "deletable": false,
    "editable": false
   },
   "outputs": [],
   "source": [
    "grader.check(\"task_09\")"
   ]
  },
  {
   "cell_type": "markdown",
   "metadata": {},
   "source": [
    "---"
   ]
  },
  {
   "cell_type": "markdown",
   "metadata": {},
   "source": [
    "## Simulations and For Loops"
   ]
  },
  {
   "cell_type": "markdown",
   "metadata": {},
   "source": [
    "Using a `for` statement, we can perform a task multiple times. This is known as iteration."
   ]
  },
  {
   "cell_type": "markdown",
   "metadata": {},
   "source": [
    "One use of iteration is to loop through a set of values. For instance, we can print out all of the colors of the rainbow."
   ]
  },
  {
   "cell_type": "code",
   "execution_count": null,
   "metadata": {},
   "outputs": [],
   "source": [
    "rainbow = make_array(\"red\", \"orange\", \"yellow\", \"green\", \"blue\", \"indigo\", \"violet\")\n",
    "\n",
    "for color in rainbow:\n",
    "    print(color)"
   ]
  },
  {
   "cell_type": "markdown",
   "metadata": {},
   "source": [
    "We can see that the indented part of the `for` loop, known as the body, is executed once for each item in `rainbow`. The name `color` is assigned to the next value in `rainbow` at the start of each iteration. Note that the name `color` is arbitrary; we could easily have named it something else. The important thing is we stay consistent throughout the `for` loop. "
   ]
  },
  {
   "cell_type": "code",
   "execution_count": null,
   "metadata": {},
   "outputs": [],
   "source": [
    "for another_name in rainbow:\n",
    "    print(another_name)"
   ]
  },
  {
   "cell_type": "markdown",
   "metadata": {},
   "source": [
    "In general, however, we would like the variable name to be somewhat informative. "
   ]
  },
  {
   "cell_type": "markdown",
   "metadata": {},
   "source": [
    "---"
   ]
  },
  {
   "cell_type": "markdown",
   "metadata": {},
   "source": [
    "### Task 10 📍"
   ]
  },
  {
   "cell_type": "markdown",
   "metadata": {
    "deletable": false,
    "editable": false
   },
   "source": [
    "In the following cell, we've loaded the text of _Pride and Prejudice_ by Jane Austen, split it into individual words, and stored these words in an array `p_and_p_words`. Using a `for` loop, assign `longer_than_five` to the number of words in the novel that are more than 5 characters long.\n",
    "\n",
    "*Hint*: You can find the number of letters in a word with the `len` function.\n",
    "\n",
    "*Note*: You should expect \"words\" like `\"About` to be included in this collection of words that are more than 5 characters long because the quotation mark is not removed with the `split` function.\n"
   ]
  },
  {
   "cell_type": "code",
   "execution_count": null,
   "metadata": {
    "for_assignment_type": "student",
    "tags": []
   },
   "outputs": [],
   "source": [
    "austen_string = open('Austen_PrideAndPrejudice.txt', encoding='utf-8').read()\n",
    "p_and_p_words = np.array(austen_string.split())\n",
    "\n",
    "longer_than_five = ...\n",
    "\n",
    "# a for loop would be useful here\n",
    "\n",
    "\n",
    "\n",
    "longer_than_five"
   ]
  },
  {
   "cell_type": "code",
   "execution_count": null,
   "metadata": {
    "deletable": false,
    "editable": false
   },
   "outputs": [],
   "source": [
    "grader.check(\"task_10\")"
   ]
  },
  {
   "cell_type": "markdown",
   "metadata": {},
   "source": [
    "---"
   ]
  },
  {
   "cell_type": "markdown",
   "metadata": {},
   "source": [
    "### Task 11 📍"
   ]
  },
  {
   "cell_type": "markdown",
   "metadata": {
    "deletable": false,
    "editable": false
   },
   "source": [
    "Using a simulation with 10,000 trials, assign num_different to the number of times, in 10,000 trials, that two words picked uniformly at random (with replacement) from Pride and Prejudice have different lengths. \n",
    "\n",
    "*Hint 1*: What function did we use in section 1 to sample at random with replacement from an array? \n",
    "\n",
    "*Hint 2*: Remember that `!=` checks for non-equality between two items.\n"
   ]
  },
  {
   "cell_type": "code",
   "execution_count": null,
   "metadata": {
    "for_assignment_type": "student",
    "tags": []
   },
   "outputs": [],
   "source": [
    "trials = 10000\n",
    "num_different = ...\n",
    "\n",
    "for ... in ...:\n",
    "    ...\n",
    "\n",
    "num_different"
   ]
  },
  {
   "cell_type": "code",
   "execution_count": null,
   "metadata": {
    "deletable": false,
    "editable": false
   },
   "outputs": [],
   "source": [
    "grader.check(\"task_11\")"
   ]
  },
  {
   "cell_type": "markdown",
   "metadata": {},
   "source": [
    "---"
   ]
  },
  {
   "cell_type": "markdown",
   "metadata": {},
   "source": [
    "## Submit Your Assignment to Canvas"
   ]
  },
  {
   "cell_type": "markdown",
   "metadata": {
    "jp-MarkdownHeadingCollapsed": true
   },
   "source": [
    "Follow these steps to submit your lab assignment:\n",
    "\n",
    "1. **Check the Assignment Completion Requirements:** This assignment is scored as Complete or Incomplete. Make sure to check with your instructor about their requirements for a Complete score. \n",
    "2. **Run the Auto-Grader:** Ensure you have executed the code cell containing the command `grader.check_all()` to run all tests for auto-graded tasks marked with 📍. This command will execute all auto-grader tests sequentially.\n",
    "3. **Complete Manually Graded Tasks:** Verify that you have responded to all the manually graded tasks marked with 📍🔎.\n",
    "4. **Save Your Work:** In the notebook's Toolbar, go to `File -> Save Notebook` to save your work and create a checkpoint.\n",
    "5. **Download the Notebook:** In the notebook's Toolbar, go to `File -> Download HTML` to download the HTML version (`.html`) of this notebook.\n",
    "6. **Upload to Canvas:** On the Canvas Assignment page, click \"Start Assignment\" or \"New Attempt\" to upload the downloaded `.html` file."
   ]
  },
  {
   "cell_type": "markdown",
   "metadata": {},
   "source": [
    "---"
   ]
  },
  {
   "cell_type": "markdown",
   "metadata": {
    "editable": true,
    "slideshow": {
     "slide_type": "notes"
    },
    "tags": []
   },
   "source": [
    "## Attribution"
   ]
  },
  {
   "cell_type": "markdown",
   "metadata": {},
   "source": [
    "This content is licensed under the <a href=\"https://creativecommons.org/licenses/by-nc-sa/4.0/\">Creative Commons Attribution-NonCommercial-ShareAlike 4.0 International License (CC BY-NC-SA 4.0)</a> and derived from the <a href=\"https://www.data8.org/\">Data 8: The Foundations of Data Science</a> offered by the University of California, Berkeley.\n",
    "\n",
    "<img src=\"./by-nc-sa.png\" width=100px>"
   ]
  },
  {
   "cell_type": "markdown",
   "metadata": {
    "deletable": false,
    "editable": false
   },
   "source": [
    "---\n",
    "\n",
    "To double-check your work, the cell below will rerun all of the autograder tests."
   ]
  },
  {
   "cell_type": "code",
   "execution_count": null,
   "metadata": {
    "deletable": false,
    "editable": false
   },
   "outputs": [],
   "source": [
    "grader.check_all()"
   ]
  }
 ],
 "metadata": {
  "hide_input": false,
  "kernelspec": {
   "display_name": "Python 3 (ipykernel)",
   "language": "python",
   "name": "python3"
  },
  "language_info": {
   "codemirror_mode": {
    "name": "ipython",
    "version": 3
   },
   "file_extension": ".py",
   "mimetype": "text/x-python",
   "name": "python",
   "nbconvert_exporter": "python",
   "pygments_lexer": "ipython3",
   "version": "3.11.9"
  },
  "otter": {
   "OK_FORMAT": true,
   "assignment_name": "lab05_sp25",
   "tests": {
    "task_01": {
     "name": "task_01",
     "points": null,
     "suites": [
      {
       "cases": [
        {
         "code": ">>> isinstance(customer_data, Table)\nTrue",
         "failure_message": "❌ customer_data should be a Table. Are you using the join method?",
         "hidden": false,
         "locked": false,
         "points": 1,
         "success_message": "✅ customer_data is a Table."
        },
        {
         "code": ">>> customer_data.labels == ('Customer ID', 'Name', 'Email', 'Product', 'Ad', 'Amount ($)')\nTrue",
         "failure_message": "❌ customer_data doesn't have the correct labels. Make sure you start your join statement with customers.join because purchase_history.join would produce a different collection of labels.",
         "hidden": false,
         "locked": false,
         "points": 1,
         "success_message": "✅ customer_data has the correct labels."
        },
        {
         "code": ">>> customer_data\nCustomer ID | Name          | Email             | Product | Ad   | Amount ($)\n1           | Alice Johnson | alice@example.com | Widget  | Yes  | 10\n1           | Alice Johnson | alice@example.com | Gadget  | Yes  | 15\n3           | Maria García  | maria@example.com | Gadget  | No   | 15\n4           | Ling Chen     | ling@example.com  | Doodad  | No   | 8\n4           | Ling Chen     | ling@example.com  | Widget  | Yes  | 10\n4           | Ling Chen     | ling@example.com  | Doodad  | Yes  | 8",
         "failure_message": "❌ customer_data doesn't look correct. Check with someone before moving on.",
         "hidden": false,
         "locked": false,
         "points": 1,
         "success_message": "✅ customer_data seems correct!"
        }
       ],
       "scored": true,
       "setup": "",
       "teardown": "",
       "type": "doctest"
      }
     ]
    },
    "task_02": {
     "name": "task_02",
     "points": null,
     "suites": [
      {
       "cases": [
        {
         "code": ">>> isinstance(customer_averages, Table)\nTrue",
         "failure_message": "❌ customer_averages should be a Table. Make sure to use the group method.",
         "hidden": false,
         "locked": false,
         "points": 1,
         "success_message": "✅ customer_averages is a Table"
        },
        {
         "code": ">>> customer_averages.num_rows == 3\nTrue",
         "failure_message": "❌ customer_averages does not have the correct number of rows. Double check that you are using the customer_data table.",
         "hidden": false,
         "locked": false,
         "points": 1,
         "success_message": "✅ customer_averages has the correct number of rows."
        },
        {
         "code": ">>> customer_averages.num_columns == 2\nTrue",
         "failure_message": "❌ customer_averages doesn't have the correct number of columns. Try using select or drop first before grouping the data.",
         "hidden": false,
         "locked": false,
         "points": 1,
         "success_message": "✅ customer_averages has the correct number of columns"
        },
        {
         "code": ">>> customer_averages\nName          | Amount ($) average\nAlice Johnson | 12.5\nLing Chen     | 8.66667\nMaria García  | 15",
         "failure_message": "❌ customer_averages doesn't seem correct. Check with someone before moving on.",
         "hidden": false,
         "locked": false,
         "points": 1,
         "success_message": "✅ customer_averages seems correct."
        }
       ],
       "scored": true,
       "setup": "",
       "teardown": "",
       "type": "doctest"
      }
     ]
    },
    "task_03": {
     "name": "task_03",
     "points": null,
     "suites": [
      {
       "cases": [
        {
         "code": ">>> isinstance(customer_ad_averages, Table)\nTrue",
         "failure_message": "❌ customer_ad_averages should be a Table. Are you using the group method with customer_data?",
         "hidden": false,
         "locked": false,
         "points": 1,
         "success_message": "✅ customer_ad_averages is a Table."
        },
        {
         "code": ">>> customer_ad_averages.num_rows == 4\nTrue",
         "failure_message": "❌ customer_ad_averages should have 4 rows. Make sure you are working from the customer_data table.",
         "hidden": false,
         "locked": false,
         "points": 1,
         "success_message": "✅ customer_ad_averages has the correct number of rows."
        },
        {
         "code": ">>> customer_ad_averages.labels == ('Name', 'Ad', 'Amount ($) average')\nTrue",
         "failure_message": "❌ customer_ad_averages doesn't have the correct column labels. Try using select or drop with customer_data before grouping.?",
         "hidden": false,
         "locked": false,
         "points": 1,
         "success_message": "✅ customer_ad_averages has the correct column labels."
        },
        {
         "code": ">>> customer_ad_averages\nName          | Ad   | Amount ($) average\nAlice Johnson | Yes  | 12.5\nLing Chen     | No   | 8\nLing Chen     | Yes  | 9\nMaria García  | No   | 15",
         "failure_message": "❌ customer_ad_averages doesn't seem correct. Check with someone before moving on.",
         "hidden": false,
         "locked": false,
         "points": 1,
         "success_message": "✅ customer_ad_averages seems correct."
        }
       ],
       "scored": true,
       "setup": "",
       "teardown": "",
       "type": "doctest"
      }
     ]
    },
    "task_04": {
     "name": "task_04",
     "points": null,
     "suites": [
      {
       "cases": [
        {
         "code": ">>> isinstance(ad_name_pivot, Table)\nTrue",
         "failure_message": "❌ ad_name_pivot should be a Table. Are you using the pivot method?",
         "hidden": false,
         "locked": false,
         "points": 1,
         "success_message": "✅ ad_name_pivot is a Table."
        },
        {
         "code": ">>> ad_name_pivot.labels == ('Name', 'No', 'Yes')\nTrue",
         "failure_message": "❌ ad_name_pivot doesn't have the correct column labels. The first argument of pivot should be 'Ad'.",
         "hidden": false,
         "locked": false,
         "points": 1,
         "success_message": "✅ ad_name_pivot has the right column labels"
        },
        {
         "code": ">>> tuple(ad_name_pivot.column(0)) == ('Alice Johnson', 'Ling Chen', 'Maria García')\nTrue",
         "failure_message": "❌ ad_name_pivot doesn't have the correct values in the first column. The second argument of pivot should be 'Name'.",
         "hidden": false,
         "locked": false,
         "points": 1,
         "success_message": "✅ ad_name_pivot has the correct values in the first column to represent the customer names."
        },
        {
         "code": ">>> ad_name_pivot\nName          | No   | Yes\nAlice Johnson | 0    | 12.5\nLing Chen     | 8    | 9\nMaria García  | 15   | 0",
         "failure_message": "❌ ad_name_pivot doesn't seem correct. Check with someone before moving on.",
         "hidden": false,
         "locked": false,
         "points": 1,
         "success_message": "✅ ad_name_pivot seems correct."
        }
       ],
       "scored": true,
       "setup": "",
       "teardown": "",
       "type": "doctest"
      }
     ]
    },
    "task_05": {
     "name": "task_05",
     "points": null,
     "suites": [
      {
       "cases": [
        {
         "code": ">>> number_cheese == 3\nTrue",
         "failure_message": "❌ There are 3 nachos with only cheese. Try using np.count_nonzero.",
         "hidden": false,
         "locked": false,
         "points": 1,
         "success_message": "✅ There are 3 nachos with only cheese."
        }
       ],
       "scored": true,
       "setup": "",
       "teardown": "",
       "type": "doctest"
      }
     ]
    },
    "task_06": {
     "name": "task_06",
     "points": null,
     "suites": [
      {
       "cases": [
        {
         "code": ">>> say_please == 'More please'\nTrue",
         "failure_message": "❌ Since number_cheese < 5, say_please should be assigned to 'More please'. Check if number_cheese < 5.",
         "hidden": false,
         "locked": false,
         "points": 1,
         "success_message": "✅ say_please is assigned to 'More please'."
        }
       ],
       "scored": true,
       "setup": "",
       "teardown": "",
       "type": "doctest"
      }
     ]
    },
    "task_07": {
     "name": "task_07",
     "points": null,
     "suites": [
      {
       "cases": [
        {
         "code": ">>> nacho_reaction('salsa') == 'Spicy!'\nTrue",
         "failure_message": "❌ nacho_reaction('salsa') should display 'Spicy!' You might need to check your spelling/punctuation.",
         "hidden": false,
         "locked": false,
         "points": 1,
         "success_message": "✅ nacho_reaction('salsa') should display 'Spicy!'."
        },
        {
         "code": ">>> nacho_reaction('cheese') == 'Cheesy!'\nTrue",
         "failure_message": "❌ nacho_reaction('cheese') should display 'Cheesy!' You might need to check your spelling/punctuation.",
         "hidden": false,
         "locked": false,
         "points": 1,
         "success_message": "✅ nacho_reaction('cheese') should display 'Cheesy!'."
        },
        {
         "code": ">>> nacho_reaction('both') == 'Wow!'\nTrue",
         "failure_message": "❌ nacho_reaction('both') should display 'Wow!' You might need to check your spelling/punctuation.",
         "hidden": false,
         "locked": false,
         "points": 1,
         "success_message": "✅ nacho_reaction('both') should display 'Wow!'."
        },
        {
         "code": ">>> nacho_reaction('neither') == 'Meh.'\nTrue",
         "failure_message": "❌ nacho_reaction('neither') should display 'Meh.' You might need to check your spelling/punctuation.",
         "hidden": false,
         "locked": false,
         "points": 1,
         "success_message": "✅ nacho_reaction('neither') should display 'Meh.'."
        }
       ],
       "scored": true,
       "setup": "",
       "teardown": "",
       "type": "doctest"
      }
     ]
    },
    "task_08": {
     "name": "task_08",
     "points": null,
     "suites": [
      {
       "cases": [
        {
         "code": ">>> np.count_nonzero(ten_nachos_reactions.column('Reactions') == make_array('Meh.', 'Cheesy!', 'Wow!', 'Wow!', 'Cheesy!', 'Spicy!', 'Wow!', 'Meh.', 'Cheesy!', 'Wow!')) == 10\nTrue",
         "failure_message": "❌ It seems like one or more of the reaction results could be incorrect. To get the values for the table, trying using the apply method with the function you just made.",
         "hidden": false,
         "locked": false,
         "points": 1,
         "success_message": "✅ The reaction values in the table seem correct."
        }
       ],
       "scored": true,
       "setup": "",
       "teardown": "",
       "type": "doctest"
      }
     ]
    },
    "task_09": {
     "name": "task_09",
     "points": null,
     "suites": [
      {
       "cases": [
        {
         "code": ">>> 2 < number_wow_reactions < 6\nTrue",
         "failure_message": "❌ number_wow_reactions should be between 2 and 6, non-inclusive. Try using np.count_nonzero.",
         "hidden": false,
         "locked": false,
         "points": 1,
         "success_message": "✅ number_wow_reactions is between 2 and 6, non-inclusive."
        },
        {
         "code": ">>> number_wow_reactions == 4\nTrue",
         "failure_message": "❌ You have the incorrect value for number_wow_reactions.",
         "hidden": false,
         "locked": false,
         "points": 1,
         "success_message": "✅ You have the correct value for number_wow_reactions."
        }
       ],
       "scored": true,
       "setup": "",
       "teardown": "",
       "type": "doctest"
      }
     ]
    },
    "task_10": {
     "name": "task_10",
     "points": null,
     "suites": [
      {
       "cases": [
        {
         "code": ">>> longer_than_five == 35453\nTrue",
         "failure_message": "❌ The value assigned to longer_than_five is not correct. Make sure to initilalize longer_than_five to 0 and check if the length of the word is great than 5 as you loop through each word in p_and_p_words.",
         "hidden": false,
         "locked": false,
         "points": 1,
         "success_message": "✅ The value assigned to longer_than_five is correct."
        }
       ],
       "scored": true,
       "setup": "",
       "teardown": "",
       "type": "doctest"
      }
     ]
    },
    "task_11": {
     "name": "task_11",
     "points": null,
     "suites": [
      {
       "cases": [
        {
         "code": ">>> 8100 <= num_different <= 9100\nTrue",
         "failure_message": "❌ num_different should be between 8100 and 9100. Try initializing num_different to 0, iterating through the number of trials, randomly choosing 2 words from p_and_p_words, checking the length of the 2 words, and updating num_different depending on the results of that check.",
         "hidden": false,
         "locked": false,
         "points": 1,
         "success_message": "✅ num_different represents a value betwen 8100 and 9100."
        }
       ],
       "scored": true,
       "setup": "",
       "teardown": "",
       "type": "doctest"
      }
     ]
    }
   }
  },
  "toc-autonumbering": false,
  "toc-showmarkdowntxt": false
 },
 "nbformat": 4,
 "nbformat_minor": 4
}
