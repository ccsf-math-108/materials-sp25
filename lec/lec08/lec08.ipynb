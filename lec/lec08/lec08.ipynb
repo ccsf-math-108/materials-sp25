{
 "cells": [
  {
   "cell_type": "markdown",
   "id": "1e0e9c75-b540-498f-8d2f-59cc2c85c8d0",
   "metadata": {},
   "source": [
    "<img src=\"./ccsf.png\" alt=\"CCSF Logo\" width=200px style=\"margin:0px -5px\">"
   ]
  },
  {
   "cell_type": "markdown",
   "id": "c082eba5-b296-4e15-ac51-bab13e3a196f",
   "metadata": {
    "slideshow": {
     "slide_type": "-"
    }
   },
   "source": [
    "# Lecture 08: Census"
   ]
  },
  {
   "cell_type": "markdown",
   "id": "c1c3a4ff-d9da-4bb7-b0b7-c9b98bf73351",
   "metadata": {
    "slideshow": {
     "slide_type": "-"
    }
   },
   "source": [
    "Associated Textbook Sections: [6.3, 6.4, 7.0](https://ccsf-math-108.github.io/textbook/chapters/06/3/Example_Population_Trends.html)"
   ]
  },
  {
   "cell_type": "markdown",
   "id": "1afa36b0-8bf2-4537-96a2-278baa908195",
   "metadata": {},
   "source": [
    "---"
   ]
  },
  {
   "cell_type": "markdown",
   "id": "728af57f-90e1-42b0-8a08-f901f9c598d4",
   "metadata": {
    "slideshow": {
     "slide_type": "slide"
    }
   },
   "source": [
    "## Overview"
   ]
  },
  {
   "cell_type": "markdown",
   "id": "1007bb93-b04c-4909-b9a5-586f947c31aa",
   "metadata": {
    "slideshow": {
     "slide_type": "-"
    }
   },
   "source": [
    "* [Exploring Census Data](#Exploring-Census-Data)\n",
    "* [Visualizing Trends](#Visualizing-Trends)"
   ]
  },
  {
   "cell_type": "markdown",
   "id": "17683293-2b5b-4456-8405-6d16b5d694d8",
   "metadata": {},
   "source": [
    "---"
   ]
  },
  {
   "cell_type": "markdown",
   "id": "a50166e0-f98e-4ce7-9a81-63e7b73b6c4f",
   "metadata": {
    "slideshow": {
     "slide_type": "slide"
    }
   },
   "source": [
    "## Set Up the Notebook"
   ]
  },
  {
   "cell_type": "code",
   "execution_count": null,
   "id": "de21b7ed-b3d4-4840-a94b-dcf2b6c6dcbe",
   "metadata": {
    "slideshow": {
     "slide_type": "-"
    }
   },
   "outputs": [],
   "source": [
    "from datascience import *\n",
    "import numpy as np\n",
    "%matplotlib inline\n",
    "import matplotlib.pyplot as plt\n",
    "plt.style.use('fivethirtyeight')"
   ]
  },
  {
   "cell_type": "markdown",
   "id": "4eaa259e-6f37-4b47-b17d-c3982911f07b",
   "metadata": {
    "slideshow": {
     "slide_type": "fragment"
    }
   },
   "source": [
    "---"
   ]
  },
  {
   "cell_type": "markdown",
   "id": "33fc8b29-9b1e-4a3b-9598-5191456f454d",
   "metadata": {
    "slideshow": {
     "slide_type": "slide"
    }
   },
   "source": [
    "## Exploring Census Data"
   ]
  },
  {
   "cell_type": "markdown",
   "id": "48a93519-611b-4686-9aeb-12adf3171830",
   "metadata": {
    "slideshow": {
     "slide_type": "fragment"
    }
   },
   "source": [
    "---"
   ]
  },
  {
   "cell_type": "markdown",
   "id": "900368df-7f6b-47b4-ab9e-56e82f5dc3e8",
   "metadata": {
    "slideshow": {
     "slide_type": "subslide"
    }
   },
   "source": [
    "### The Decennial Census"
   ]
  },
  {
   "cell_type": "markdown",
   "id": "b5bcbb97-b6bd-41c6-9552-389c060a4b3d",
   "metadata": {
    "slideshow": {
     "slide_type": "-"
    }
   },
   "source": [
    "* Every ten years, the Census Bureau counts how many people there are in the U.S.\n",
    "* In between censuses, the Bureau estimates how many people there are each year.\n",
    "* Article 1, Section 2 of the Constitution: \n",
    "> \"Representatives and direct Taxes shall be apportioned among the several States ... according to their respective Numbers ...\"\n"
   ]
  },
  {
   "cell_type": "markdown",
   "id": "0aa4090d-917c-4091-b46c-494c162d00c7",
   "metadata": {
    "slideshow": {
     "slide_type": "fragment"
    }
   },
   "source": [
    "---"
   ]
  },
  {
   "cell_type": "markdown",
   "id": "ff4b8189-b1c5-4eff-b5f5-6b05319875fa",
   "metadata": {
    "slideshow": {
     "slide_type": "subslide"
    }
   },
   "source": [
    "### Census Table Description"
   ]
  },
  {
   "cell_type": "markdown",
   "id": "6a61b5a0-a9e7-48a7-a974-4fdc06db0fed",
   "metadata": {
    "slideshow": {
     "slide_type": "-"
    }
   },
   "source": [
    "* Values have column-dependent interpretations\n",
    "    * The `SEX` column: `1` is Male, `2` is Female\n",
    "    * The `POPESTIMATE2010` column: 7/1/2010 estimate\n",
    "* In this table, some rows are sums of other rows\n",
    "    * The `SEX` column: `0` is Total (of Male + Female)\n",
    "    * The `AGE` column: `999` is Total of all ages\n",
    "* Numeric codes are often used for storage efficiency\n",
    "    * Values in a column have the same type, but are not necessarily comparable (`AGE 12` vs `AGE 999`)"
   ]
  },
  {
   "cell_type": "markdown",
   "id": "4eab8b42-2230-4c75-90be-b8d14c596447",
   "metadata": {
    "slideshow": {
     "slide_type": "fragment"
    }
   },
   "source": [
    "---"
   ]
  },
  {
   "cell_type": "markdown",
   "id": "3e3edd80-655d-4d57-81d1-22222976801c",
   "metadata": {
    "slideshow": {
     "slide_type": "subslide"
    }
   },
   "source": [
    "### Demo: Census"
   ]
  },
  {
   "cell_type": "markdown",
   "id": "511f10a5-5770-4998-8858-421faf9d9e48",
   "metadata": {
    "slideshow": {
     "slide_type": "skip"
    }
   },
   "source": [
    "Explore the US Census data in `census.csv` from the [Annual Estimates of the Resident Population by Single Year of Age and Sex for the United States](https://www2.census.gov/programs-surveys/popest/technical-documentation/file-layouts/2010-2020/cc-est2020-agesex.pdf). \n",
    "\n",
    "(Release date: June 2021, Updated January 2022 to include April 1, 2020 estimates)"
   ]
  },
  {
   "cell_type": "code",
   "execution_count": null,
   "id": "3f834b11-9d06-49a6-91b9-f0a2912c6641",
   "metadata": {},
   "outputs": [],
   "source": [
    "census = Table.read_table('census.csv')\n",
    "census"
   ]
  },
  {
   "cell_type": "markdown",
   "id": "5d330c41-4f64-4f98-85cc-32733687e043",
   "metadata": {},
   "source": [
    "---"
   ]
  },
  {
   "cell_type": "markdown",
   "id": "8ae72e39-d6ba-4a98-80e5-c522ee04f4eb",
   "metadata": {
    "deletable": false,
    "editable": false,
    "slideshow": {
     "slide_type": "skip"
    }
   },
   "source": [
    "Clean up the table by completing the following:\n",
    "1. Select the `SEX`, `AGE`, `CENSUS2010POP`, and `POPESTIMATE2019` columns.\n",
    "2. Relabel the 2010 and 2019 columns.\n",
    "3. Remove the 999 ages and focus just on the combined data where the `SEX` value is 0. Drop the `SEX` column since there is only one value there."
   ]
  },
  {
   "cell_type": "code",
   "execution_count": null,
   "id": "93cbede9-6eff-49be-ba25-daea5eea5bd3",
   "metadata": {
    "slideshow": {
     "slide_type": "subslide"
    },
    "tags": []
   },
   "outputs": [],
   "source": [
    "census_reduced = ...\n",
    "census_relabeled = ...\n",
    "census_no_999 = ...\n",
    "everyone = ...\n",
    "everyone"
   ]
  },
  {
   "cell_type": "markdown",
   "id": "5ce3570c-c81a-4997-9e57-2ecb68ccf367",
   "metadata": {},
   "source": [
    "---"
   ]
  },
  {
   "cell_type": "markdown",
   "id": "57b610b2-0e22-419e-9f9b-e2c99eb84379",
   "metadata": {},
   "source": [
    "## Visualizing Trends"
   ]
  },
  {
   "cell_type": "markdown",
   "id": "fd43af9d-7dd3-4963-aee0-fa42a5418fb9",
   "metadata": {},
   "source": [
    "---"
   ]
  },
  {
   "cell_type": "markdown",
   "id": "57cf71d0-33e1-4ce1-bde4-99c27e3f348d",
   "metadata": {},
   "source": [
    "### Visualizing Numerical Trends"
   ]
  },
  {
   "cell_type": "markdown",
   "id": "eb60a150-8acb-4767-a00d-4b1c85998c7f",
   "metadata": {},
   "source": [
    "<img src=\"./Dwiggins_graph.jpg\" alt=\"Published in 1919, Dwiggins used this parody graph to express his opinion of standards in printing\" width=300px>\n",
    "\n",
    "* You will soon learn about basic data visualizations.\n",
    "* For example, what is a fundamental way to visualize how population sizes change over the range of ages?\n",
    "* In this case, the fundamental visualization is a line plot."
   ]
  },
  {
   "cell_type": "markdown",
   "id": "3677c45c-a866-4332-97ea-782775fa905e",
   "metadata": {},
   "source": [
    "---"
   ]
  },
  {
   "cell_type": "markdown",
   "id": "38b4c151-b60a-4b5d-9939-705407ca56ae",
   "metadata": {},
   "source": [
    "### Demo: Line Plots"
   ]
  },
  {
   "cell_type": "markdown",
   "id": "23f8f653-25ef-4eb5-b4a1-b0d7430f3ecd",
   "metadata": {
    "deletable": false,
    "editable": false,
    "slideshow": {
     "slide_type": "skip"
    }
   },
   "source": [
    "Visualize the relationship between age and population size in 2010."
   ]
  },
  {
   "cell_type": "code",
   "execution_count": null,
   "id": "cae95e46-64a8-42bf-a36a-23b15a2c30b2",
   "metadata": {
    "slideshow": {
     "slide_type": "subslide"
    },
    "tags": []
   },
   "outputs": [],
   "source": [
    "...\n",
    "\n",
    "# Some extra graph formatting you are not responsible for\n",
    "plt.title('US Population Size') \n",
    "plt.show()"
   ]
  },
  {
   "cell_type": "markdown",
   "id": "de24a160-fa82-4405-8906-91927764b62a",
   "metadata": {},
   "source": [
    "---"
   ]
  },
  {
   "cell_type": "markdown",
   "id": "4e35ed3e-e576-4c9e-8d07-249e35b642b9",
   "metadata": {
    "deletable": false,
    "editable": false,
    "slideshow": {
     "slide_type": "skip"
    }
   },
   "source": [
    "Include lines for both 2010 and the estimated 2019 population sizes."
   ]
  },
  {
   "cell_type": "code",
   "execution_count": null,
   "id": "481e43ea-5c7d-4bc3-8c9c-5a690f5c7996",
   "metadata": {
    "slideshow": {
     "slide_type": "subslide"
    },
    "tags": []
   },
   "outputs": [],
   "source": [
    "...\n",
    "\n",
    "# Some extra graph formatting you are not responsible for\n",
    "plt.title('US Population Size') \n",
    "plt.show()"
   ]
  },
  {
   "cell_type": "markdown",
   "id": "a31532b9-dfb7-4d00-ac5f-2164ba2925a3",
   "metadata": {},
   "source": [
    "---"
   ]
  },
  {
   "cell_type": "markdown",
   "id": "f1b81493-2d40-4f07-bf4e-45e326e90c1d",
   "metadata": {
    "slideshow": {
     "slide_type": "subslide"
    }
   },
   "source": [
    "### Demo: Male and Female 2019 Estimates"
   ]
  },
  {
   "cell_type": "markdown",
   "id": "82fa9ef7-f77d-40ff-aed1-444d55cff6ab",
   "metadata": {
    "deletable": false,
    "editable": false,
    "slideshow": {
     "slide_type": "skip"
    }
   },
   "source": [
    "Create a table with `Age`, `Males`, `Females` columns showing the population estimates in 2019 for males and females by age."
   ]
  },
  {
   "cell_type": "code",
   "execution_count": null,
   "id": "d3c5b84c-73d0-451e-9a7c-821e446e0fb1",
   "metadata": {
    "slideshow": {
     "slide_type": "subslide"
    },
    "tags": []
   },
   "outputs": [],
   "source": [
    "males = ...\n",
    "females = ...\n",
    "pop_2019 = ...\n",
    "pop_2019"
   ]
  },
  {
   "cell_type": "markdown",
   "id": "26ae97dc-6f39-4377-a90d-02e1dfd3d281",
   "metadata": {},
   "source": [
    "---"
   ]
  },
  {
   "cell_type": "markdown",
   "id": "26a7d8bb-9287-4237-994f-f4666047e0f0",
   "metadata": {
    "deletable": false,
    "editable": false,
    "slideshow": {
     "slide_type": "skip"
    }
   },
   "source": [
    "Visualize the distribution of of population size for both males and females."
   ]
  },
  {
   "cell_type": "code",
   "execution_count": null,
   "id": "09479c4e-27cb-484f-99de-24443267a6c4",
   "metadata": {
    "slideshow": {
     "slide_type": "subslide"
    },
    "tags": []
   },
   "outputs": [],
   "source": [
    "...\n",
    "\n",
    "# Some extra graph formatting you are not responsible for\n",
    "plt.title('2019 Population Size Estimates')\n",
    "plt.show()"
   ]
  },
  {
   "cell_type": "markdown",
   "id": "cc76be62-4be7-494a-93be-23bdc404383d",
   "metadata": {},
   "source": [
    "---"
   ]
  },
  {
   "cell_type": "markdown",
   "id": "de195677-be93-446a-b235-d1b58793159f",
   "metadata": {
    "deletable": false,
    "editable": false,
    "slideshow": {
     "slide_type": "skip"
    }
   },
   "source": [
    "Calculate the percent female for each age"
   ]
  },
  {
   "cell_type": "code",
   "execution_count": null,
   "id": "41ae8113-a7e3-4512-8598-a67b09bb35cb",
   "metadata": {
    "slideshow": {
     "slide_type": "subslide"
    },
    "tags": []
   },
   "outputs": [],
   "source": [
    "total = ...\n",
    "pct_female = ...\n",
    "pct_female"
   ]
  },
  {
   "cell_type": "code",
   "execution_count": null,
   "id": "a804f811-6cb1-4aec-b3cf-d8fbdba761f8",
   "metadata": {
    "slideshow": {
     "slide_type": "subslide"
    },
    "tags": []
   },
   "outputs": [],
   "source": [
    "pct_female = ...\n",
    "pct_female"
   ]
  },
  {
   "cell_type": "markdown",
   "id": "7f77fc4c-0934-4fcd-9e2c-528ea7d41108",
   "metadata": {},
   "source": [
    "---"
   ]
  },
  {
   "cell_type": "markdown",
   "id": "f41c5bd6-87d1-4eb5-8a92-54be5eb24687",
   "metadata": {
    "deletable": false,
    "editable": false,
    "slideshow": {
     "slide_type": "skip"
    }
   },
   "source": [
    "Add female percent to our table"
   ]
  },
  {
   "cell_type": "code",
   "execution_count": null,
   "id": "d2d5c056-47d4-4f3b-ae3f-9774e1db60c0",
   "metadata": {
    "slideshow": {
     "slide_type": "subslide"
    },
    "tags": []
   },
   "outputs": [],
   "source": [
    "pop_2019 = ...\n",
    "pop_2019"
   ]
  },
  {
   "cell_type": "markdown",
   "id": "f4f642ec-cbe6-44b7-b955-fd8e54639674",
   "metadata": {},
   "source": [
    "---"
   ]
  },
  {
   "cell_type": "markdown",
   "id": "d2fd283b-e280-4b26-928e-6a3fc9367124",
   "metadata": {
    "deletable": false,
    "editable": false,
    "slideshow": {
     "slide_type": "skip"
    }
   },
   "source": [
    "Visualize the relationship between age and the percent of the population that is female."
   ]
  },
  {
   "cell_type": "code",
   "execution_count": null,
   "id": "0d1cdba2-6186-458a-aed1-da00797fa1f3",
   "metadata": {
    "slideshow": {
     "slide_type": "subslide"
    },
    "tags": []
   },
   "outputs": [],
   "source": [
    "...\n",
    "\n",
    "# Some extra graph formatting you are not responsible for\n",
    "plt.title('Female Population Percentage over Age')\n",
    "plt.show()"
   ]
  },
  {
   "cell_type": "code",
   "execution_count": null,
   "id": "76d2acad-f533-4029-9d37-3962fb2fde5c",
   "metadata": {
    "slideshow": {
     "slide_type": "subslide"
    },
    "tags": []
   },
   "outputs": [],
   "source": [
    "...\n",
    "\n",
    "# Some extra graph formatting you are not responsible for\n",
    "plt.ylim(0, 100)\n",
    "plt.title('Female Population Percentage over Age')\n",
    "plt.show()"
   ]
  },
  {
   "cell_type": "markdown",
   "id": "93f624dc-7745-401c-99be-f97d98118da6",
   "metadata": {},
   "source": [
    "---"
   ]
  },
  {
   "cell_type": "markdown",
   "id": "01b84e39-dfe4-418a-a01d-e9ae3fd2a817",
   "metadata": {
    "editable": true,
    "slideshow": {
     "slide_type": "notes"
    },
    "tags": []
   },
   "source": [
    "## Attribution"
   ]
  },
  {
   "cell_type": "markdown",
   "id": "6680a6bf-9ca5-46ac-9289-0b99778a8bb0",
   "metadata": {},
   "source": [
    "This content is licensed under the <a href=\"https://creativecommons.org/licenses/by-nc-sa/4.0/\">Creative Commons Attribution-NonCommercial-ShareAlike 4.0 International License (CC BY-NC-SA 4.0)</a> and derived from the <a href=\"https://www.data8.org/\">Data 8: The Foundations of Data Science</a> offered by the University of California, Berkeley.\n",
    "\n",
    "<img src=\"./by-nc-sa.png\" width=100px>"
   ]
  }
 ],
 "metadata": {
  "kernelspec": {
   "display_name": "Python 3 (ipykernel)",
   "language": "python",
   "name": "python3"
  },
  "language_info": {
   "codemirror_mode": {
    "name": "ipython",
    "version": 3
   },
   "file_extension": ".py",
   "mimetype": "text/x-python",
   "name": "python",
   "nbconvert_exporter": "python",
   "pygments_lexer": "ipython3",
   "version": "3.11.9"
  },
  "otter": {
   "OK_FORMAT": true,
   "tests": {}
  }
 },
 "nbformat": 4,
 "nbformat_minor": 5
}
