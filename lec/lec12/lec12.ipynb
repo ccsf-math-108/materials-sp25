{
 "cells": [
  {
   "cell_type": "markdown",
   "id": "abdfba49-79da-4f33-a822-9d8433a102a5",
   "metadata": {},
   "source": [
    "<img src=\"./ccsf.png\" alt=\"CCSF Logo\" width=200px style=\"margin:0px -5px\">"
   ]
  },
  {
   "cell_type": "markdown",
   "id": "e7a5b3d7-d71a-4849-ac14-42c0fd3f4cfa",
   "metadata": {
    "slideshow": {
     "slide_type": "-"
    }
   },
   "source": [
    "# Lecture 12: Group and Pivot"
   ]
  },
  {
   "cell_type": "markdown",
   "id": "803989b6-8bc8-4b55-a22b-e17757a1cb04",
   "metadata": {
    "slideshow": {
     "slide_type": "-"
    }
   },
   "source": [
    "Associated Textbook Sections: [8.2, 8.3](https://ccsf-math-108.github.io/textbook/chapters/08/2/Classifying_by_One_Variable.html)"
   ]
  },
  {
   "cell_type": "markdown",
   "id": "d60074c1-da9e-419a-a4f0-db98488d64f1",
   "metadata": {
    "slideshow": {
     "slide_type": "fragment"
    }
   },
   "source": [
    "---"
   ]
  },
  {
   "cell_type": "markdown",
   "id": "e30a834d-0a85-4157-95ab-9e19e0679552",
   "metadata": {
    "slideshow": {
     "slide_type": "slide"
    }
   },
   "source": [
    "## Overview"
   ]
  },
  {
   "cell_type": "markdown",
   "id": "3840b161-a3a1-42d0-b492-95016ff9cf6c",
   "metadata": {
    "slideshow": {
     "slide_type": "-"
    }
   },
   "source": [
    "* [Grouping](#Grouping)\n",
    "* [Pivot Tables](#Pivot-Tables)\n",
    "* [Cross-Classification](#Cross-Classification)"
   ]
  },
  {
   "cell_type": "markdown",
   "id": "38579637-4570-497e-8278-e6862a03157e",
   "metadata": {
    "slideshow": {
     "slide_type": "fragment"
    }
   },
   "source": [
    "---"
   ]
  },
  {
   "cell_type": "markdown",
   "id": "1fc9aec6-a973-44ed-9407-22bae6704f87",
   "metadata": {
    "slideshow": {
     "slide_type": "slide"
    }
   },
   "source": [
    "## Set Up the Notebook"
   ]
  },
  {
   "cell_type": "code",
   "execution_count": null,
   "id": "4152e11f-ff70-4ac4-9e88-1b7c1e235f8e",
   "metadata": {
    "slideshow": {
     "slide_type": "-"
    }
   },
   "outputs": [],
   "source": [
    "from datascience import *\n",
    "import numpy as np\n",
    "%matplotlib inline\n",
    "import matplotlib.pyplot as plt\n",
    "plt.style.use('fivethirtyeight')"
   ]
  },
  {
   "cell_type": "markdown",
   "id": "3e042e2d-23a2-4cbd-b2ed-628b720f9ae3",
   "metadata": {
    "slideshow": {
     "slide_type": "fragment"
    }
   },
   "source": [
    "---"
   ]
  },
  {
   "cell_type": "markdown",
   "id": "cc285ac2-b725-48c8-a205-468901ad68a0",
   "metadata": {
    "slideshow": {
     "slide_type": "slide"
    }
   },
   "source": [
    "## Grouping Data"
   ]
  },
  {
   "cell_type": "markdown",
   "id": "e25b86ff-baf0-454b-ba62-85d30c01340c",
   "metadata": {},
   "source": [
    "<a href=\"https://epirhandbook.com/images/Grouping_1500x500.png\"><img src=\"./grouping_R.png\" width=400px alt=\"3 clusters of objects grouped in different ways based on shape and color.\"><a/>\n",
    "\n",
    "* **Identify Patterns and Trends**\n",
    "    * Grouping helps reveal insights by summarizing data across categories, making it easier to spot trends.\n",
    "* **Simplify Large Datasets**\n",
    "    * Instead of analyzing raw data row by row, grouping organizes information into meaningful summaries.\n",
    "* **Compare Categories**\n",
    "    * Easily compare different groups, such as average income by city or total sales by product type.\n",
    "* **Prepare Data for Visualization**\n",
    "    * Grouping is a key step in creating charts and tables that highlight important relationships in data."
   ]
  },
  {
   "cell_type": "markdown",
   "id": "b708399c-3cc0-4418-9129-9c7ea23da57b",
   "metadata": {
    "slideshow": {
     "slide_type": "fragment"
    }
   },
   "source": [
    "---"
   ]
  },
  {
   "cell_type": "markdown",
   "id": "d351e242-4894-4379-b499-aa07df39c4b3",
   "metadata": {
    "slideshow": {
     "slide_type": "subslide"
    }
   },
   "source": [
    "### Grouping by One Column"
   ]
  },
  {
   "cell_type": "markdown",
   "id": "9b7ed896-8e9f-4ec4-b7d7-7e6585b0e4e2",
   "metadata": {
    "slideshow": {
     "slide_type": "-"
    }
   },
   "source": [
    "The group method aggregates all rows with the same value for a column into a single row in the resulting table.\n",
    "* First argument: Which column to group by\n",
    "* Second argument: (Optional) How to combine values\n",
    "    * `len` — number of grouped values (default)\n",
    "    * `list` — list of all grouped values\n",
    "    * `sum`  — total of all grouped values\n",
    "    * ...\n"
   ]
  },
  {
   "cell_type": "markdown",
   "id": "f05467e5-6f4e-4698-8ec9-729385f8a6e7",
   "metadata": {
    "slideshow": {
     "slide_type": "fragment"
    }
   },
   "source": [
    "---"
   ]
  },
  {
   "cell_type": "code",
   "execution_count": null,
   "id": "605b08cf-a133-440d-9722-2dd21b75cb82",
   "metadata": {},
   "outputs": [],
   "source": [
    "from IPython.display import IFrame\n",
    "IFrame('https://docs.google.com/presentation/d/e/2PACX-1vT5DQDrDs21XnYnUD1000G97wukT1oj9N_ePPTdmGTp2vPh88jW_JCLcoK2yaWmmLjKjXelJDnT4m-J/embed?start=false&loop=false&delayms=3000', 800, 600)"
   ]
  },
  {
   "cell_type": "markdown",
   "id": "5b2ebed7-edb3-4e89-8197-79991a50d5e1",
   "metadata": {
    "slideshow": {
     "slide_type": "fragment"
    }
   },
   "source": [
    "---"
   ]
  },
  {
   "cell_type": "markdown",
   "id": "4dc47c65-ddf1-4df4-a562-ee1335bb3b4f",
   "metadata": {
    "slideshow": {
     "slide_type": "subslide"
    }
   },
   "source": [
    "### Demo: Grouping by One Column"
   ]
  },
  {
   "cell_type": "markdown",
   "id": "a7d16f5f-f0ca-4fc5-bb63-4fe3b7ff23c5",
   "metadata": {
    "editable": true,
    "slideshow": {
     "slide_type": ""
    },
    "tags": []
   },
   "source": [
    "<a href=\"https://unsplash.com/photos/a-large-city-with-a-lot-of-tall-buildings-I0wLMpoRe0E\"><img src=\"./casey_horner_san_francisco.avif\" width=800px alt=\"San Francisco with fog covering downtown buildings.\"></a>\n",
    "\n",
    "The San Francisco [Existing Buildings Energy Performance Ordinance](https://data.sfgov.org/Energy-and-Environment/Existing-Buildings-Energy-Performance-Ordinance-Re/96ck-qcfe/about_data) (Environment Code Chapter 20) requires that each non-residential building with at least 10,000 square feet of conditioned (heated or cooled) space and each residential building with at least 50,000 square feet of conditioned space must be benchmarked annually using Energy Star Portfolio Manager. Each non-residential building specified above is also required to undergo an energy audit, retrocommissioning, or develop a plan for decarbonization at least once every 5 years.\n",
    "\n",
    "The table `energy` contains this data (as of February 7, 2024)."
   ]
  },
  {
   "cell_type": "code",
   "execution_count": null,
   "id": "f02bf8ee-9c6e-485a-b674-2cecee48f27e",
   "metadata": {
    "editable": true,
    "slideshow": {
     "slide_type": ""
    },
    "tags": []
   },
   "outputs": [],
   "source": [
    "energy = Table().read_table('energy.csv')\n",
    "energy"
   ]
  },
  {
   "cell_type": "markdown",
   "id": "0dd1b936-0504-41a3-9ea1-e10928cb32f7",
   "metadata": {
    "deletable": false,
    "editable": false,
    "slideshow": {
     "slide_type": "skip"
    }
   },
   "source": [
    "Explore the `energy` data using the `group` method."
   ]
  },
  {
   "cell_type": "code",
   "execution_count": null,
   "id": "7d61f848-b0da-4e59-83f8-e5ba3674f8ed",
   "metadata": {
    "tags": []
   },
   "outputs": [],
   "source": [
    "..."
   ]
  },
  {
   "cell_type": "code",
   "execution_count": null,
   "id": "fe897b09-0ab6-4ce8-a82a-540d012ed8f9",
   "metadata": {
    "tags": []
   },
   "outputs": [],
   "source": [
    "..."
   ]
  },
  {
   "cell_type": "code",
   "execution_count": null,
   "id": "befa63f2-e26b-42e5-9af4-086b075625f7",
   "metadata": {
    "tags": []
   },
   "outputs": [],
   "source": [
    "..."
   ]
  },
  {
   "cell_type": "markdown",
   "id": "c3914135-bcf5-45bd-86a0-1be4a16007f0",
   "metadata": {
    "slideshow": {
     "slide_type": "fragment"
    }
   },
   "source": [
    "---"
   ]
  },
  {
   "cell_type": "markdown",
   "id": "6036172b-406b-4fe3-a9c1-8b648b79ecd3",
   "metadata": {
    "slideshow": {
     "slide_type": "subslide"
    }
   },
   "source": [
    "### Grouping by Two Columns"
   ]
  },
  {
   "cell_type": "markdown",
   "id": "98abcbdc-b619-4229-88e3-83693e43e8ca",
   "metadata": {
    "slideshow": {
     "slide_type": "-"
    }
   },
   "source": [
    "The group method can also aggregate all rows that share the combination of values in multiple columns\n",
    "* First argument: A list of which columns to group by\n",
    "* Second argument: (Optional) How to combine values"
   ]
  },
  {
   "cell_type": "markdown",
   "id": "52e7f56b-4c8a-4ecc-9518-1dc16ffa7768",
   "metadata": {
    "slideshow": {
     "slide_type": "fragment"
    }
   },
   "source": [
    "---"
   ]
  },
  {
   "cell_type": "markdown",
   "id": "6f05a37f-5dd9-4a37-97a9-dfea7d678bed",
   "metadata": {
    "slideshow": {
     "slide_type": "subslide"
    }
   },
   "source": [
    "### Demo: Grouping by Two Columns"
   ]
  },
  {
   "cell_type": "markdown",
   "id": "e2da1035-2393-440c-9546-1526c1229f92",
   "metadata": {
    "deletable": false,
    "editable": false
   },
   "source": [
    "The variable `'weather_normalized_site_eui'` in `energy` reflects the energy use (measured in kBtu/ft2) the building would have consumed during 30-year average weather conditions. Determine what category (Office, Retail Store, etc.) and postal code combination the city has the highest average energy use consumed during 30-year average weather conditions. Since some of the values are not available `nan`, filter the energy data to exclude such values."
   ]
  },
  {
   "cell_type": "code",
   "execution_count": null,
   "id": "1f1d502b-019b-4baf-afdb-cc5bf9970a5e",
   "metadata": {
    "tags": []
   },
   "outputs": [],
   "source": [
    "energy_reduced = energy.select('category', 'postal_code', 'weather_normalized_site_eui') \n",
    "energy_filtered = energy_reduced.where('weather_normalized_site_eui', are.above(0))\n",
    "energy_filtered"
   ]
  },
  {
   "cell_type": "code",
   "execution_count": null,
   "id": "08bfacc3-ffeb-4fc6-86bf-47b6fa463f4c",
   "metadata": {
    "tags": []
   },
   "outputs": [],
   "source": [
    "..."
   ]
  },
  {
   "cell_type": "code",
   "execution_count": null,
   "id": "5e5041f5-2f1e-465f-9b9e-2d314f130c61",
   "metadata": {
    "tags": []
   },
   "outputs": [],
   "source": [
    "..."
   ]
  },
  {
   "cell_type": "code",
   "execution_count": null,
   "id": "0ea2dc48-07c7-4d39-b242-1cfca34face8",
   "metadata": {
    "tags": []
   },
   "outputs": [],
   "source": [
    "energy_by_cat_and_postal = ...\n",
    "..."
   ]
  },
  {
   "cell_type": "markdown",
   "id": "74248d31-a6ab-49c7-b4f6-be27de4af2c8",
   "metadata": {
    "slideshow": {
     "slide_type": "fragment"
    }
   },
   "source": [
    "---"
   ]
  },
  {
   "cell_type": "markdown",
   "id": "af7d231b-c2dc-44e7-8bb5-8905b37e3277",
   "metadata": {
    "slideshow": {
     "slide_type": "slide"
    }
   },
   "source": [
    "## Pivot Tables"
   ]
  },
  {
   "cell_type": "markdown",
   "id": "8e0ca5b8-dfca-45c3-8beb-959101512ea9",
   "metadata": {
    "slideshow": {
     "slide_type": "fragment"
    }
   },
   "source": [
    "---"
   ]
  },
  {
   "cell_type": "markdown",
   "id": "9ce5b764-148b-456b-ba00-51ba14c3cd08",
   "metadata": {
    "slideshow": {
     "slide_type": "subslide"
    }
   },
   "source": [
    "### Pivot"
   ]
  },
  {
   "cell_type": "markdown",
   "id": "e3ddf346-cf22-4f82-8a9c-62c0f27220e7",
   "metadata": {
    "slideshow": {
     "slide_type": "-"
    }
   },
   "source": [
    "* Produces a grid of counts or aggregated values based on two categorical variables\n",
    "* Two required arguments:\n",
    "    * First: variable that forms column labels of grid\n",
    "    * Second: variable that forms row labels of grid\n",
    "* Two optional arguments (include both or neither)\n",
    "    * `values=’column_label_to_aggregate’`\n",
    "    * `collect=function_to_aggregate_with`"
   ]
  },
  {
   "cell_type": "markdown",
   "id": "046d44c8-2bd7-4a78-9ecd-272f4f3cd714",
   "metadata": {
    "slideshow": {
     "slide_type": "fragment"
    }
   },
   "source": [
    "---"
   ]
  },
  {
   "cell_type": "markdown",
   "id": "2f59e5fe-3ed9-4294-8e8e-f81d3e0b37a1",
   "metadata": {
    "slideshow": {
     "slide_type": "subslide"
    }
   },
   "source": [
    "### Demo: Pivot Tables"
   ]
  },
  {
   "cell_type": "markdown",
   "id": "36227404-8eeb-40cc-b5b2-801207482af6",
   "metadata": {
    "deletable": false,
    "editable": false,
    "slideshow": {
     "slide_type": ""
    },
    "tags": []
   },
   "source": [
    "Using the `pivot` table method, summarize the average energy use consumed during 30-year average weather conditions across categories (Office, Retail Store, etc.) and postal code combinations."
   ]
  },
  {
   "cell_type": "code",
   "execution_count": null,
   "id": "e0119bf9-921e-45f9-8d96-ced5868b14d2",
   "metadata": {
    "tags": []
   },
   "outputs": [],
   "source": [
    "..."
   ]
  },
  {
   "cell_type": "code",
   "execution_count": null,
   "id": "e9b68ee7-a59c-4ff2-977a-2a3321df0dc2",
   "metadata": {
    "editable": true,
    "slideshow": {
     "slide_type": ""
    },
    "tags": []
   },
   "outputs": [],
   "source": [
    "..."
   ]
  },
  {
   "cell_type": "markdown",
   "id": "f2867f49-26e5-41fe-a899-ec1b0835f3b3",
   "metadata": {
    "slideshow": {
     "slide_type": "fragment"
    }
   },
   "source": [
    "---"
   ]
  },
  {
   "cell_type": "markdown",
   "id": "90b67b60-70ea-46f9-8a82-e672675eafbc",
   "metadata": {
    "slideshow": {
     "slide_type": "slide"
    }
   },
   "source": [
    "## Cross-Classification"
   ]
  },
  {
   "cell_type": "markdown",
   "id": "516f809e-3686-4cd0-8d39-6121048ff9bb",
   "metadata": {
    "slideshow": {
     "slide_type": "fragment"
    }
   },
   "source": [
    "---"
   ]
  },
  {
   "cell_type": "markdown",
   "id": "40c19efa-58e3-4f59-9b93-ed25e900b32c",
   "metadata": {},
   "source": [
    "### Group and Pivot Tables"
   ]
  },
  {
   "cell_type": "markdown",
   "id": "75c2b4a6-7775-4ef7-b2b3-5a551dd92901",
   "metadata": {
    "slideshow": {
     "slide_type": "-"
    }
   },
   "source": [
    "Cross-classification is to put individuals into groups based on the values of 2 or more variables."
   ]
  },
  {
   "cell_type": "markdown",
   "id": "e9e0b046-f883-4f27-bcc1-4910ef86d084",
   "metadata": {
    "slideshow": {
     "slide_type": "subslide"
    }
   },
   "source": [
    "For cross-classification:\n",
    "\n",
    "* Grouped Table\n",
    "    * Any number of grouping variables\n",
    "    * One combo of grouping variables per row\n",
    "    * Aggregate values of all other columns in table\n",
    "    * Missing combos absent\n",
    "* Pivot Table\n",
    "    * Two grouping variables: columns and rows\n",
    "    * One combo of grouping variables per entry\n",
    "    * Aggregate values of values column\n",
    "    * Missing combos = 0 (or empty string)"
   ]
  },
  {
   "cell_type": "markdown",
   "id": "3c027792-6d95-4273-854a-f8a36e540f74",
   "metadata": {
    "slideshow": {
     "slide_type": "fragment"
    }
   },
   "source": [
    "---"
   ]
  },
  {
   "cell_type": "markdown",
   "id": "42721033-b6cc-458a-a6ba-3b589a50b22e",
   "metadata": {
    "slideshow": {
     "slide_type": "subslide"
    }
   },
   "source": [
    "### Table Function Visualizer"
   ]
  },
  {
   "cell_type": "markdown",
   "id": "13ab5029-9332-47d3-883d-9fe5b3bbb997",
   "metadata": {},
   "source": [
    "Check out UC Berkeley's [Table Function Visualizer](https://www.data8.org/interactive_table_functions/) to better understand the `group` and `pivot` table methods."
   ]
  },
  {
   "cell_type": "markdown",
   "id": "48414fb5-fd97-4c8f-baab-a197b61d29a2",
   "metadata": {
    "slideshow": {
     "slide_type": "fragment"
    }
   },
   "source": [
    "---"
   ]
  },
  {
   "cell_type": "markdown",
   "id": "756ec322-aa95-413d-909c-eb83fc2b857c",
   "metadata": {
    "editable": true,
    "slideshow": {
     "slide_type": "notes"
    },
    "tags": []
   },
   "source": [
    "## Attribution"
   ]
  },
  {
   "cell_type": "markdown",
   "id": "18a21a8e-3163-40d0-8fa9-9b2998be27fb",
   "metadata": {},
   "source": [
    "This content is licensed under the <a href=\"https://creativecommons.org/licenses/by-nc-sa/4.0/\">Creative Commons Attribution-NonCommercial-ShareAlike 4.0 International License (CC BY-NC-SA 4.0)</a> and derived from the <a href=\"https://www.data8.org/\">Data 8: The Foundations of Data Science</a> offered by the University of California, Berkeley.\n",
    "\n",
    "<img src=\"./by-nc-sa.png\" width=100px>"
   ]
  }
 ],
 "metadata": {
  "kernelspec": {
   "display_name": "Python 3 (ipykernel)",
   "language": "python",
   "name": "python3"
  },
  "language_info": {
   "codemirror_mode": {
    "name": "ipython",
    "version": 3
   },
   "file_extension": ".py",
   "mimetype": "text/x-python",
   "name": "python",
   "nbconvert_exporter": "python",
   "pygments_lexer": "ipython3",
   "version": "3.11.9"
  },
  "otter": {
   "OK_FORMAT": true,
   "tests": {}
  }
 },
 "nbformat": 4,
 "nbformat_minor": 5
}
