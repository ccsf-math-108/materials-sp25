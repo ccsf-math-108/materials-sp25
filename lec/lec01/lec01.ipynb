{
 "cells": [
  {
   "cell_type": "markdown",
   "id": "ce5cdc9c-d528-408c-a297-05e3afc16395",
   "metadata": {},
   "source": [
    "<img src=\"./ccsf.png\" alt=\"CCSF Logo\" width=200px style=\"margin:0px -5px\">"
   ]
  },
  {
   "cell_type": "markdown",
   "id": "f9448c1a-44be-4359-b021-8be850d6b9a4",
   "metadata": {
    "editable": true,
    "slideshow": {
     "slide_type": ""
    },
    "tags": []
   },
   "source": [
    "# Lecture 01: Introduction"
   ]
  },
  {
   "cell_type": "markdown",
   "id": "b507a7c8-8f14-494a-8110-411b57d7f70f",
   "metadata": {
    "editable": true,
    "slideshow": {
     "slide_type": "-"
    },
    "tags": []
   },
   "source": [
    "Associated Textbook Sections: [1.0, 1.1, 1.2, 1.3](https://inferentialthinking.com/chapters/01/what-is-data-science.html)"
   ]
  },
  {
   "cell_type": "markdown",
   "id": "47992dd9-e6c0-462c-9f75-771ff1f55026",
   "metadata": {
    "editable": true,
    "slideshow": {
     "slide_type": "fragment"
    },
    "tags": []
   },
   "source": [
    "---"
   ]
  },
  {
   "cell_type": "markdown",
   "id": "53bca4bf-8f7a-41c6-a615-c6af8abbd49f",
   "metadata": {
    "editable": true,
    "slideshow": {
     "slide_type": "slide"
    },
    "tags": []
   },
   "source": [
    "## Overview"
   ]
  },
  {
   "cell_type": "markdown",
   "id": "b6c8814b-fa3f-49d9-bbcd-360072a38d7a",
   "metadata": {
    "editable": true,
    "slideshow": {
     "slide_type": ""
    },
    "tags": []
   },
   "source": [
    "* [What is Data Science?](#What-is-Data-Science?)\n",
    "* [Insights from Text](#Insights-from-Text)\n",
    "* [Processing Adventures of Huckleberry Finn](#Processing-Adventures-of-Huckleberry-Finn)\n",
    "* [Visualizing the Story](#Visualizing-the-Story)\n",
    "* [Analyzing Little Women](#Analyzing-Little-Women)\n",
    "* [A Relationship](#A-Relationship)\n",
    "* [What's Next?](#What's-Next?)"
   ]
  },
  {
   "cell_type": "markdown",
   "id": "89b3c3c1-a493-4d37-9190-341053b64797",
   "metadata": {
    "editable": true,
    "slideshow": {
     "slide_type": "fragment"
    },
    "tags": []
   },
   "source": [
    "---"
   ]
  },
  {
   "cell_type": "markdown",
   "id": "7b757cbb-e235-4049-80e1-f12a79b5f896",
   "metadata": {
    "editable": true,
    "slideshow": {
     "slide_type": "slide"
    },
    "tags": []
   },
   "source": [
    "## What is Data Science?"
   ]
  },
  {
   "cell_type": "markdown",
   "id": "139116f2-7923-4e1f-bc22-22e00d30ae1a",
   "metadata": {
    "editable": true,
    "slideshow": {
     "slide_type": "fragment"
    },
    "tags": []
   },
   "source": [
    "---"
   ]
  },
  {
   "cell_type": "markdown",
   "id": "df7af94e-6461-4ab7-b66d-4d9141c69f1c",
   "metadata": {
    "editable": true,
    "slideshow": {
     "slide_type": "subslide"
    },
    "tags": []
   },
   "source": [
    "### Exploration, Inference, and Prediction"
   ]
  },
  {
   "cell_type": "markdown",
   "id": "f87031f1-f6bc-4dc6-984d-57f55bd4ead5",
   "metadata": {
    "editable": true,
    "slideshow": {
     "slide_type": ""
    },
    "tags": []
   },
   "source": [
    "Learning about the world from data using computation:"
   ]
  },
  {
   "cell_type": "markdown",
   "id": "612cc8df-2d4e-4fb6-8c56-e81615f0f81d",
   "metadata": {
    "editable": true,
    "slideshow": {
     "slide_type": "fragment"
    },
    "tags": []
   },
   "source": [
    "<img src=\"./what_is_ds.png\" width = 80% alt=\"Data Science categorized as Exploration, Inference, and Prediction.\">"
   ]
  },
  {
   "cell_type": "markdown",
   "id": "4bfb77e6-653c-4e0c-8553-0545f081a755",
   "metadata": {
    "editable": true,
    "slideshow": {
     "slide_type": "fragment"
    },
    "tags": []
   },
   "source": [
    "---"
   ]
  },
  {
   "cell_type": "markdown",
   "id": "9b521fc3-481d-4d32-a9af-fa4ffc9dae29",
   "metadata": {
    "editable": true,
    "slideshow": {
     "slide_type": "subslide"
    },
    "tags": []
   },
   "source": [
    "### Job Outlook"
   ]
  },
  {
   "cell_type": "markdown",
   "id": "cfc65e45-1092-48ef-bb16-1a5874fa963e",
   "metadata": {
    "editable": true,
    "slideshow": {
     "slide_type": ""
    },
    "tags": []
   },
   "source": [
    "According to [the US Bureau of Labor Statistics](https://www.bls.gov/ooh/math/data-scientists.htm):\n",
    "* Data scientists use analytical tools and techniques to extract meaningful insights from data.\n",
    "* 2023 Median Pay: \\$108,020 per year\n",
    "* Typical Entry-Level Education: Bachelor's degree\n",
    "* Number of Jobs, 2022: 168,900\n",
    "* Job Outlook, 2022-32: 35% Increase"
   ]
  },
  {
   "cell_type": "markdown",
   "id": "84888804-2467-495a-9f51-412ff77ec10a",
   "metadata": {
    "editable": true,
    "slideshow": {
     "slide_type": "fragment"
    },
    "tags": []
   },
   "source": [
    "---"
   ]
  },
  {
   "cell_type": "markdown",
   "id": "ae7f5a4d-a409-4cf9-ac19-58ceb0c90f5b",
   "metadata": {},
   "source": [
    "### Domain Knowledge and Collaboration"
   ]
  },
  {
   "cell_type": "markdown",
   "id": "3c322caa-b90c-45af-921e-e841a69f9548",
   "metadata": {
    "editable": true,
    "slideshow": {
     "slide_type": ""
    },
    "tags": []
   },
   "source": [
    "<a href=\"https://commons.wikimedia.org/wiki/File:Data_types_-_en.svg\"><img src=\"./data.png\" width = 40% alt=\"Types of data\"></a>\n",
    "\n",
    "* Data is information that can be used to inform decisions.\n",
    "* Data exists in many formats: numbers, videos, images, words, etc.\n",
    "* Interpretation of data depends on the subject domain (topic).\n",
    "* In our complex world, [cross-functional team collaboration](https://www.linkedin.com/pulse/cross-functional-team-collaboration-data-scientists-okonkwo--zysvf/) is becoming more and more common.\n",
    "    * In other words, don't expect to work alone as a data scientist! "
   ]
  },
  {
   "cell_type": "markdown",
   "id": "89d7642e-0b10-4ef5-b3cc-45bff28aa012",
   "metadata": {
    "editable": true,
    "slideshow": {
     "slide_type": "fragment"
    },
    "tags": []
   },
   "source": [
    "---"
   ]
  },
  {
   "cell_type": "markdown",
   "id": "c0df33dd-d9e3-44fc-8e7e-0a3cc153cdae",
   "metadata": {},
   "source": [
    "### Jupyter Notebooks"
   ]
  },
  {
   "cell_type": "markdown",
   "id": "f92beaf5-0985-47a0-a291-4932620066c3",
   "metadata": {
    "editable": true,
    "slideshow": {
     "slide_type": "notes"
    },
    "tags": [
     "Notes"
    ]
   },
   "source": [
    "* Data scientists use a variety of technologies to perform their tasks.\n",
    "* A [Jupyter Notebook](https://jupyter.org/) is an application that combines:  \n",
    "    * Narrative: The text describing your analysis\n",
    "    * Code: The program that does the analysis\n",
    "    * Results: The output of the program\n",
    "* The Jupyter environment was created by [Fernando Perez](https://bids.berkeley.edu/people/fernando-perez) at UC Berkeley.\n",
    "* * The Jupyter notebooks contain computer code written in a language called [Python](https://www.python.org/).\n",
    "* You will learn the basics of working with these notebooks and Python over the next few lessons and assignments.\n",
    "\n",
    "**Note: This notebook contains Python code you are not responsible for understanding in this course.**"
   ]
  },
  {
   "cell_type": "markdown",
   "id": "75ddaa51-61f2-4268-b907-c2367171442f",
   "metadata": {
    "editable": true,
    "slideshow": {
     "slide_type": "fragment"
    },
    "tags": []
   },
   "source": [
    "---"
   ]
  },
  {
   "cell_type": "markdown",
   "id": "d76282f1-7e8d-4f3d-abf7-4060140d5bbf",
   "metadata": {
    "editable": true,
    "slideshow": {
     "slide_type": "slide"
    },
    "tags": []
   },
   "source": [
    "## Insights from Text"
   ]
  },
  {
   "cell_type": "markdown",
   "id": "5a2e69f2-583f-4601-a680-59cc97926164",
   "metadata": {},
   "source": [
    "---"
   ]
  },
  {
   "cell_type": "markdown",
   "id": "431a7ada-031b-4b2b-81ba-a5d23bb4f9a1",
   "metadata": {
    "editable": true,
    "slideshow": {
     "slide_type": "subslide"
    },
    "tags": []
   },
   "source": [
    "### Python \"Reads\" Two Books"
   ]
  },
  {
   "cell_type": "markdown",
   "id": "aeb2aa63-9c89-4e75-84c4-e9bad48a120f",
   "metadata": {},
   "source": [
    "<img src=\"./huck_finn_book.jpeg\" width=200px><img src=\"./little_women_book.jpg\" width=135px>\n",
    "\n",
    "* [Project Gutenberg](https://www.gutenberg.org/) contains public domain book data.\n",
    "* The processing of natural languages ([NLP](https://en.wikipedia.org/wiki/Natural_language_processing)) is a major focus of research and application right now.\n",
    "* The following code loads the text from the Adventures of Huckleberry Finn and Little Women into this environment."
   ]
  },
  {
   "cell_type": "code",
   "execution_count": null,
   "id": "3522c7cb-3606-4586-bf9d-726c0b0a4006",
   "metadata": {
    "editable": true,
    "slideshow": {
     "slide_type": "fragment"
    },
    "tags": []
   },
   "outputs": [],
   "source": [
    "with open(\"./huck_finn.txt\") as huck_finn, \\\n",
    "open(\"./little_women.txt\") as little_women:\n",
    "    huck_finn_chapters = huck_finn.read().split('CHAPTER ')[44:]\n",
    "    little_women_chapters = little_women.read().split('CHAPTER ')[1:]"
   ]
  },
  {
   "cell_type": "markdown",
   "id": "3cf393f2-4a6e-463d-815c-d98778ecb684",
   "metadata": {
    "editable": true,
    "slideshow": {
     "slide_type": "fragment"
    },
    "tags": []
   },
   "source": [
    "---"
   ]
  },
  {
   "cell_type": "markdown",
   "id": "3b723162-156b-4797-8787-3cc71555b931",
   "metadata": {
    "editable": true,
    "slideshow": {
     "slide_type": "subslide"
    },
    "tags": []
   },
   "source": [
    "### Preview the Data"
   ]
  },
  {
   "attachments": {},
   "cell_type": "markdown",
   "id": "e01e3d93-c99c-439d-9c3e-f29f104d8d18",
   "metadata": {
    "editable": true,
    "slideshow": {
     "slide_type": "fragment"
    },
    "tags": []
   },
   "source": [
    "The following code shows the first 100 characters of Chapter 1 from both books."
   ]
  },
  {
   "cell_type": "code",
   "execution_count": null,
   "id": "895a8f33-a0f9-4eb3-86c7-1d3f81508f68",
   "metadata": {
    "editable": true,
    "slideshow": {
     "slide_type": "fragment"
    },
    "tags": []
   },
   "outputs": [],
   "source": [
    "huck_finn_chapters[0][:100]"
   ]
  },
  {
   "cell_type": "code",
   "execution_count": null,
   "id": "6c968ab4-224f-4edf-83f6-b5592caa6c25",
   "metadata": {},
   "outputs": [],
   "source": [
    "little_women_chapters[0][:100]"
   ]
  },
  {
   "cell_type": "markdown",
   "id": "edca3cbc-fc2d-4988-b370-fdb477a34459",
   "metadata": {},
   "source": [
    "The data might not look like you expect it to!"
   ]
  },
  {
   "cell_type": "markdown",
   "id": "59128385-3d17-4057-96f3-f1b3b79b02fe",
   "metadata": {
    "editable": true,
    "slideshow": {
     "slide_type": "fragment"
    },
    "tags": []
   },
   "source": [
    "---"
   ]
  },
  {
   "cell_type": "markdown",
   "id": "8ccb3e7e-fbab-432b-b168-6b62a164c3d0",
   "metadata": {
    "editable": true,
    "slideshow": {
     "slide_type": "subslide"
    },
    "tags": []
   },
   "source": [
    "### datascience"
   ]
  },
  {
   "cell_type": "markdown",
   "id": "22fee427-87d8-475e-9558-6da5f0766697",
   "metadata": {},
   "source": [
    "* Data Science tasks regularly involve transforming data for analysis.\n",
    "* We will use UC Berkeley's [`datascience`](https://datascience.readthedocs.io/) library (a collection of code) to do most of our coding work.\n",
    "* The `datascience` library was designed to help students transition from having no coding experience to using more professional libraries such as [`pandas`](https://pandas.pydata.org/)."
   ]
  },
  {
   "cell_type": "markdown",
   "id": "c49de758-a9a8-4ebb-a166-964b52089b75",
   "metadata": {
    "editable": true,
    "slideshow": {
     "slide_type": "fragment"
    },
    "tags": []
   },
   "source": [
    "---"
   ]
  },
  {
   "cell_type": "markdown",
   "id": "84581e8d-05b4-44bb-8682-7ff6916fc737",
   "metadata": {
    "editable": true,
    "slideshow": {
     "slide_type": "subslide"
    },
    "tags": []
   },
   "source": [
    "### Import `datascience`"
   ]
  },
  {
   "cell_type": "markdown",
   "id": "b102eb99-3f88-477c-814c-efe935daad1a",
   "metadata": {
    "editable": true,
    "slideshow": {
     "slide_type": ""
    },
    "tags": []
   },
   "source": [
    "* The following code imports all of the content of the `datascience` library.\n",
    "* Notice that the word `Table` (case-sensitive) has a special meaning."
   ]
  },
  {
   "cell_type": "markdown",
   "id": "7f1fdd1a-f219-483c-b8b3-6068d9dedc88",
   "metadata": {
    "editable": true,
    "slideshow": {
     "slide_type": "fragment"
    },
    "tags": []
   },
   "source": [
    "---"
   ]
  },
  {
   "cell_type": "code",
   "execution_count": null,
   "id": "2fe096b7-0656-4eac-9b54-55adc1be1c36",
   "metadata": {
    "editable": true,
    "slideshow": {
     "slide_type": "fragment"
    },
    "tags": []
   },
   "outputs": [],
   "source": [
    "from datascience import *"
   ]
  },
  {
   "cell_type": "code",
   "execution_count": null,
   "id": "b3d0aa79-fdf4-44ca-bb11-a96cc00d1081",
   "metadata": {
    "editable": true,
    "slideshow": {
     "slide_type": "fragment"
    },
    "tags": []
   },
   "outputs": [],
   "source": [
    "Table"
   ]
  },
  {
   "cell_type": "markdown",
   "id": "33493d8d-bb97-4215-ade2-8d77abc20746",
   "metadata": {
    "editable": true,
    "slideshow": {
     "slide_type": "fragment"
    },
    "tags": []
   },
   "source": [
    "---"
   ]
  },
  {
   "cell_type": "markdown",
   "id": "1122d05f-9764-43d8-b981-212a4909a76c",
   "metadata": {
    "editable": true,
    "slideshow": {
     "slide_type": "slide"
    },
    "tags": []
   },
   "source": [
    "## Processing Adventures of Huckleberry Finn"
   ]
  },
  {
   "cell_type": "markdown",
   "id": "2187d44e-43e6-4e53-9a8c-7e2a3ab98eb8",
   "metadata": {
    "editable": true,
    "slideshow": {
     "slide_type": "fragment"
    },
    "tags": []
   },
   "source": [
    "---"
   ]
  },
  {
   "cell_type": "markdown",
   "id": "68ae80cb-9fed-43bd-971a-23fa9ee1f09f",
   "metadata": {
    "editable": true,
    "slideshow": {
     "slide_type": "subslide"
    },
    "tags": []
   },
   "source": [
    "### Create a Table"
   ]
  },
  {
   "cell_type": "markdown",
   "id": "71b29e0d-9afa-4942-9f30-1d8035ae0ec3",
   "metadata": {
    "editable": true,
    "slideshow": {
     "slide_type": "subslide"
    },
    "tags": []
   },
   "source": [
    "The following code organizes all the text from each chapter of the book within a `Table`."
   ]
  },
  {
   "cell_type": "code",
   "execution_count": null,
   "id": "d5a26325-74db-4483-9a70-ba6339bb3ea4",
   "metadata": {
    "editable": true,
    "slideshow": {
     "slide_type": "fragment"
    },
    "tags": []
   },
   "outputs": [],
   "source": [
    "Table().with_column('Chapters', huck_finn_chapters)"
   ]
  },
  {
   "cell_type": "markdown",
   "id": "e11e756e-6fd8-45a0-8ef1-526f648dd047",
   "metadata": {
    "editable": true,
    "slideshow": {
     "slide_type": "fragment"
    },
    "tags": []
   },
   "source": [
    "---"
   ]
  },
  {
   "cell_type": "markdown",
   "id": "e89aecd3-d24e-4d2d-81a3-36a64738864b",
   "metadata": {
    "editable": true,
    "slideshow": {
     "slide_type": "subslide"
    },
    "tags": []
   },
   "source": [
    "### Word Frequency"
   ]
  },
  {
   "cell_type": "markdown",
   "id": "c084ccf7-71ae-4359-9e42-5b0e814066ac",
   "metadata": {
    "editable": true,
    "slideshow": {
     "slide_type": ""
    },
    "tags": []
   },
   "source": [
    "What can the frequency of words in a story tell us about the story?"
   ]
  },
  {
   "cell_type": "markdown",
   "id": "e74bbb4a-6bf5-4f1d-9c72-6f17d39af5ca",
   "metadata": {
    "editable": true,
    "slideshow": {
     "slide_type": "fragment"
    },
    "tags": []
   },
   "source": [
    "* Counting words in a book might seem overwhelming.\n",
    "* Computers can help with tedious tasks like this."
   ]
  },
  {
   "cell_type": "markdown",
   "id": "9b1298f7-40ad-488e-acfc-f48899d2f3c0",
   "metadata": {
    "editable": true,
    "slideshow": {
     "slide_type": "fragment"
    },
    "tags": []
   },
   "source": [
    "---"
   ]
  },
  {
   "cell_type": "markdown",
   "id": "7b44c99e-29e2-4012-b559-a011a77f54af",
   "metadata": {
    "editable": true,
    "slideshow": {
     "slide_type": "subslide"
    },
    "tags": []
   },
   "source": [
    "### NumPy"
   ]
  },
  {
   "cell_type": "markdown",
   "id": "fca0faba-841e-4865-a2a7-71a9ce3b8d08",
   "metadata": {
    "editable": true,
    "slideshow": {
     "slide_type": ""
    },
    "tags": []
   },
   "source": [
    "* [`numpy`](https://numpy.org/) is another standard library that you work within this course.\n",
    "* This library will help with performing repetitive calculations."
   ]
  },
  {
   "cell_type": "markdown",
   "id": "a8ce3700-bce8-4523-85fa-a162213b296f",
   "metadata": {
    "editable": true,
    "slideshow": {
     "slide_type": "fragment"
    },
    "tags": []
   },
   "source": [
    "---"
   ]
  },
  {
   "cell_type": "markdown",
   "id": "9b16628e-858e-44e1-a548-ab6e7bc0f57b",
   "metadata": {
    "editable": true,
    "slideshow": {
     "slide_type": "subslide"
    },
    "tags": []
   },
   "source": [
    "### Import `numpy`"
   ]
  },
  {
   "cell_type": "markdown",
   "id": "1dc80c98-1bdb-45f7-a5b5-08bfe88f68a3",
   "metadata": {
    "editable": true,
    "slideshow": {
     "slide_type": "subslide"
    },
    "tags": []
   },
   "source": [
    "The following code imports the `numpy` library and give it the alias `np`."
   ]
  },
  {
   "cell_type": "code",
   "execution_count": null,
   "id": "3f0aded6-ffbf-4af2-b821-fd5337bd1c04",
   "metadata": {
    "editable": true,
    "slideshow": {
     "slide_type": "fragment"
    },
    "tags": []
   },
   "outputs": [],
   "source": [
    "import numpy as np"
   ]
  },
  {
   "cell_type": "markdown",
   "id": "c6580f72-f988-436f-aa27-e41afedc4159",
   "metadata": {
    "editable": true,
    "slideshow": {
     "slide_type": "fragment"
    },
    "tags": []
   },
   "source": [
    "---"
   ]
  },
  {
   "cell_type": "markdown",
   "id": "2057f4c0-8f91-4ada-93c3-a5ee5e7da537",
   "metadata": {
    "editable": true,
    "slideshow": {
     "slide_type": "subslide"
    },
    "tags": []
   },
   "source": [
    "### Counting Names with NumPy"
   ]
  },
  {
   "cell_type": "markdown",
   "id": "6dd2fd39-a999-49d6-a21e-27f1862f9f36",
   "metadata": {
    "editable": true,
    "slideshow": {
     "slide_type": "subslide"
    },
    "tags": []
   },
   "source": [
    "The following code counts the number of times \"Tom\" and \"Jim\" appear in the text."
   ]
  },
  {
   "cell_type": "code",
   "execution_count": null,
   "id": "1b29933e-5273-451f-b3f2-7455cdb9eedd",
   "metadata": {
    "editable": true,
    "slideshow": {
     "slide_type": "fragment"
    },
    "tags": []
   },
   "outputs": [],
   "source": [
    "np.char.count(huck_finn_chapters, 'Tom')"
   ]
  },
  {
   "cell_type": "code",
   "execution_count": null,
   "id": "bf999d5a-b679-4083-b283-69e48aaa6edb",
   "metadata": {
    "editable": true,
    "slideshow": {
     "slide_type": "fragment"
    },
    "tags": []
   },
   "outputs": [],
   "source": [
    "np.char.count(huck_finn_chapters, 'Jim')"
   ]
  },
  {
   "cell_type": "markdown",
   "id": "c8cdb195-b52b-4713-aa5f-ce3505238874",
   "metadata": {
    "editable": true,
    "slideshow": {
     "slide_type": "fragment"
    },
    "tags": []
   },
   "source": [
    "---"
   ]
  },
  {
   "cell_type": "markdown",
   "id": "72834a8a-c883-49cb-b7a9-62de278eebd4",
   "metadata": {
    "editable": true,
    "slideshow": {
     "slide_type": "subslide"
    },
    "tags": []
   },
   "source": [
    "### Creating Another Table"
   ]
  },
  {
   "cell_type": "markdown",
   "id": "62da9f86-45b3-4b34-8b70-50de61054941",
   "metadata": {
    "editable": true,
    "slideshow": {
     "slide_type": "subslide"
    },
    "tags": []
   },
   "source": [
    "The following code creates a table called `counts` that organizes the frequency of the names Jim, Tom, and Huck within each chapter."
   ]
  },
  {
   "cell_type": "code",
   "execution_count": null,
   "id": "9264b73a-e6e1-427b-8182-814d98170817",
   "metadata": {
    "editable": true,
    "slideshow": {
     "slide_type": "fragment"
    },
    "tags": []
   },
   "outputs": [],
   "source": [
    "counts_hf = Table().with_columns([\n",
    "    'Tom', np.char.count(huck_finn_chapters, 'Tom'),\n",
    "    'Jim', np.char.count(huck_finn_chapters, 'Jim'),\n",
    "    'Huck', np.char.count(huck_finn_chapters, 'Huck'),\n",
    "])\n",
    "counts_hf"
   ]
  },
  {
   "cell_type": "markdown",
   "id": "ffffe1e9-8256-4be3-9f01-1beeb2f0cdfa",
   "metadata": {},
   "source": [
    "That is a lot of numbers!"
   ]
  },
  {
   "cell_type": "markdown",
   "id": "66c26bca-f6f3-4f90-b71f-358fb160eaad",
   "metadata": {
    "editable": true,
    "slideshow": {
     "slide_type": "fragment"
    },
    "tags": []
   },
   "source": [
    "---"
   ]
  },
  {
   "cell_type": "markdown",
   "id": "65535b74-562c-41c9-b765-eb62b8f88bda",
   "metadata": {},
   "source": [
    "## Visualizing the Story"
   ]
  },
  {
   "cell_type": "markdown",
   "id": "6a0c79f7-fc87-4778-b05d-491ce58317f0",
   "metadata": {
    "editable": true,
    "slideshow": {
     "slide_type": "fragment"
    },
    "tags": []
   },
   "source": [
    "---"
   ]
  },
  {
   "cell_type": "markdown",
   "id": "8ced0ec8-c23e-4378-8eb6-3d9b4d35f2b6",
   "metadata": {
    "editable": true,
    "slideshow": {
     "slide_type": "subslide"
    },
    "tags": []
   },
   "source": [
    "### Matplotlib"
   ]
  },
  {
   "cell_type": "markdown",
   "id": "8b00840e-d9d5-4ea2-821c-334257227f2d",
   "metadata": {
    "editable": true,
    "slideshow": {
     "slide_type": ""
    },
    "tags": []
   },
   "source": [
    "* Visualizations help summarize data and allow us to see patterns.\n",
    "* [Matplotlib](https://matplotlib.org/) is a standard Python visualization library.\n",
    "* In this course, we will use it *indirectly* to create visualizations. "
   ]
  },
  {
   "cell_type": "markdown",
   "id": "8716ce0e-3d37-4607-a1ca-4ec1d5180e46",
   "metadata": {
    "editable": true,
    "slideshow": {
     "slide_type": "fragment"
    },
    "tags": []
   },
   "source": [
    "---"
   ]
  },
  {
   "cell_type": "markdown",
   "id": "cf20891a-ae03-4762-b89c-435d53643156",
   "metadata": {
    "editable": true,
    "slideshow": {
     "slide_type": "subslide"
    },
    "tags": []
   },
   "source": [
    "### Import and Configure `matplotlib`"
   ]
  },
  {
   "cell_type": "markdown",
   "id": "15ed414d-1b4d-414b-bd31-1190adadfae7",
   "metadata": {
    "editable": true,
    "slideshow": {
     "slide_type": "subslide"
    },
    "tags": []
   },
   "source": [
    "The following code imports and configures `matplotlib`."
   ]
  },
  {
   "cell_type": "code",
   "execution_count": null,
   "id": "b79aef0c-0e93-401f-9d90-99516cafb807",
   "metadata": {},
   "outputs": [],
   "source": [
    "%matplotlib inline\n",
    "import matplotlib.pyplot as plt\n",
    "plt.style.use('fivethirtyeight')"
   ]
  },
  {
   "cell_type": "markdown",
   "id": "ee0cb68f-8d4c-4583-aa56-b8e6173c467e",
   "metadata": {
    "editable": true,
    "slideshow": {
     "slide_type": "fragment"
    },
    "tags": []
   },
   "source": [
    "---"
   ]
  },
  {
   "cell_type": "markdown",
   "id": "fde27ad7-f2a5-47c4-b005-3b2a3662b888",
   "metadata": {
    "editable": true,
    "slideshow": {
     "slide_type": "subslide"
    },
    "tags": []
   },
   "source": [
    "### Visualize a Trend"
   ]
  },
  {
   "cell_type": "markdown",
   "id": "4cbbe16f-c44b-4bfd-aef0-e4920afb08de",
   "metadata": {
    "editable": true,
    "slideshow": {
     "slide_type": "subslide"
    },
    "tags": []
   },
   "source": [
    "* Run the following code to visualize how the cumulative counts for each person change over the chapters.\n",
    "* When you create a graph, observe patterns and ask questions.\n",
    "    * Do you notice any interesting patterns in the lines?\n",
    "    * Why might those patterns exist?"
   ]
  },
  {
   "cell_type": "code",
   "execution_count": null,
   "id": "554f4a2d-fbb4-400e-8638-e930e35aff91",
   "metadata": {
    "editable": true,
    "slideshow": {
     "slide_type": "fragment"
    },
    "tags": []
   },
   "outputs": [],
   "source": [
    "original_labels_hf =  list(counts_hf.labels)\n",
    "cumulative_values_hf = ([np.cumsum(counts_hf.column(index)) \n",
    "                         for index in np.arange(counts_hf.num_columns)])\n",
    "cumulative_counts_hf = (counts_hf\n",
    "                        .with_columns(zip(original_labels_hf, cumulative_values_hf))\n",
    "                        .with_column('Chapter', np.arange(1, 44, 1)))\n",
    "cumulative_counts_hf.plot('Chapter')\n",
    "plt.title('Cumulative Number of Times Name Appears')\n",
    "plt.show()"
   ]
  },
  {
   "cell_type": "markdown",
   "id": "1564f971-daa4-48d5-bb8a-873441cf4fb7",
   "metadata": {
    "editable": true,
    "slideshow": {
     "slide_type": "fragment"
    },
    "tags": []
   },
   "source": [
    "---"
   ]
  },
  {
   "cell_type": "markdown",
   "id": "f5ba4dc6-5031-41e2-8577-23a2e5c3fa35",
   "metadata": {
    "editable": true,
    "slideshow": {
     "slide_type": "slide"
    },
    "tags": []
   },
   "source": [
    "## Analyzing Little Women"
   ]
  },
  {
   "cell_type": "markdown",
   "id": "cf3368af-e6b6-41bb-998c-61171ab7f423",
   "metadata": {
    "editable": true,
    "slideshow": {
     "slide_type": "fragment"
    },
    "tags": []
   },
   "source": [
    "---"
   ]
  },
  {
   "cell_type": "markdown",
   "id": "da54ae2d-c0ed-4abc-92a5-d2d9847ae502",
   "metadata": {
    "editable": true,
    "slideshow": {
     "slide_type": "subslide"
    },
    "tags": []
   },
   "source": [
    "### Create a Table"
   ]
  },
  {
   "cell_type": "markdown",
   "id": "aac34afd-e25a-434c-9dd3-1b19bad04e26",
   "metadata": {
    "editable": true,
    "slideshow": {
     "slide_type": ""
    },
    "tags": []
   },
   "source": [
    "The following code organizes the text from each chapter from Little Women within a `Table`."
   ]
  },
  {
   "cell_type": "code",
   "execution_count": null,
   "id": "cf44db3d-5c38-42bd-8add-8ee95e341e5d",
   "metadata": {
    "editable": true,
    "slideshow": {
     "slide_type": "fragment"
    },
    "tags": []
   },
   "outputs": [],
   "source": [
    "Table().with_column('Chapters', little_women_chapters)"
   ]
  },
  {
   "cell_type": "markdown",
   "id": "391bcc49-a985-42d8-8601-3c646ce44cd0",
   "metadata": {
    "editable": true,
    "slideshow": {
     "slide_type": "fragment"
    },
    "tags": []
   },
   "source": [
    "---"
   ]
  },
  {
   "cell_type": "markdown",
   "id": "e959b1db-1487-45ac-8a52-3b07674a43c9",
   "metadata": {
    "editable": true,
    "slideshow": {
     "slide_type": "subslide"
    },
    "tags": []
   },
   "source": [
    "### Counting Names"
   ]
  },
  {
   "cell_type": "markdown",
   "id": "77887fea-7ec6-455d-9763-1289c7e44308",
   "metadata": {
    "editable": true,
    "slideshow": {
     "slide_type": ""
    },
    "tags": []
   },
   "source": [
    "The following code counts how often the names of some characters in Little Women appear within each chapter."
   ]
  },
  {
   "cell_type": "code",
   "execution_count": null,
   "id": "36ea83e0-8966-4d68-b913-f4dbaa406905",
   "metadata": {
    "editable": true,
    "slideshow": {
     "slide_type": "fragment"
    },
    "tags": []
   },
   "outputs": [],
   "source": [
    "people_lw = ['Amy', 'Beth', 'Jo', 'Laurie', 'Meg']\n",
    "counts_lw = {pp: np.char.count(little_women_chapters, pp) for pp in people_lw}\n",
    "\n",
    "counts_lw = Table().with_columns([\n",
    "        'Amy', counts_lw['Amy'],\n",
    "        'Beth',counts_lw['Beth'],\n",
    "        'Jo', counts_lw['Jo'],\n",
    "        'Laurie', counts_lw['Laurie'],\n",
    "        'Meg', counts_lw['Meg']\n",
    "    ])\n",
    "counts_lw"
   ]
  },
  {
   "cell_type": "markdown",
   "id": "b7336f66-a955-4fe6-8dbc-51659ccd2e27",
   "metadata": {
    "editable": true,
    "slideshow": {
     "slide_type": "fragment"
    },
    "tags": []
   },
   "source": [
    "---"
   ]
  },
  {
   "cell_type": "markdown",
   "id": "03dfa92c-17f3-40d9-ad13-db5df19ab77a",
   "metadata": {
    "editable": true,
    "slideshow": {
     "slide_type": "subslide"
    },
    "tags": []
   },
   "source": [
    "### Visualize a Trend"
   ]
  },
  {
   "cell_type": "markdown",
   "id": "713ad45f-ab3e-4fcf-bb6a-88a9212ac502",
   "metadata": {
    "editable": true,
    "slideshow": {
     "slide_type": ""
    },
    "tags": []
   },
   "source": [
    "* Use the following code to visualize how the cumulative counts for each person change over the chapters.\n",
    "* What do you notice in this visualization?"
   ]
  },
  {
   "cell_type": "code",
   "execution_count": null,
   "id": "fdae3fa0-c01d-4b30-add9-0546f4a26e29",
   "metadata": {
    "editable": true,
    "slideshow": {
     "slide_type": "fragment"
    },
    "tags": []
   },
   "outputs": [],
   "source": [
    "original_labels_lw =  list(counts_lw.labels)\n",
    "cumulative_values_lw = ([np.cumsum(counts_lw.column(index)) \n",
    "                      for index in np.arange(counts_lw.num_columns)])\n",
    "cumulative_counts_lw = (counts_lw\n",
    "                        .with_columns(zip(original_labels_lw, cumulative_values_lw))\n",
    "                        .with_column('Chapter', np.arange(1, 48, 1)))\n",
    "cumulative_counts_lw.plot('Chapter')\n",
    "plt.title('Cumulative Number of Times Name Appears')\n",
    "plt.show()"
   ]
  },
  {
   "cell_type": "markdown",
   "id": "f12606bb-b818-4560-93f9-ff9cc75ae952",
   "metadata": {
    "editable": true,
    "slideshow": {
     "slide_type": "fragment"
    },
    "tags": []
   },
   "source": [
    "---"
   ]
  },
  {
   "cell_type": "markdown",
   "id": "b27fa322-588a-4fac-be4e-d63a7190966e",
   "metadata": {
    "editable": true,
    "slideshow": {
     "slide_type": "slide"
    },
    "tags": []
   },
   "source": [
    "## A Relationship"
   ]
  },
  {
   "cell_type": "markdown",
   "id": "f32db826-07a0-41ea-a690-9930e9abe433",
   "metadata": {
    "editable": true,
    "slideshow": {
     "slide_type": "fragment"
    },
    "tags": []
   },
   "source": [
    "---"
   ]
  },
  {
   "cell_type": "markdown",
   "id": "aecf515a-0d09-43cf-a90d-4365096f795d",
   "metadata": {
    "editable": true,
    "slideshow": {
     "slide_type": "subslide"
    },
    "tags": []
   },
   "source": [
    "### Chapter Length vs. Sentence Length"
   ]
  },
  {
   "cell_type": "markdown",
   "id": "b497356a-9585-48e4-a479-ea8d0c22d794",
   "metadata": {
    "editable": true,
    "slideshow": {
     "slide_type": ""
    },
    "tags": []
   },
   "source": [
    "* Is there a relationship between the length of a chapter and the number of sentences in that chapter?\n",
    "* To explore this determine:\n",
    "    * Chapter length: A count of all the symbolic characters of the chapter.\n",
    "    * Sentence Length: An approximate count of the number of sentences in each chapter."
   ]
  },
  {
   "cell_type": "markdown",
   "id": "a0acc96b-482a-475a-b527-906996b03b86",
   "metadata": {
    "editable": true,
    "slideshow": {
     "slide_type": "fragment"
    },
    "tags": []
   },
   "source": [
    "---"
   ]
  },
  {
   "cell_type": "markdown",
   "id": "9f514559-ed72-4dea-b626-75d50053a854",
   "metadata": {
    "editable": true,
    "slideshow": {
     "slide_type": "subslide"
    },
    "tags": []
   },
   "source": [
    "### Create Some Tools"
   ]
  },
  {
   "cell_type": "markdown",
   "id": "9d674927-ef9d-4198-aee3-db93fb819333",
   "metadata": {
    "editable": true,
    "slideshow": {
     "slide_type": ""
    },
    "tags": []
   },
   "source": [
    "* Data Science usually requires us to create tools.\n",
    "* The following code creates some tools for us to use:\n",
    "    * `count_characters`: Counts the number of symbolic characters per chapter.\n",
    "    * `count_sentences`: Counts the number of periods, question marks, and exclamation points per chapter to provide an estimate of the number of sentences in each chapter."
   ]
  },
  {
   "cell_type": "code",
   "execution_count": null,
   "id": "5645a5b2-ad99-445b-8e89-be6b5edd62b7",
   "metadata": {
    "editable": true,
    "slideshow": {
     "slide_type": "fragment"
    },
    "tags": []
   },
   "outputs": [],
   "source": [
    "def count_characters(book_by_chapters):\n",
    "    '''Return the count of the number of characters \n",
    "    per chapter of the provided book.'''\n",
    "    return [len(s) for s in book_by_chapters]"
   ]
  },
  {
   "cell_type": "code",
   "execution_count": null,
   "id": "8511c430-ee4a-417a-b188-693f59b82f34",
   "metadata": {
    "editable": true,
    "slideshow": {
     "slide_type": "fragment"
    },
    "tags": []
   },
   "outputs": [],
   "source": [
    "def count_sentences(book_by_chapters):\n",
    "    '''Return the count of the number of periods, question marks, \n",
    "    and exclamation points per chapter of the provided book.'''\n",
    "    punctuation = ['.', '?', '!']\n",
    "    num_sentences = np.zeros_like(book_by_chapters, dtype=int)\n",
    "    for char in punctuation:\n",
    "        num_sentences += np.char.count(book_by_chapters, char)\n",
    "    return num_sentences"
   ]
  },
  {
   "cell_type": "markdown",
   "id": "0b4809d8-f755-43a1-8c44-29eab2d6fb37",
   "metadata": {
    "editable": true,
    "slideshow": {
     "slide_type": "fragment"
    },
    "tags": []
   },
   "source": [
    "---"
   ]
  },
  {
   "cell_type": "markdown",
   "id": "1d901615-7e56-4bc4-8af2-a9f955cdfd5b",
   "metadata": {
    "editable": true,
    "slideshow": {
     "slide_type": "subslide"
    },
    "tags": []
   },
   "source": [
    "### Apply the Tools"
   ]
  },
  {
   "cell_type": "markdown",
   "id": "d8093434-e539-4149-98ce-7970bd6ead60",
   "metadata": {
    "editable": true,
    "slideshow": {
     "slide_type": ""
    },
    "tags": []
   },
   "source": [
    "Use the following code to determine the length of every chapter and the number of sentences per chapter of both books."
   ]
  },
  {
   "cell_type": "code",
   "execution_count": null,
   "id": "520afeff-80b7-4bb2-9a26-7e5c34069aec",
   "metadata": {
    "editable": true,
    "slideshow": {
     "slide_type": "fragment"
    },
    "tags": []
   },
   "outputs": [],
   "source": [
    "chapter_lengths_hf = count_characters(huck_finn_chapters)\n",
    "number_of_sentences_hf = count_sentences(huck_finn_chapters)\n",
    "chars_sentences_hf = Table().with_columns(\n",
    "    'Number of Sentences', number_of_sentences_hf,\n",
    "    'Chapter Length', chapter_lengths_hf,\n",
    "    'Book', ['Huck Finn'] * len(huck_finn_chapters))\n",
    "\n",
    "chapter_lengths_lw = count_characters(little_women_chapters)\n",
    "number_of_sentences_lw = count_sentences(little_women_chapters)\n",
    "chars_sentences_lw = Table().with_columns(\n",
    "    'Number of Sentences', number_of_sentences_lw,\n",
    "    'Chapter Length', chapter_lengths_lw,\n",
    "    'Book', ['Little Women'] * len(little_women_chapters))"
   ]
  },
  {
   "cell_type": "markdown",
   "id": "cff03eb7-edce-4638-9d9c-87be5f980964",
   "metadata": {
    "editable": true,
    "slideshow": {
     "slide_type": "fragment"
    },
    "tags": []
   },
   "source": [
    "---"
   ]
  },
  {
   "cell_type": "markdown",
   "id": "c951559c-8dae-41f1-b77e-4ed3c497a782",
   "metadata": {
    "editable": true,
    "slideshow": {
     "slide_type": "subslide"
    },
    "tags": []
   },
   "source": [
    "### Explore the Results"
   ]
  },
  {
   "attachments": {},
   "cell_type": "markdown",
   "id": "60bfd3f9-e7d1-449e-b6ff-f071f57b5b98",
   "metadata": {
    "editable": true,
    "slideshow": {
     "slide_type": ""
    },
    "tags": []
   },
   "source": [
    "* Show the results for Huck Finn and Little Women\n",
    "* Combine the two tables into one table."
   ]
  },
  {
   "cell_type": "code",
   "execution_count": null,
   "id": "548a4b55-8d3e-4c26-84b2-850fdc694e0c",
   "metadata": {},
   "outputs": [],
   "source": [
    "chars_sentences_hf"
   ]
  },
  {
   "cell_type": "code",
   "execution_count": null,
   "id": "214b9975-d5dd-4b65-be22-98012440e766",
   "metadata": {},
   "outputs": [],
   "source": [
    "chars_sentences_lw"
   ]
  },
  {
   "cell_type": "code",
   "execution_count": null,
   "id": "c91593c9-fb67-43a2-b587-e126a65516f5",
   "metadata": {
    "editable": true,
    "slideshow": {
     "slide_type": "fragment"
    },
    "tags": []
   },
   "outputs": [],
   "source": [
    "chars_sentences = chars_sentences_hf.append(chars_sentences_lw)\n",
    "chars_sentences"
   ]
  },
  {
   "cell_type": "markdown",
   "id": "ba525c71-ae59-4167-95c3-6f8dad9b66c4",
   "metadata": {
    "editable": true,
    "slideshow": {
     "slide_type": "fragment"
    },
    "tags": []
   },
   "source": [
    "---"
   ]
  },
  {
   "cell_type": "markdown",
   "id": "b7836fdf-1c79-408e-862b-f1f43b1542bb",
   "metadata": {
    "editable": true,
    "slideshow": {
     "slide_type": "subslide"
    },
    "tags": []
   },
   "source": [
    "### Visualizing the Relationship"
   ]
  },
  {
   "cell_type": "markdown",
   "id": "7924b01c-8ce8-49f8-9c19-18c21ceaecd4",
   "metadata": {
    "editable": true,
    "slideshow": {
     "slide_type": "fragment"
    },
    "tags": []
   },
   "source": [
    "* Use the following code to visualize the relationship between the length of a chapter and the number of sentences in the same chapter.\n",
    "* What do you notice about the pattern of the dots?"
   ]
  },
  {
   "cell_type": "code",
   "execution_count": null,
   "id": "e1a78525-5ce6-4717-be86-1effabaab671",
   "metadata": {
    "editable": true,
    "slideshow": {
     "slide_type": "fragment"
    },
    "tags": []
   },
   "outputs": [],
   "source": [
    "chars_sentences.scatter('Number of Sentences', group='Book')\n",
    "plt.title('Number of Sentence vs. Chapter Length')\n",
    "plt.show()"
   ]
  },
  {
   "cell_type": "markdown",
   "id": "8c4e6108-778c-49ad-91f1-4a888fcd805f",
   "metadata": {
    "editable": true,
    "slideshow": {
     "slide_type": "fragment"
    },
    "tags": []
   },
   "source": [
    "---"
   ]
  },
  {
   "cell_type": "markdown",
   "id": "a64407f3-4b56-40b7-b6d7-80a1b07714e7",
   "metadata": {
    "editable": true,
    "slideshow": {
     "slide_type": "subslide"
    },
    "tags": []
   },
   "source": [
    "### Quantifying the Relationship"
   ]
  },
  {
   "cell_type": "markdown",
   "id": "44d0e41c-a36c-45c5-b2f7-784f90977b08",
   "metadata": {
    "editable": true,
    "slideshow": {
     "slide_type": ""
    },
    "tags": []
   },
   "source": [
    "The following code computes the ratio of the average chapter length with the average number of sentences per chapter for each book."
   ]
  },
  {
   "cell_type": "code",
   "execution_count": null,
   "id": "273f7d6c-6f30-4271-b10a-2487c625b66e",
   "metadata": {
    "editable": true,
    "slideshow": {
     "slide_type": "fragment"
    },
    "tags": []
   },
   "outputs": [],
   "source": [
    "ave_sentence_length_hf = (np.average(chapter_lengths_hf) \n",
    "                          / np.average(number_of_sentences_hf))\n",
    "print(f'Huck Finn has an average approximate sentence \\\n",
    "length of {ave_sentence_length_hf} characters.')"
   ]
  },
  {
   "cell_type": "code",
   "execution_count": null,
   "id": "396569d6-26fe-4e40-ac3f-1444b4956b9c",
   "metadata": {
    "editable": true,
    "slideshow": {
     "slide_type": "fragment"
    },
    "tags": []
   },
   "outputs": [],
   "source": [
    "ave_sentence_length_lw = (np.average(chapter_lengths_lw) \n",
    "                          / np.average(number_of_sentences_lw))\n",
    "print(f'Little Women has an average approximate sentence \\\n",
    "length of {ave_sentence_length_lw} characters.')"
   ]
  },
  {
   "cell_type": "markdown",
   "id": "152f0345-bcf9-420e-8152-f846f148c7ba",
   "metadata": {
    "editable": true,
    "slideshow": {
     "slide_type": "fragment"
    },
    "tags": []
   },
   "source": [
    "---"
   ]
  },
  {
   "cell_type": "markdown",
   "id": "f513fa43-6cfc-43b1-b493-5fff36421978",
   "metadata": {},
   "source": [
    "## What's Next?"
   ]
  },
  {
   "cell_type": "markdown",
   "id": "f429d71d-7da2-4690-88a7-ba6acc45882c",
   "metadata": {
    "editable": true,
    "slideshow": {
     "slide_type": "fragment"
    },
    "tags": []
   },
   "source": [
    "---"
   ]
  },
  {
   "cell_type": "markdown",
   "id": "7b842243-97be-4ad5-8cce-c64c28236876",
   "metadata": {
    "editable": true,
    "slideshow": {
     "slide_type": "slide"
    },
    "tags": []
   },
   "source": [
    "### Keep Asking Questions"
   ]
  },
  {
   "attachments": {},
   "cell_type": "markdown",
   "id": "54946e0e-4e78-4ef0-a661-ca87506369a8",
   "metadata": {
    "editable": true,
    "slideshow": {
     "slide_type": ""
    },
    "tags": []
   },
   "source": [
    "* You have a lot to learn. We'll guide you through the technical details.\n",
    "* For now, be curious and ask bigger questions:\n",
    "    * Is the difference (~ 3 characters) in their averages meaningful?\n",
    "    * Do all books have a similar pattern in their sentence structure?\n",
    "    * etc."
   ]
  },
  {
   "cell_type": "markdown",
   "id": "576fa3da-2caf-4c24-90c2-82eb66c8d38e",
   "metadata": {
    "editable": true,
    "slideshow": {
     "slide_type": "fragment"
    },
    "tags": []
   },
   "source": [
    "---"
   ]
  },
  {
   "cell_type": "markdown",
   "id": "df978904-425b-4d72-8a9d-6a9b0474de13",
   "metadata": {},
   "source": [
    "### A Life Cycle"
   ]
  },
  {
   "cell_type": "markdown",
   "id": "b72cf71e-bc31-4329-a764-57f65558f0d0",
   "metadata": {},
   "source": [
    "A typical cycle involved with this type of work is:\n",
    "\n",
    "\n",
    "```mermaid\n",
    "flowchart LR\n",
    "    A[Ask a Question] --> B[Get Data]\n",
    "    B --> C[Analyze the Data]\n",
    "    C --> A\n",
    "```\n",
    "    \n",
    "The end of each project should prompt another project!"
   ]
  },
  {
   "cell_type": "markdown",
   "id": "8eeec50d-8fad-4148-aa65-4673a6561358",
   "metadata": {
    "editable": true,
    "slideshow": {
     "slide_type": "fragment"
    },
    "tags": []
   },
   "source": [
    "---"
   ]
  },
  {
   "cell_type": "markdown",
   "id": "1e98da30-22a2-49b6-ac81-6e832e23bbb0",
   "metadata": {
    "editable": true,
    "slideshow": {
     "slide_type": "notes"
    },
    "tags": []
   },
   "source": [
    "## Attribution"
   ]
  },
  {
   "cell_type": "markdown",
   "id": "208c461d-47c5-4b40-a5ff-a695081054ae",
   "metadata": {},
   "source": [
    "This content is licensed under the <a href=\"https://creativecommons.org/licenses/by-nc-sa/4.0/\">Creative Commons Attribution-NonCommercial-ShareAlike 4.0 International License (CC BY-NC-SA 4.0)</a> and derived from the <a href=\"https://www.data8.org/\">Data 8: The Foundations of Data Science</a> offered by the University of California, Berkeley.\n",
    "\n",
    "<img src=\"./by-nc-sa.png\" width=100px>"
   ]
  }
 ],
 "metadata": {
  "kernelspec": {
   "display_name": "Python 3 (ipykernel)",
   "language": "python",
   "name": "python3"
  },
  "language_info": {
   "codemirror_mode": {
    "name": "ipython",
    "version": 3
   },
   "file_extension": ".py",
   "mimetype": "text/x-python",
   "name": "python",
   "nbconvert_exporter": "python",
   "pygments_lexer": "ipython3",
   "version": "3.11.9"
  },
  "otter": {
   "OK_FORMAT": true,
   "tests": {}
  }
 },
 "nbformat": 4,
 "nbformat_minor": 5
}
