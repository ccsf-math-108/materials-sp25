{
 "cells": [
  {
   "cell_type": "code",
   "execution_count": null,
   "metadata": {
    "deletable": false,
    "editable": false
   },
   "outputs": [],
   "source": [
    "# Initialize Otter\n",
    "import otter\n",
    "grader = otter.Notebook(\"hw04.ipynb\")"
   ]
  },
  {
   "cell_type": "markdown",
   "metadata": {},
   "source": [
    "<img src=\"./ccsf.png\" alt=\"CCSF Logo\" width=200px style=\"margin:0px -5px\">"
   ]
  },
  {
   "cell_type": "markdown",
   "metadata": {},
   "source": [
    "# Homework 04: Visualizations and Functions"
   ]
  },
  {
   "cell_type": "markdown",
   "metadata": {},
   "source": [
    "## Textbook References"
   ]
  },
  {
   "cell_type": "markdown",
   "metadata": {},
   "source": [
    "* [Chapter 7](https://ccsf-math-108.github.io/textbook/chapters/07/Visualization.html)\n",
    "* [Sections 8.0 and 8.1](https://ccsf-math-108.github.io/textbook/chapters/08/Functions_and_Tables.html)"
   ]
  },
  {
   "cell_type": "markdown",
   "metadata": {},
   "source": [
    "---"
   ]
  },
  {
   "cell_type": "markdown",
   "metadata": {},
   "source": [
    "## Assignment Reminders"
   ]
  },
  {
   "cell_type": "markdown",
   "metadata": {},
   "source": [
    "- 🚨 Make sure to run the code cell at the top of this notebook that starts with `# Initialize Otter` to load the auto-grader.\n",
    "- Your Tasks are categorized as auto-graded (📍) and manually graded (📍🔎).\n",
    "    - For all the auto-graded tasks:\n",
    "        - Replace the `...` in the provided code cell with your own code.\n",
    "        - Run the `grader.check` code cell to run some tests on your code.\n",
    "        - Keep in mind that for homework and project assignments, sometimes there are hidden tests that you will not be able to see the results of that we use for scoring the correctness of your response. **Passing the auto-grader does not guarantee that your answer is correct.**\n",
    "    - For all the manually graded tasks:\n",
    "        - You might need to provide your own response to the provided prompt. Do so by replacing the template text \"_Type your answer here, replacing this text._\" with your own words.\n",
    "        - You might need to produce a graphic or something else using code. Do so by replacing the `...` in the code cell to generate the image, table, etc.\n",
    "        - In either case, review the rubric on the associated <a href=\"https://ccsf.instructure.com\" target=\"_blank\">Canvas</a> Assignment page to understand the scoring criteria.\n",
    "- Throughout this assignment and all future ones, please be sure to not re-assign variables throughout the notebook! _For example, if you use `max_temperature` in your answer to one question, do not reassign it later on. Otherwise, you will fail tests that you thought you were passing previously!_\n",
    "- You may [submit](#Submit-Your-Assignment-to-Canvas) this assignment as many times as you want before the deadline. Your instructor will score the last version you submit once the deadline has passed.\n",
    "- We encourage you to discuss this assignment with others but make sure to write and submit your own code. Refer to the syllabus to learn more about how to learn cooperatively."
   ]
  },
  {
   "cell_type": "markdown",
   "metadata": {},
   "source": [
    "---"
   ]
  },
  {
   "cell_type": "markdown",
   "metadata": {},
   "source": [
    "## Configure the Notebook"
   ]
  },
  {
   "cell_type": "markdown",
   "metadata": {},
   "source": [
    "Run the following cell to configure this Notebook."
   ]
  },
  {
   "cell_type": "code",
   "execution_count": null,
   "metadata": {},
   "outputs": [],
   "source": [
    "import numpy as np\n",
    "from datascience import *\n",
    "import matplotlib\n",
    "%matplotlib inline\n",
    "import matplotlib.pyplot as plt\n",
    "plt.style.use('fivethirtyeight')"
   ]
  },
  {
   "cell_type": "markdown",
   "metadata": {},
   "source": [
    "---"
   ]
  },
  {
   "cell_type": "markdown",
   "metadata": {},
   "source": [
    "## Unemployment\n"
   ]
  },
  {
   "cell_type": "markdown",
   "metadata": {},
   "source": [
    "The [Federal Reserve Bank of St. Louis](https://fred.stlouisfed.org/categories/33509) publishes data about jobs in the US. We've imported data from this site on unemployment rates in the United States. There are many ways of defining unemployment rates and our dataset includes two.\n",
    "1. Non-Employment Index (NEI): This is defined as the percentage of people who are able to work and are looking for a full-time job who can't find a job. \n",
    "2. NEI+PTER (Non-Employment Index and 'Part-Time for Economic Reasons'): This is defined as the percentage of people who are able to work and are looking for a full-time job who can't find a job or are only working at a part-time job.\n",
    "The data that you will use in this assignment contains [quarterly average NEI percentages from 1994 until 2024](https://fred.stlouisfed.org/series/NEIM156SFRBRIC) and [quarterly average NEI+PTER percentages from 1994 until 2024](https://fred.stlouisfed.org/series/NEIPTERM156SFRBRIC)\n",
    "\n",
    "In a previous assignment, you created a table called `unemployment` that contained recent NEI and PTER values. Run the following code cell (which you are not responsible for understanding) to load that data here."
   ]
  },
  {
   "cell_type": "code",
   "execution_count": null,
   "metadata": {},
   "outputs": [],
   "source": [
    "from datetime import datetime, date\n",
    "\n",
    "def update_date_format(date_string):\n",
    "    try:\n",
    "        return datetime.strptime(date_string, '%Y-%m-%d').date()\n",
    "    except ValueError:\n",
    "        return None\n",
    "\n",
    "unemployment = Table.read_table('unemployment.csv')\n",
    "\n",
    "# Check if the 'DATE' column contains strings, then convert to datetime.date\n",
    "if not isinstance(unemployment.column('DATE').item(0), date):\n",
    "    unemployment = unemployment.with_column(\n",
    "        'DATE', unemployment.apply(update_date_format, 'DATE')\n",
    "    )\n",
    "\n",
    "unemployment"
   ]
  },
  {
   "cell_type": "markdown",
   "metadata": {},
   "source": [
    "---"
   ]
  },
  {
   "cell_type": "markdown",
   "metadata": {},
   "source": [
    "### Task 01 📍🔎"
   ]
  },
  {
   "cell_type": "markdown",
   "metadata": {
    "deletable": false,
    "editable": false
   },
   "source": [
    "<!-- BEGIN QUESTION -->\n",
    "\n",
    "Using the `unemployment` table, create an overlaid line plot showing two lines for NEI and PTER unemployment percentages over the dates. The dates should be on the horizontal axes and the percentages should be on the vertical axes.\n",
    "\n",
    "**Note:** Our code below will format the graph for you so that the x-axis shows the year portion of the date for every 3 years starting from 1994.\n",
    "\n",
    "_Points:_ 2"
   ]
  },
  {
   "cell_type": "code",
   "execution_count": null,
   "metadata": {
    "tags": []
   },
   "outputs": [],
   "source": [
    "...\n",
    "\n",
    "# Leave the following code to improve the readability of the horizontal axis tick marks\n",
    "start_date = min(unemployment.column(\"DATE\"))\n",
    "end_date = max(unemployment.column(\"DATE\"))\n",
    "years = [datetime(year, 1, 1) for year in range(start_date.year, end_date.year + 3, 3)]\n",
    "plt.gca().set_xticks(years)\n",
    "plt.gca().set_xticklabels([year.strftime('%Y') for year in years])\n",
    "plt.xticks(rotation=45)\n",
    "plt.title(\"Unemployment Percentages (1994 - 2024)\")\n",
    "plt.show()"
   ]
  },
  {
   "cell_type": "markdown",
   "metadata": {
    "deletable": false,
    "editable": false
   },
   "source": [
    "<!-- END QUESTION -->\n",
    "\n",
    "### Task 02 📍🔎"
   ]
  },
  {
   "cell_type": "markdown",
   "metadata": {
    "deletable": false,
    "editable": false
   },
   "source": [
    "<!-- BEGIN QUESTION -->\n",
    "\n",
    "As you saw early on in the course, visuals produced from data can reveal a story about the data. For this task, review the line graphs above for patterns, identify 3 major events in US history evident in the graph and hypothesize how the events and the patterns in the unemployment data are related.\n",
    "\n",
    "In your response:\n",
    "1. Mention 3 events that occurred between 1994 and 2024.\n",
    "2. Express how those 3 events show up in the patterns you are observing.\n",
    "3. Hypothesize how those events are associated with unemployment data.\n",
    "\n",
    "_Points:_ 2"
   ]
  },
  {
   "cell_type": "markdown",
   "metadata": {},
   "source": [
    "_Type your answer here, replacing this text._"
   ]
  },
  {
   "cell_type": "markdown",
   "metadata": {
    "deletable": false,
    "editable": false
   },
   "source": [
    "<!-- END QUESTION -->\n",
    "\n",
    "---"
   ]
  },
  {
   "cell_type": "markdown",
   "metadata": {},
   "source": [
    "## Birth Rates\n"
   ]
  },
  {
   "cell_type": "markdown",
   "metadata": {},
   "source": [
    "The CSV file `census.csv` contains census-based population estimates for each state on both July 1, 2022 and July 1, 2023. The data was taken from [the US Census 2020-2023 national totals data set](https://www2.census.gov/programs-surveys/popest/datasets/2020-2023/state/totals/NST-EST2023-ALLDATA.csv). \n",
    "\n",
    "Run the following code cell to load that data into a table called `pop`."
   ]
  },
  {
   "cell_type": "code",
   "execution_count": null,
   "metadata": {},
   "outputs": [],
   "source": [
    "pop = Table.read_table('census.csv')\n",
    "pop"
   ]
  },
  {
   "cell_type": "markdown",
   "metadata": {},
   "source": [
    "Here is a brief explanation of the column labels:\n",
    "\n",
    "* `REGION`: Census Region code\n",
    "* `NAME`: State name\n",
    "* `'2022'`: 7/1/2022 resident total population estimate\n",
    "* `'2023'`\" 7/1/2023 resident total population estimate\n",
    "* `'BIRTHS'`: Births in period 7/1/2022 to 6/30/2023\t\t\t\n",
    "* `'DEATHS'`: Deaths in period 7/1/2022 to 6/30/2023\n",
    "* `'MIGRATION'`: Net migration in period 7/1/2022 to 6/30/2023\n",
    "* `'OTHER'`: Residual for period 7/1/2022 to 6/30/2023\n",
    "\n",
    "The last four columns describe the components of the estimated change in population during this time interval. \n",
    "\n",
    "**Note:** For all questions below, assume that the word \"states\" refers to all 52 rows including Puerto Rico & the District of Columbia."
   ]
  },
  {
   "cell_type": "markdown",
   "metadata": {},
   "source": [
    "---"
   ]
  },
  {
   "cell_type": "markdown",
   "metadata": {},
   "source": [
    "### Task 03 📍"
   ]
  },
  {
   "cell_type": "markdown",
   "metadata": {
    "deletable": false,
    "editable": false
   },
   "source": [
    "Assign `us_birth_rate` to the total US annual birth rate during this time interval. The annual birth rate for a year-long period is the total number of births in that period as a proportion of the population size at the start of the time period.\n",
    "\n",
    "**Hint:** Which year corresponds to the start of the time period?\n",
    "\n",
    "\n",
    "_Points:_ 2"
   ]
  },
  {
   "cell_type": "code",
   "execution_count": null,
   "metadata": {
    "tags": []
   },
   "outputs": [],
   "source": [
    "us_birth_rate = ...\n",
    "us_birth_rate"
   ]
  },
  {
   "cell_type": "code",
   "execution_count": null,
   "metadata": {
    "deletable": false,
    "editable": false
   },
   "outputs": [],
   "source": [
    "grader.check(\"task_03\")"
   ]
  },
  {
   "cell_type": "markdown",
   "metadata": {},
   "source": [
    "---"
   ]
  },
  {
   "cell_type": "markdown",
   "metadata": {},
   "source": [
    "### Task 04 📍"
   ]
  },
  {
   "cell_type": "markdown",
   "metadata": {
    "deletable": false,
    "editable": false
   },
   "source": [
    "In the next question, you will be creating a visualization to understand the relationship between birth and death rates for the states. The annual death rate for a year-long period in a state is the total number of deaths in that period for that state as a proportion of the population size at the start of the time period for that state.\n",
    "\n",
    "What visualization is most appropriate to see if there is an association between birth and death rates during a given time interval among the states?\n",
    "\n",
    "1. Line Graph\n",
    "<br>\n",
    "2. Scatter Plot\n",
    "<br>\n",
    "3. Bar Chart\n",
    "\n",
    "Assign `visualization` below to the number corresponding to the correct visualization.\n",
    "\n",
    "\n",
    "_Points:_ 2"
   ]
  },
  {
   "cell_type": "code",
   "execution_count": null,
   "metadata": {
    "tags": []
   },
   "outputs": [],
   "source": [
    "visualization = ..."
   ]
  },
  {
   "cell_type": "code",
   "execution_count": null,
   "metadata": {
    "deletable": false,
    "editable": false
   },
   "outputs": [],
   "source": [
    "grader.check(\"task_04\")"
   ]
  },
  {
   "cell_type": "markdown",
   "metadata": {},
   "source": [
    "---"
   ]
  },
  {
   "cell_type": "markdown",
   "metadata": {},
   "source": [
    "### Task 05 📍🔎"
   ]
  },
  {
   "cell_type": "markdown",
   "metadata": {
    "deletable": false,
    "editable": false
   },
   "source": [
    "<!-- BEGIN QUESTION -->\n",
    "\n",
    "In the code cell below, create a visualization that will help us determine if there is an association between birth rate and death rate during this time interval among the states. \n",
    "\n",
    "It may be helpful to create intermediate variables. In our template, we've introduced the names `birth_rates_2022` and `death_rates_2022` as suggestions. We will not test those names, so you do not need to use them. We will only score the visualization you produce.\n",
    "\n",
    "\n",
    "_Points:_ 2"
   ]
  },
  {
   "cell_type": "code",
   "execution_count": null,
   "metadata": {
    "export_pdf": true,
    "manual_problem_id": "birth_death_rates_graph",
    "tags": []
   },
   "outputs": [],
   "source": [
    "birth_rates_2022 = ...\n",
    "death_rates_2022 = ...\n",
    "\n",
    "# Leave the following code to add a title to your graph\n",
    "plt.title('2022 Death Rate vs. Birth Rate')\n",
    "plt.show()"
   ]
  },
  {
   "cell_type": "markdown",
   "metadata": {
    "deletable": false,
    "editable": false
   },
   "source": [
    "<!-- END QUESTION -->\n",
    "\n",
    "---"
   ]
  },
  {
   "cell_type": "markdown",
   "metadata": {},
   "source": [
    "### Task 06 📍"
   ]
  },
  {
   "cell_type": "markdown",
   "metadata": {
    "deletable": false,
    "editable": false
   },
   "source": [
    "`True` or `False`: There is an association between birth rate and death rate during this time interval among the states. \n",
    "\n",
    "Assign `assoc` to `True` or `False` in the cell below. \n",
    "\n",
    "\n",
    "_Points:_ 2"
   ]
  },
  {
   "cell_type": "code",
   "execution_count": null,
   "metadata": {
    "tags": []
   },
   "outputs": [],
   "source": [
    "assoc = ..."
   ]
  },
  {
   "cell_type": "code",
   "execution_count": null,
   "metadata": {
    "deletable": false,
    "editable": false
   },
   "outputs": [],
   "source": [
    "grader.check(\"task_06\")"
   ]
  },
  {
   "cell_type": "markdown",
   "metadata": {},
   "source": [
    "---"
   ]
  },
  {
   "cell_type": "markdown",
   "metadata": {},
   "source": [
    "## Marginal Histograms\n"
   ]
  },
  {
   "cell_type": "markdown",
   "metadata": {},
   "source": [
    "Consider the following scatter plot: \n",
    "\n",
    "<img src=\"scatter.png\" alt=\"The Scatter plot\" width=40%>\n",
    "\n",
    "The axes of the plot represent values of two variables: $x$ and $y$. "
   ]
  },
  {
   "cell_type": "markdown",
   "metadata": {},
   "source": [
    "Suppose we have a table called `t` that has two columns in it:\n",
    "\n",
    "- `x`: a column containing the x-values of the points in the scatter plot\n",
    "- `y`: a column containing the y-values of the points in the scatter plot"
   ]
  },
  {
   "cell_type": "markdown",
   "metadata": {},
   "source": [
    "Below, you are given two histograms &ndash; one corresponds to column `x` and one corresponds to column `y`."
   ]
  },
  {
   "cell_type": "markdown",
   "metadata": {},
   "source": [
    "### Histogram A"
   ]
  },
  {
   "cell_type": "markdown",
   "metadata": {},
   "source": [
    "<img src=\"histogram_A.png\" alt=\"Histogram C: Asymmetrical histogram with a peak around -0.5 and a right skew\" width=40%>"
   ]
  },
  {
   "cell_type": "markdown",
   "metadata": {},
   "source": [
    "### Histogram B"
   ]
  },
  {
   "cell_type": "markdown",
   "metadata": {},
   "source": [
    "<img src=\"histogram_B.png\" alt=\"Histogram B: Symmetrical histogram with two peaks at -1 and 1 but no data around 0\" width=40%>"
   ]
  },
  {
   "cell_type": "markdown",
   "metadata": {},
   "source": [
    "---"
   ]
  },
  {
   "cell_type": "markdown",
   "metadata": {},
   "source": [
    "---"
   ]
  },
  {
   "cell_type": "markdown",
   "metadata": {},
   "source": [
    "### Task 07 📍"
   ]
  },
  {
   "cell_type": "markdown",
   "metadata": {
    "deletable": false,
    "editable": false
   },
   "source": [
    "Suppose we run `t.hist('y')`. Which histogram does this code produce? Assign `histogram_column_y` to one of the following strings: `'A'` or `'B'`.\n",
    "\n",
    "_Points:_ 2"
   ]
  },
  {
   "cell_type": "code",
   "execution_count": null,
   "metadata": {
    "tags": []
   },
   "outputs": [],
   "source": [
    "histogram_column_y = ..."
   ]
  },
  {
   "cell_type": "code",
   "execution_count": null,
   "metadata": {
    "deletable": false,
    "editable": false
   },
   "outputs": [],
   "source": [
    "grader.check(\"task_07\")"
   ]
  },
  {
   "cell_type": "markdown",
   "metadata": {},
   "source": [
    "---"
   ]
  },
  {
   "cell_type": "markdown",
   "metadata": {},
   "source": [
    "## Uber Movement"
   ]
  },
  {
   "cell_type": "markdown",
   "metadata": {},
   "source": [
    "According to the former [Uber](https://www.uber.com) Movement project page:\n",
    "> Planning great cities requires great data. Uber gathers trip data in more than 10,000 cities across the world. So why not share it? Enter Uber Movement, which gives urban planners access to Uber’s aggregated data to help make informed decisions about our cities.\n",
    "\n",
    "The Uber Movement project and data access have ended, but we still have data from Boston and Manila. Below we load tables containing 200,000 weekday Uber rides in the Manila, Philippines, and Boston, Massachusetts metropolitan areas from the Uber Movement project. The `'sourceid'` and `'dstid'` columns contain codes corresponding to start and end locations of each ride. The `'hod'` column contains codes corresponding to the hour of the day the ride took place. The ride time column contains the length of the ride in minutes.\n",
    "\n",
    "Run the following code cell to create the table `uber` which contains the available Uber ride data for Boston and Manila."
   ]
  },
  {
   "cell_type": "code",
   "execution_count": null,
   "metadata": {},
   "outputs": [],
   "source": [
    "boston = Table.read_table(\"boston.csv\").with_column('city', ['Boston']*200_000)\n",
    "manila = Table.read_table(\"manila.csv\").with_column('city', ['Manila']*200_000)\n",
    "uber = boston.append(manila)\n",
    "uber"
   ]
  },
  {
   "cell_type": "markdown",
   "metadata": {},
   "source": [
    "---"
   ]
  },
  {
   "cell_type": "markdown",
   "metadata": {
    "tags": []
   },
   "source": [
    "### Task 08 📍🔎"
   ]
  },
  {
   "cell_type": "markdown",
   "metadata": {
    "deletable": false,
    "editable": false
   },
   "source": [
    "<!-- BEGIN QUESTION -->\n",
    "\n",
    "Using the `uber` table, produce an overlaid histogram that visualizes the distributions of all ride times in Boston and Manila. Use the `group='city'` argument with the [`hist` table method](https://datascience.readthedocs.io/en/master/_autosummary/datascience.tables.Table.hist.html#datascience.tables.Table.hist) to accomplish this. Additionally, use the given bins in `equal_bins` by utilizing the `bins` argument for the `hist` table method.\n",
    "\n",
    "_Points:_ 2"
   ]
  },
  {
   "cell_type": "code",
   "execution_count": null,
   "metadata": {
    "tags": []
   },
   "outputs": [],
   "source": [
    "equal_bins = np.arange(0, 120, 5)\n",
    "...\n",
    "\n",
    "# Leave the following code to add a title to your histogram\n",
    "plt.title('Distribution of Boston and Manila Ride Times')\n",
    "plt.show()"
   ]
  },
  {
   "cell_type": "markdown",
   "metadata": {
    "deletable": false,
    "editable": false
   },
   "source": [
    "<!-- END QUESTION -->\n",
    "\n",
    "---"
   ]
  },
  {
   "cell_type": "markdown",
   "metadata": {
    "tags": []
   },
   "source": [
    "### Task 09📍🔎"
   ]
  },
  {
   "cell_type": "markdown",
   "metadata": {
    "deletable": false,
    "editable": false
   },
   "source": [
    "<!-- BEGIN QUESTION -->\n",
    "\n",
    "Why do you think the distributions for Boston and Manila are different? \n",
    "\n",
    "For this task:\n",
    "* Form a hypothesis that identifies external factors of the two cities that may be causing the difference!\n",
    "* Provide at least one reference (link) to support your claim.\n",
    "\n",
    "_Points:_ 2"
   ]
  },
  {
   "cell_type": "markdown",
   "metadata": {},
   "source": [
    "_Type your answer here, replacing this text._"
   ]
  },
  {
   "cell_type": "markdown",
   "metadata": {
    "deletable": false,
    "editable": false
   },
   "source": [
    "<!-- END QUESTION -->\n",
    "\n",
    "---"
   ]
  },
  {
   "cell_type": "markdown",
   "metadata": {
    "tags": []
   },
   "source": [
    "### Task 10 📍🔎"
   ]
  },
  {
   "cell_type": "markdown",
   "metadata": {
    "deletable": false,
    "editable": false
   },
   "source": [
    "<!-- BEGIN QUESTION -->\n",
    "\n",
    "From the histograms, it looks like there are more 20 to 40-minute Uber rides in Manila compared to Boston. Histograms reflect density, so be careful of interpreting the heights of the bars as counts. It is okay to compare the histograms directly because they both represent 200,000 data points. For this task, produce a bar chart showing that Manila does have more 20 to 40-minute Uber rides than Boston. \n",
    "\n",
    "**Note:** For this task, it doesn't matter if you include 40-minute rides in your count or not.\n",
    "\n",
    "**Hint:** Consider using the [`group` table method](https://datascience.readthedocs.io/en/master/_autosummary/datascience.tables.Table.group.html).\n",
    "\n",
    "_Points:_ 2"
   ]
  },
  {
   "cell_type": "code",
   "execution_count": null,
   "metadata": {
    "tags": []
   },
   "outputs": [],
   "source": [
    "...\n",
    "\n",
    "# Leave the following code to add a title to your histogram\n",
    "plt.title('Number of Uber Rides between 20 and 40 Minutes')\n",
    "plt.show()"
   ]
  },
  {
   "cell_type": "markdown",
   "metadata": {
    "deletable": false,
    "editable": false
   },
   "source": [
    "<!-- END QUESTION -->\n",
    "\n",
    "---"
   ]
  },
  {
   "cell_type": "markdown",
   "metadata": {},
   "source": [
    "## NYC Motor Vehicle Collisions - Crashes"
   ]
  },
  {
   "cell_type": "markdown",
   "metadata": {},
   "source": [
    "The data in `'nyc_crashes_2024_sample.csv'` contains information from a random sample of 1,000 police-reported motor vehicle collisions in NYC during 2024. The police report ([MV104-AN](https://www.nhtsa.gov/sites/nhtsa.dot.gov/files/documents/ny_overlay_mv-104an_rev05_2004.pdf)) is required to be filled out for collisions where someone is injured or killed, or where there is at least $1000 worth of damage.\n",
    "\n",
    "You can read more about the data at the [NYC OpenData page: Motor Vehicle Collisions - Crashes](https://data.cityofnewyork.us/Public-Safety/Motor-Vehicle-Collisions-Crashes/h9gi-nx95/about_data).\n",
    "\n",
    "Run the following code cell to create the table `nyc` from that `CSV` file."
   ]
  },
  {
   "cell_type": "code",
   "execution_count": null,
   "metadata": {},
   "outputs": [],
   "source": [
    "nyc = Table.read_table('nyc_crashes_2024_sample.csv')\n",
    "nyc"
   ]
  },
  {
   "cell_type": "markdown",
   "metadata": {},
   "source": [
    "A major part of a data analyst's workload involves prepping the data for analysis. Some refer to this process as cleaning the data. In the next few tasks, you'll use what you've learned about making and applying functions to start to clean up these data."
   ]
  },
  {
   "cell_type": "markdown",
   "metadata": {},
   "source": [
    "---"
   ]
  },
  {
   "cell_type": "markdown",
   "metadata": {},
   "source": [
    "It is very common for data sets to be incomplete. Notice the many `nan` values throughout the table. `nan` refers to \"not a number\" and is a generic placeholder for missing data. You might see this expressed in a variety of other ways such as `NaN`. For example, in the `'borough'` and `'latitude'` columns, you should see `nan` expressed in the data. A tricky thing about cleaning up the `nan` values in `nyc` is that the data type of the `nan` value depends on the data type of the data in the related column. In general, you should know the data type of a column before working with its values."
   ]
  },
  {
   "cell_type": "markdown",
   "metadata": {
    "tags": []
   },
   "source": [
    "### Task 11 📍"
   ]
  },
  {
   "cell_type": "markdown",
   "metadata": {
    "deletable": false,
    "editable": false
   },
   "source": [
    "What is the data type for the `nan` values in the `'borough'` column? Assign `borough_nan_type` to the integer 1, 2, 3, or 4 corresponding to your response option from below:\n",
    "\n",
    "1. String\n",
    "2. Integer\n",
    "3. Float\n",
    "4. None of the above\n",
    "\n",
    "**Hint**: You can use the `type` function to check the data type of an item from an array.\n",
    "\n",
    "_Points:_ 2"
   ]
  },
  {
   "cell_type": "code",
   "execution_count": null,
   "metadata": {
    "tags": []
   },
   "outputs": [],
   "source": [
    "borough_nan_type = ...\n",
    "borough_nan_type"
   ]
  },
  {
   "cell_type": "code",
   "execution_count": null,
   "metadata": {
    "deletable": false,
    "editable": false
   },
   "outputs": [],
   "source": [
    "grader.check(\"task_11\")"
   ]
  },
  {
   "cell_type": "markdown",
   "metadata": {},
   "source": [
    "---"
   ]
  },
  {
   "cell_type": "markdown",
   "metadata": {
    "tags": []
   },
   "source": [
    "### Task 12 📍"
   ]
  },
  {
   "cell_type": "markdown",
   "metadata": {
    "deletable": false,
    "editable": false
   },
   "source": [
    "What is the data type for the `nan` values in the `'latitude'` column? Assign `latitude_nan_type` to the integer 1, 2, 3, or 4 corresponding to your response option from below:\n",
    "\n",
    "1. String (`str`)\n",
    "2. Integer (`int`)\n",
    "3. Float (`float`)\n",
    "4. None of the above\n",
    "\n",
    "**Hint**: You can use the `type` function to check the data type of an item from an array.\n",
    "\n",
    "_Points:_ 2"
   ]
  },
  {
   "cell_type": "code",
   "execution_count": null,
   "metadata": {
    "tags": []
   },
   "outputs": [],
   "source": [
    "latitude_nan_type = ...\n",
    "latitude_nan_type"
   ]
  },
  {
   "cell_type": "code",
   "execution_count": null,
   "metadata": {
    "deletable": false,
    "editable": false
   },
   "outputs": [],
   "source": [
    "grader.check(\"task_12\")"
   ]
  },
  {
   "cell_type": "markdown",
   "metadata": {
    "slideshow": {
     "slide_type": "fragment"
    }
   },
   "source": [
    "---"
   ]
  },
  {
   "cell_type": "markdown",
   "metadata": {},
   "source": [
    "Aside from the `nan` values, the following code shows that the `'latitude'` and `'longitude'` columns contain `0` values, which doesn't make sense because [New York City is bounded](https://en.wikipedia.org/wiki/Module:Location_map/data/USA_New_York_City) by the latitude values of 40.49 to 40.92 and the longitude values of -74.27 to -73.68. The center of the city is at (40.705, -73.975)."
   ]
  },
  {
   "cell_type": "code",
   "execution_count": null,
   "metadata": {},
   "outputs": [],
   "source": [
    "nyc.sort('latitude').show(5)"
   ]
  },
  {
   "cell_type": "markdown",
   "metadata": {},
   "source": [
    "One way to handle missing values is to remove the rows for which certain columns have missing values. \n",
    "\n",
    "We created the following function for you that determines if a latitude and longitude combination could possibly be in New York City. The function returns a `bool` value depending on whether or not the coordinates are within the NYC boundaries. You'll learn about the code in this function soon!"
   ]
  },
  {
   "cell_type": "code",
   "execution_count": null,
   "metadata": {},
   "outputs": [],
   "source": [
    "def in_nyc(lat, long):\n",
    "    \"\"\"\n",
    "    This function checks if the latitude (float) and longitude (float) provided fall within \n",
    "    the approximate boundaries of New York City. The function returns True if the latitude is between \n",
    "    40.49 and 40.92 and the longitude is between -74.27 and -73.68. Otherwise, it returns False.\n",
    "\n",
    "    Examples:\n",
    "    >>> in_nyc(40.705, -73.975)\n",
    "    True\n",
    "\n",
    "    >>> in_nyc(27.000, -73.975)\n",
    "    False\n",
    "    \"\"\"\n",
    "    \n",
    "    if 40.49 <= lat <= 40.92 and -74.27 <= long <= -73.68:\n",
    "        return True\n",
    "    else:\n",
    "        return False"
   ]
  },
  {
   "cell_type": "markdown",
   "metadata": {},
   "source": [
    "Notice how the function handles `nan` values:"
   ]
  },
  {
   "cell_type": "code",
   "execution_count": null,
   "metadata": {},
   "outputs": [],
   "source": [
    "in_nyc(np.nan, -73.975)"
   ]
  },
  {
   "cell_type": "markdown",
   "metadata": {},
   "source": [
    "Let's use this tool to clean up the data regarding the latitude and longitude values."
   ]
  },
  {
   "cell_type": "markdown",
   "metadata": {
    "tags": []
   },
   "source": [
    "### Task 13 📍"
   ]
  },
  {
   "cell_type": "markdown",
   "metadata": {
    "deletable": false,
    "editable": false
   },
   "source": [
    "Apply the `in_nyc` function to `nyc` to create the table `nyc_clean_1` that contains only the rows in `nyc` where the latitude and longitude values are possible. In the end, `nyc_clean_1` should have the same columns as `nyc` but with fewer rows.\n",
    "\n",
    "**Notes**: \n",
    "1. Remember from a recent lecture that you can apply a function with multiple arguments.\n",
    "2. To remove the unwanted rows, try adding a column of the `bool` values to the table and using `where` to filter based on the flawed latitude and longitude values. Don't forget to remove that added column in your final table.\n",
    "\n",
    "_Points:_ 4"
   ]
  },
  {
   "cell_type": "code",
   "execution_count": null,
   "metadata": {
    "tags": []
   },
   "outputs": [],
   "source": [
    "in_nyc_bools = ...\n",
    "nyc_clean_1 = ...\n",
    "nyc_clean_1"
   ]
  },
  {
   "cell_type": "code",
   "execution_count": null,
   "metadata": {
    "deletable": false,
    "editable": false
   },
   "outputs": [],
   "source": [
    "grader.check(\"task_13\")"
   ]
  },
  {
   "cell_type": "markdown",
   "metadata": {},
   "source": [
    "---"
   ]
  },
  {
   "cell_type": "markdown",
   "metadata": {},
   "source": [
    "### PARKWAY vs. PKWY"
   ]
  },
  {
   "cell_type": "markdown",
   "metadata": {},
   "source": [
    "A classic data cleaning problem involves handling multiple representations of the same thing. For example, run the following code to see that Grand Central Parkway is expressed 2 times as `'GRAND CENTRAL PARKWAY'` and 9 times as 'GRAND CENTRAL PKWY' in the `'on_street_name'` column. For reference, the `'on_street_name'` column gives the street on which the collision occurred according to the [NYC OpenData reference](https://data.cityofnewyork.us/Public-Safety/Motor-Vehicle-Collisions-Crashes/h9gi-nx95/about_data).\n",
    " "
   ]
  },
  {
   "cell_type": "code",
   "execution_count": null,
   "metadata": {
    "scrolled": true
   },
   "outputs": [],
   "source": [
    "(nyc_clean_1\n",
    " .where('on_street_name', are.containing('GRAND CENTRAL'))\n",
    " .group('on_street_name'))"
   ]
  },
  {
   "cell_type": "markdown",
   "metadata": {},
   "source": [
    "`'PKWY'` is an abbreviation for `'PARKWAY'`. Now, we'll work on cleaning up this issue in the data, because in the end, we should be acknowledging that there are a total of 12 incidents on this street."
   ]
  },
  {
   "cell_type": "markdown",
   "metadata": {
    "tags": []
   },
   "source": [
    "### Task 14 📍"
   ]
  },
  {
   "cell_type": "markdown",
   "metadata": {
    "deletable": false,
    "editable": false
   },
   "source": [
    "Write a function called `update_PKWY` that takes in a string as input, replaces any instance (sub-string) of `'PKWY'` with `'PARKWAY'`, and returns the updated string.\n",
    "\n",
    "**Notes:**\n",
    "* Remember that `replace` function that you've used before in this class when working with strings? That could be helpful here!\n",
    "* As a test case, running `update_PKWY('GRAND CENTRAL PKWY')` should return `'GRAND CENTRAL PARKWAY'`.\n",
    "\n",
    "_Points:_ 2"
   ]
  },
  {
   "cell_type": "code",
   "execution_count": null,
   "metadata": {
    "tags": []
   },
   "outputs": [],
   "source": [
    "..."
   ]
  },
  {
   "cell_type": "code",
   "execution_count": null,
   "metadata": {
    "deletable": false,
    "editable": false
   },
   "outputs": [],
   "source": [
    "grader.check(\"task_14\")"
   ]
  },
  {
   "cell_type": "markdown",
   "metadata": {},
   "source": [
    "---"
   ]
  },
  {
   "cell_type": "markdown",
   "metadata": {
    "tags": []
   },
   "source": [
    "### Task 15 📍"
   ]
  },
  {
   "cell_type": "markdown",
   "metadata": {
    "deletable": false,
    "editable": false
   },
   "source": [
    "Using `update_PWKY`, replace every instance of `PWKY` in the `'on_street_name'`, `'off_street_name'`, and `'cross_street_name`' columns of `nyc_clean_1` with `'PARKWAY'`. Save the updated version of `nyc_clean_1` as `nyc_cleanish`.\n",
    "\n",
    "**Notes**: \n",
    "* We recommend that you break up this task into multiple steps (lines of code).\n",
    "* Try using the `apply` table method to update the street names. If you have any coding experience, you might be tempted to use a loop of some kind. We don't recommend this because loops are generally inefficient for working with large data sets. If you don't know what a loop is, don't worry! You'll learn about those in this class.\n",
    "* Also, remember that the `with_columns` table method will replace the information in an existing column with new information if you use the same column label.\n",
    "\n",
    "_Points:_ 4"
   ]
  },
  {
   "cell_type": "code",
   "execution_count": null,
   "metadata": {
    "tags": []
   },
   "outputs": [],
   "source": [
    "nyc_cleanish = ..."
   ]
  },
  {
   "cell_type": "code",
   "execution_count": null,
   "metadata": {
    "deletable": false,
    "editable": false
   },
   "outputs": [],
   "source": [
    "grader.check(\"task_15\")"
   ]
  },
  {
   "cell_type": "markdown",
   "metadata": {},
   "source": [
    "---"
   ]
  },
  {
   "cell_type": "markdown",
   "metadata": {},
   "source": [
    "There is still a lot to clean up in this data set and a lot of ways we could fill in missing information. For example, it turns out that the entire route of the [Grand Central Parkway]((https://en.wikipedia.org/wiki/Grand_Central_Parkway)) is contained within the borough of Queens. This means that we can fill in some of the missing `'borough'` values using this observation. However, that is enough for this assignment."
   ]
  },
  {
   "cell_type": "markdown",
   "metadata": {},
   "source": [
    "---"
   ]
  },
  {
   "cell_type": "markdown",
   "metadata": {},
   "source": [
    "## A Map of Crashes by Borough"
   ]
  },
  {
   "cell_type": "markdown",
   "metadata": {},
   "source": [
    "To wrap up, here is a map of the crashes by borough using the latitude and longitude values you helped clean up! We just dropped the rows in the table with missing borough information. There is nothing you need to do with this expect preview some upcoming content in the code."
   ]
  },
  {
   "cell_type": "code",
   "execution_count": null,
   "metadata": {},
   "outputs": [],
   "source": [
    "nyc_cleanish = nyc_cleanish.where(nyc_cleanish.column('borough') != 'nan')\n",
    "\n",
    "colors = (nyc_cleanish\n",
    "          .group('borough')\n",
    "          .drop('count')\n",
    "          .with_column('color', \n",
    "                       make_array('blue', 'red', 'green', 'orange', 'purple')))\n",
    "\n",
    "nyc_map = (nyc_cleanish\n",
    "           .join('borough', colors)\n",
    "           .select('latitude', 'longitude', 'borough', 'color')\n",
    "           .relabeled('latitude', 'lat')\n",
    "           .relabeled('longitude', 'long')\n",
    "           .relabeled('borough', 'labels'))\n",
    "\n",
    "Marker.map_table(nyc_map)"
   ]
  },
  {
   "cell_type": "markdown",
   "metadata": {},
   "source": [
    "---"
   ]
  },
  {
   "cell_type": "markdown",
   "metadata": {},
   "source": [
    "## Submit Your Assignment to Canvas"
   ]
  },
  {
   "cell_type": "markdown",
   "metadata": {},
   "source": [
    "Follow these steps to submit your homework assignment:\n",
    "\n",
    "1. **Review the Rubric:** View the rubric on the associated Canvas Assignment page to understand the scoring criteria.\n",
    "2. **Run the Auto-Grader:** Ensure you have executed the code cell containing the command `grader.check_all()` to run all tests for auto-graded tasks marked with 📍. This command will execute all auto-grader tests sequentially.\n",
    "3. **Complete Manually Graded Tasks:** Verify that you have responded to all the manually graded tasks marked with 📍🔎.\n",
    "4. **Save Your Work:** In the notebook's Toolbar, go to `File -> Save Notebook` to save your work and create a checkpoint.\n",
    "5. **Download the Notebook:** In the notebook's Toolbar, go to `File -> Download IPYNB` to download the notebook (`.ipynb`) file.\n",
    "6. **Upload to Canvas:** On the Canvas Assignment page, click \"Start Assignment\" or \"New Attempt\" to upload the downloaded `.ipynb` file."
   ]
  },
  {
   "cell_type": "markdown",
   "metadata": {},
   "source": [
    "---"
   ]
  },
  {
   "cell_type": "markdown",
   "metadata": {
    "editable": true,
    "slideshow": {
     "slide_type": "notes"
    },
    "tags": []
   },
   "source": [
    "## Attribution"
   ]
  },
  {
   "cell_type": "markdown",
   "metadata": {},
   "source": [
    "This content is licensed under the <a href=\"https://creativecommons.org/licenses/by-nc-sa/4.0/\">Creative Commons Attribution-NonCommercial-ShareAlike 4.0 International License (CC BY-NC-SA 4.0)</a> and derived from the <a href=\"https://www.data8.org/\">Data 8: The Foundations of Data Science</a> offered by the University of California, Berkeley.\n",
    "\n",
    "<img src=\"./by-nc-sa.png\" width=100px>"
   ]
  },
  {
   "cell_type": "markdown",
   "metadata": {
    "deletable": false,
    "editable": false
   },
   "source": [
    "---\n",
    "\n",
    "To double-check your work, the cell below will rerun all of the autograder tests."
   ]
  },
  {
   "cell_type": "code",
   "execution_count": null,
   "metadata": {
    "deletable": false,
    "editable": false
   },
   "outputs": [],
   "source": [
    "grader.check_all()"
   ]
  }
 ],
 "metadata": {
  "hide_input": false,
  "kernelspec": {
   "display_name": "Python 3 (ipykernel)",
   "language": "python",
   "name": "python3"
  },
  "language_info": {
   "codemirror_mode": {
    "name": "ipython",
    "version": 3
   },
   "file_extension": ".py",
   "mimetype": "text/x-python",
   "name": "python",
   "nbconvert_exporter": "python",
   "pygments_lexer": "ipython3",
   "version": "3.11.9"
  },
  "otter": {
   "OK_FORMAT": true,
   "assignment_name": "hw04_sp25",
   "tests": {
    "task_03": {
     "name": "task_03",
     "points": 2,
     "suites": [
      {
       "cases": [
        {
         "code": ">>> 0 < us_birth_rate < 1\nTrue",
         "failure_message": "❌ Make sure you provide a value betwen 0 and 1.",
         "hidden": false,
         "locked": false,
         "points": 1,
         "success_message": "✅ You have provided a possible value."
        }
       ],
       "scored": true,
       "setup": "",
       "teardown": "",
       "type": "doctest"
      }
     ]
    },
    "task_04": {
     "name": "task_04",
     "points": 2,
     "suites": [
      {
       "cases": [
        {
         "code": ">>> visualization in {1, 2, 3}\nTrue",
         "failure_message": "❌ Make sure you provide 1, 2, or 3 as a value.",
         "hidden": false,
         "locked": false,
         "points": 1,
         "success_message": "✅ You have provided a possible value."
        }
       ],
       "scored": true,
       "setup": "",
       "teardown": "",
       "type": "doctest"
      }
     ]
    },
    "task_06": {
     "name": "task_06",
     "points": 2,
     "suites": [
      {
       "cases": [
        {
         "code": ">>> type(assoc) is bool\nTrue",
         "failure_message": "❌ You didn't provide a possible answer. Use True or False.",
         "hidden": false,
         "locked": false,
         "points": 1,
         "success_message": "✅ You provided a possible answer."
        }
       ],
       "scored": true,
       "setup": "",
       "teardown": "",
       "type": "doctest"
      }
     ]
    },
    "task_07": {
     "name": "task_07",
     "points": 2,
     "suites": [
      {
       "cases": [
        {
         "code": ">>> histogram_column_y in {'A', 'B'}\nTrue",
         "failure_message": "❌ Make sure you assign histogram_column_y to either 'A' or 'B'.",
         "hidden": false,
         "locked": false,
         "points": 1,
         "success_message": "✅ You provided a possible answer."
        }
       ],
       "scored": true,
       "setup": "",
       "teardown": "",
       "type": "doctest"
      }
     ]
    },
    "task_11": {
     "name": "task_11",
     "points": 2,
     "suites": [
      {
       "cases": [
        {
         "code": ">>> borough_nan_type in {1, 2, 3, 4}\nTrue",
         "failure_message": "❌ borough_nan_type should be assigned to an integer 1, 2, 3, or 4.",
         "hidden": false,
         "locked": false,
         "points": 1,
         "success_message": "✅ borough_nan_type is assigned to an integer 1, 2, 3, or 4."
        }
       ],
       "scored": true,
       "setup": "",
       "teardown": "",
       "type": "doctest"
      }
     ]
    },
    "task_12": {
     "name": "task_12",
     "points": 2,
     "suites": [
      {
       "cases": [
        {
         "code": ">>> latitude_nan_type in {1, 2, 3, 4}\nTrue",
         "failure_message": "❌ latitude_nan_type should be assigned to an integer 1, 2, 3, or 4.",
         "hidden": false,
         "locked": false,
         "points": 1,
         "success_message": "✅ latitude_nan_type is assigned to an integer 1, 2, 3, or 4."
        }
       ],
       "scored": true,
       "setup": "",
       "teardown": "",
       "type": "doctest"
      }
     ]
    },
    "task_13": {
     "name": "task_13",
     "points": 4,
     "suites": [
      {
       "cases": [
        {
         "code": ">>> isinstance(nyc_clean_1, Table) and set(nyc_clean_1.labels) == set(nyc.labels)\nTrue",
         "failure_message": "❌ nyc_clean_1 is not a table with the same columns as nyc.",
         "hidden": false,
         "locked": false,
         "points": 1,
         "success_message": "✅ nyc_clean_1 is a table with the same columns as nyc."
        }
       ],
       "scored": true,
       "setup": "",
       "teardown": "",
       "type": "doctest"
      }
     ]
    },
    "task_14": {
     "name": "task_14",
     "points": 2,
     "suites": [
      {
       "cases": [
        {
         "code": ">>> 'update_PKWY' in globals() and callable(update_PKWY)\nTrue",
         "failure_message": "❌ update_PKWY is not callable.",
         "hidden": false,
         "locked": false,
         "points": 0.5,
         "success_message": "✅ update_PKWY is callable."
        },
        {
         "code": ">>> update_PKWY('GRAND CENTRAL PKWY') == 'GRAND CENTRAL PARKWAY'\nTrue",
         "failure_message": "❌ update_PKWY doesn't work correctly with GRAND CENTRAL PKWY.",
         "hidden": false,
         "locked": false,
         "points": 0.5,
         "success_message": "✅ update_PKWY works correctly with GRAND CENTRAL PKWY."
        }
       ],
       "scored": true,
       "setup": "",
       "teardown": "",
       "type": "doctest"
      }
     ]
    },
    "task_15": {
     "name": "task_15",
     "points": 4,
     "suites": [
      {
       "cases": [
        {
         "code": ">>> isinstance(nyc_cleanish, Table) and set(nyc_cleanish.labels) == set(nyc.labels)\nTrue",
         "failure_message": "❌ nyc_cleanish is not a Table with the same columns as nyc.",
         "hidden": false,
         "locked": false,
         "points": 0.5,
         "success_message": "✅ nyc_cleanish is a Table with the same columns as nyc."
        },
        {
         "code": ">>> 'GRAND CENTRAL PKWY' not in nyc_cleanish.column('on_street_name')\nTrue",
         "failure_message": "❌ 'GRAND CENTRAL PKWY' is in the on_street_name column of nyc_cleanish.",
         "hidden": false,
         "locked": false,
         "points": 0.5,
         "success_message": "✅ 'GRAND CENTRAL PKWY' is not in the on_street_name column of nyc_cleanish."
        }
       ],
       "scored": true,
       "setup": "",
       "teardown": "",
       "type": "doctest"
      }
     ]
    }
   }
  }
 },
 "nbformat": 4,
 "nbformat_minor": 4
}
